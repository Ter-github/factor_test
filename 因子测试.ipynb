{
 "cells": [
  {
   "cell_type": "code",
   "execution_count": 1,
   "metadata": {},
   "outputs": [],
   "source": [
    "from factor_repository.repositories import FactorRepositorySP\n",
    "from factor_repository.repositories import FactorRepositoryAG\n",
    "from factor_repository.repositories import FactorRepositoryCU\n",
    "from factor_repository.repositories import FactorRepositoryFU\n",
    "from factor_repository.repositories import FactorRepositoryHC\n",
    "from factor_repository.repositories import FactorRepositoryRU\n",
    "from factor_repository.repositories import FactorRepositoryRB\n",
    "from factor_repository.repositories import FactorRepositoryTF\n",
    "\n",
    "\n",
    "import numpy as np\n",
    "import pandas as pd"
   ]
  },
  {
   "cell_type": "code",
   "execution_count": 2,
   "metadata": {},
   "outputs": [],
   "source": [
    "import warnings\n",
    "warnings.filterwarnings(\"ignore\")"
   ]
  },
  {
   "cell_type": "code",
   "execution_count": 3,
   "metadata": {},
   "outputs": [],
   "source": [
    "fr = FactorRepositoryAG(20230701, 20240701, src_root=r'C:\\Ter\\source')\n",
    "# fr = FactorRepositorySP(20230701, 20240701, src_root=r'C:\\Ter\\source')\n",
    "# fr = FactorRepositoryCU(20230701, 20240701, src_root=r'C:\\Ter\\source')\n",
    "# fr = FactorRepositoryFU(20230701, 20240701, src_root=r'C:\\Ter\\source')\n",
    "# fr = FactorRepositoryHC(20230701, 20240701, src_root=r'C:\\Ter\\source')\n",
    "# fr = FactorRepositoryRB(20230701, 20240701, src_root=r'C:\\Ter\\source')\n",
    "# fr = FactorRepositoryRU(20230701, 20240701, src_root=r'C:\\Ter\\source')\n"
   ]
  },
  {
   "cell_type": "code",
   "execution_count": 4,
   "metadata": {},
   "outputs": [],
   "source": [
    "# def BAV_diff_transform(tick_data, div=15,window_size=10):\n",
    "#     tick_data['BAV_diff'] = tick_data['BidVolume1'].diff(window_size) - tick_data['AskVolume1'].diff(window_size)\n",
    "#     # tick_data['BAV_diff_transform'] = tick_data['BAV_diff']\n",
    "#     # tick_data['BAV_diff_transform'].fillna(0,inplace=True)\n",
    "#     tick_data['BAV_diff_transform'] = (\n",
    "#     1\n",
    "#     + 0.3 * (np.abs(tick_data['BAV_diff']) >= 6*div)\n",
    "#     * np.log(np.abs(tick_data['BAV_diff'] / (6*div)))\n",
    "# ) * (1 / (1 + np.exp(-tick_data['BAV_diff'] / div)) - 0.5)\n",
    "#     tick_data['BAV_diff_transform'].fillna(0,inplace=True)"
   ]
  },
  {
   "cell_type": "code",
   "execution_count": 5,
   "metadata": {},
   "outputs": [],
   "source": [
    "def weighted_price(df):\n",
    "    weighted = (df['AskPrice1']*df['BidVolume1'] + df['BidPrice1']*df['AskVolume1'])/(df['BidVolume1'] + df['AskVolume1'])\n",
    "    weighted = weighted.astype(float)\n",
    "    return weighted\n",
    "def weighted_factor(table):\n",
    "    table['weighted_price'] = weighted_price(table)\n",
    "    table['weighted_factor'] = table['weighted_price'] - table['mid_price']"
   ]
  },
  {
   "cell_type": "code",
   "execution_count": 6,
   "metadata": {},
   "outputs": [],
   "source": [
    "def std_factor(table,factor_name):\n",
    "    table[factor_name] = (table[factor_name] - table[factor_name].mean())/table[factor_name].std()"
   ]
  },
  {
   "cell_type": "code",
   "execution_count": 7,
   "metadata": {},
   "outputs": [],
   "source": [
    "def process_fr(table,factor):\n",
    "    mask = (table[['AskPrice1','AskPrice2','AskPrice3','AskPrice4','AskPrice5','BidPrice1','BidPrice2','BidPrice3','BidPrice4','BidPrice5']]==0).any(axis=1)\n",
    "    table[factor] = table[factor].where(~mask,0)"
   ]
  },
  {
   "cell_type": "code",
   "execution_count": 8,
   "metadata": {},
   "outputs": [],
   "source": [
    "def BAV_diff_transform(tick_data, div=15):\n",
    "    tick_data['BAV_diff'] = tick_data['BidVolume1'].diff() - tick_data['AskVolume1'].diff()\n",
    "    # tick_data['BAV_diff_transform'] = tick_data['BAV_diff']\n",
    "    # tick_data['BAV_diff_transform'].fillna(0,inplace=True)\n",
    "    tick_data['BAV_diff_transform'] = (\n",
    "    1\n",
    "    + 0.2 * (np.abs(tick_data['BAV_diff']) >= 6*div)\n",
    "    * np.log(np.abs(tick_data['BAV_diff'] / (6*div)))\n",
    ") * (1 / (1 + np.exp(-tick_data['BAV_diff'] / div)) - 0.5)\n",
    "    tick_data['BAV_diff_transform'].fillna(0,inplace=True)\n",
    "    process_fr(tick_data,'BAV_diff_transform')\n"
   ]
  },
  {
   "cell_type": "code",
   "execution_count": 9,
   "metadata": {},
   "outputs": [],
   "source": [
    "def slope_factor(table):\n",
    "    table['Bid_Slope'] = table['BidVolume1'].diff()/(table['BidPrice1'].diff()+0.001)\n",
    "    table['std_Bid_Slope'] = (table['Bid_Slope'] - table['Bid_Slope'].rolling(120).mean())/table['Bid_Slope'].rolling(120).std()\n",
    "    table['Ask_Slope'] = table['AskVolume1'].diff()/(table['AskPrice1'].diff()+0.001)\n",
    "    table['std_Ask_Slope'] = (table['Ask_Slope'] - table['Ask_Slope'].rolling(120).mean())/table['Ask_Slope'].rolling(120).std()\n",
    "    table['slope_factor'] = table['std_Bid_Slope'] - table['std_Ask_Slope']\n",
    "    table['slope_factor'].replace([np.inf, -np.inf], np.nan, inplace=True)\n",
    "    table['slope_factor'].fillna(0,inplace=True)\n"
   ]
  },
  {
   "cell_type": "code",
   "execution_count": 10,
   "metadata": {},
   "outputs": [],
   "source": [
    "def Volume_Order_Imbalance(table):\n",
    "    table['delta_vol_Bid'] = table['BidVolume1'].diff() * (table['BidPrice1'] == table['BidPrice1'].shift(1)) + table['BidVolume1'] *(table['BidPrice1'] > table['BidPrice1'].shift(1)) + (table['BidVolume1']-table['BidVolume2'].shift(1)) * (table['BidPrice1'] < table['BidPrice1'].shift(1))\n",
    "    table['delta_vol_Ask'] = table['AskVolume1'].diff() * (table['AskPrice1'] == table['AskPrice1'].shift(1)) + table['AskVolume1'] *(table['AskPrice1'] < table['AskPrice1'].shift(1)) + (table['AskVolume1']-table['AskVolume2'].shift(1)) * (table['AskPrice1'] > table['AskPrice1'].shift(1))\n",
    "    table['Volume_Order_Imbalance'] = table['delta_vol_Bid'] - table['delta_vol_Ask']\n",
    "    table['Volume_Order_Imbalance'].fillna(0,inplace=True)\n",
    "    process_fr(table,'Volume_Order_Imbalance')\n"
   ]
  },
  {
   "cell_type": "code",
   "execution_count": 11,
   "metadata": {},
   "outputs": [],
   "source": [
    "# def Volume_Order_Imbalance_SP(table):\n",
    "#     table['delta_vol_Bid'] = table['BidVolume1'].diff() * (table['BidPrice1'] == table['BidPrice1'].shift(1)) + table['BidVolume1'] *(table['BidPrice1'] > table['BidPrice1'].shift(1)) + (table['BidVolume1']-table['BidVolume2'].shift(1)) * (table['BidPrice1'] < table['BidPrice1'].shift(1))\n",
    "#     table['delta_vol_Ask'] = table['AskVolume1'].diff() * (table['AskPrice1'] == table['AskPrice1'].shift(1)) + table['AskVolume1'] *(table['AskPrice1'] < table['AskPrice1'].shift(1)) + (table['AskVolume1']-table['AskVolume2'].shift(1)) * (table['AskPrice1'] > table['AskPrice1'].shift(1))\n",
    "#     table['std_factor'] = table['delta_vol_Bid'] - table['delta_vol_Ask']\n",
    "#     table['Volume_Order_Imbalance_SP'] = (\n",
    "#     1\n",
    "#     + 0.2 * (np.abs(table['std_factor']) >= 25)\n",
    "#     * np.log(np.abs(table['std_factor'] / 25))\n",
    "#     ) * (1/(1+np.exp(-table['std_factor']/5)) - 0.5)\n",
    "#     table['Volume_Order_Imbalance_SP'].fillna(0,inplace=True)    "
   ]
  },
  {
   "cell_type": "code",
   "execution_count": 12,
   "metadata": {},
   "outputs": [],
   "source": [
    "# def std_factor_transform(table):\n",
    "#     table['current_avg_price'] = table['Turnover'] / table['Volume']\n",
    "#     table['current_avg_price'].replace([np.inf, -np.inf], np.nan, inplace=True)\n",
    "#     table['current_avg_price'].fillna(method='ffill',inplace=True)\n",
    "#     table['mpb'] = table['current_avg_price'] - table['mid_price']\n",
    "#     table['mpb'].replace([np.inf, -np.inf], np.nan, inplace=True)\n",
    "#     table['mpb'].fillna(0,inplace=True)\n",
    "#     # table['sign'] = np.sign(table['current_avg_price'] - table['mid_price'])\n",
    "#     table['std_factor'] = table['Volume'].rolling(5).std() * table['mpb']\n",
    "#     table['std_factor_transform'] =  (\n",
    "# 1\n",
    "# + 0.2 * (np.abs(table['std_factor']) >= 25)\n",
    "# * np.log(np.abs(table['std_factor'] / 25))\n",
    "# ) * (1/(1+np.exp(-table['std_factor']/5)) - 0.5)\n",
    "#     table['std_factor_transform'].fillna(0,inplace = True)\n"
   ]
  },
  {
   "cell_type": "code",
   "execution_count": 13,
   "metadata": {},
   "outputs": [],
   "source": [
    "# def current_volume_factor(table):\n",
    "#     table['current_avg_price'] = table['Turnover'] / table['Volume']\n",
    "#     table['current_avg_price'].replace([np.inf, -np.inf], np.nan, inplace=True)\n",
    "#     table['current_avg_price'].fillna(method='ffill',inplace=True)\n",
    "#     table['sign'] = np.sign(2*table['current_avg_price']-table['AskPrice1']-table['BidPrice1'])\n",
    "#     table['std_factor'] = table['sign'] * table['Volume']\n",
    "#     table['current_volume_factor'] = (\n",
    "#     1\n",
    "#     - 0.2 * (np.abs(table['std_factor']) >= 50)\n",
    "#     * np.log(np.abs(table['std_factor'] / 50))\n",
    "#     ) * (1/(1+np.exp(-table['std_factor']/10)) - 0.5)\n",
    "#     table['current_volume_factor'].fillna(0,inplace=True)\n"
   ]
  },
  {
   "cell_type": "code",
   "execution_count": 14,
   "metadata": {},
   "outputs": [],
   "source": [
    "def press_factor(table):\n",
    "    table['current_avg_price'] = table['Turnover'] / table['Volume']\n",
    "    table['current_avg_price'].replace([np.inf, -np.inf], np.nan, inplace=True)\n",
    "    table['current_avg_price'].fillna(method='ffill',inplace=True)\n",
    "\n",
    "    ask_weights = [f'Askweight{i}' for i in range(1, 6)]\n",
    "    bid_weights = [f'Bidweight{i}' for i in range(1, 6)]\n",
    "    ask_volumes = [f'AskVolume{i}' for i in range(1, 6)]\n",
    "    bid_volumes = [f'BidVolume{i}' for i in range(1, 6)]\n",
    "\n",
    "    # 计算 Askweight 和 Bidweight\n",
    "    for i in range(5):\n",
    "        table[ask_weights[i]] = table['current_avg_price'] / (table[f'AskPrice{i+1}'] - table['current_avg_price'] + 0.00000123787)\n",
    "        table[bid_weights[i]] = -table['current_avg_price'] / (table[f'BidPrice{i+1}'] - table['current_avg_price'] + 0.00000123787)\n",
    "\n",
    "    # 计算卖盘压力 press_ask\n",
    "    ask_weight_sum = table[ask_weights].sum(axis=1)\n",
    "    table['press_ask'] = sum(table[ask_volumes[i]] * table[ask_weights[i]] for i in range(5)) / ask_weight_sum\n",
    "\n",
    "    # 计算买盘压力 press_bid\n",
    "    bid_weight_sum = table[bid_weights].sum(axis=1)\n",
    "    table['press_bid'] = sum(table[bid_volumes[i]] * table[bid_weights[i]] for i in range(5)) / bid_weight_sum\n",
    "    \n",
    "\n",
    "    # 计算因子 factor\n",
    "    table['press_factor'] = -np.log(table['press_ask']/table['press_bid'])\n",
    "\n",
    "    # 填充缺失值\n",
    "    table['press_factor'].fillna(0, inplace=True)\n",
    "\n"
   ]
  },
  {
   "cell_type": "code",
   "execution_count": 15,
   "metadata": {},
   "outputs": [],
   "source": [
    "def log_base_factor(table):\n",
    "    table['Bid_factor'] = table['BidVolume1']/table['BidVolume1'].rolling(60).mean()\n",
    "    table['Ask_factor'] = table['AskVolume1']/table['AskVolume1'].rolling(60).mean()\n",
    "    table['log_base_factor'] = np.log(table['Bid_factor']/table['Ask_factor'])\n",
    "    table['log_base_factor'].fillna(0,inplace=True)"
   ]
  },
  {
   "cell_type": "code",
   "execution_count": 16,
   "metadata": {},
   "outputs": [],
   "source": [
    "def skew_factor(table):\n",
    "    columns_to_adjust = ['BidVolume1', 'BidVolume2', 'BidVolume3', 'BidVolume4', 'BidVolume5']\n",
    "    Bid_volumes = table[columns_to_adjust]\n",
    "    # Bid_volumes['mean'] = Bid_volumes.mean(axis=1)\n",
    "    # Bid_volumes[columns_to_adjust] = Bid_volumes[columns_to_adjust].subtract(Bid_volumes['mean'],axis=0)\n",
    "    # 提取数值数据为 NumPy 数组\n",
    "    values = Bid_volumes[columns_to_adjust].values\n",
    "\n",
    "    # 计算均值、标准差和偏度\n",
    "    means = np.mean(values, axis=1)\n",
    "    stds = np.std(values, axis=1, ddof=1)\n",
    "    skewness = np.sum(((values - means[:, np.newaxis]) / stds[:, np.newaxis])**3, axis=1) / values.shape[1]\n",
    "\n",
    "    # 将偏度结果存入 DataFrame\n",
    "    Bid_volumes['skewness'] = skewness\n",
    "\n",
    "\n",
    "    columns_to_adjust = ['AskVolume1', 'AskVolume2', 'AskVolume3', 'AskVolume4', 'AskVolume5']\n",
    "    Ask_volumes = table[columns_to_adjust]\n",
    "    # Ask_volumes['mean'] = Ask_volumes.mean(axis=1)\n",
    "    # Ask_volumes[columns_to_adjust] = Ask_volumes[columns_to_adjust].subtract(Ask_volumes['mean'],axis=0)\n",
    "    # 提取数值数据为 NumPy 数组\n",
    "    values = Ask_volumes[columns_to_adjust].values\n",
    "\n",
    "    # 计算均值、标准差和偏度\n",
    "    means = np.mean(values, axis=1)\n",
    "    stds = np.std(values, axis=1, ddof=1)\n",
    "    skewness = np.sum(((values - means[:, np.newaxis]) / stds[:, np.newaxis])**3, axis=1) / values.shape[1]\n",
    "\n",
    "    # 将偏度结果存入 DataFrame\n",
    "    Ask_volumes['skewness'] = skewness\n",
    "\n",
    "    table['skew_factor'] = Bid_volumes['skewness']-Ask_volumes['skewness']\n",
    "    \n",
    "    table['skew_factor'].fillna(0,inplace=True)"
   ]
  },
  {
   "cell_type": "code",
   "execution_count": 17,
   "metadata": {},
   "outputs": [],
   "source": [
    "def Max_Volume_diff(table):\n",
    "    table['Max_Volume_diff'] = -np.log(np.abs((table['BidVolume1'] - table[['BidVolume1', 'BidVolume2', 'BidVolume3', 'BidVolume4', 'BidVolume5']].max(axis=1))/(table['AskVolume1'] - table[['AskVolume1', 'AskVolume2', 'AskVolume3', 'AskVolume4', 'AskVolume5']].max(axis=1))))\n",
    "    table['Max_Volume_diff'].replace([np.inf, -np.inf], np.nan, inplace=True)\n",
    "    table['Max_Volume_diff'].fillna(0,inplace=True)"
   ]
  },
  {
   "cell_type": "code",
   "execution_count": 18,
   "metadata": {},
   "outputs": [],
   "source": [
    "def pending_vol_ratio_factor(table , scalar = 0.1):\n",
    "    table['ratio'] = table['BidVolume1']/(table['BidVolume1'] + table['AskVolume1'])\n",
    "    table['pending_vol_ratio_factor'] = scalar * table['BidPrice1'].diff(2)/(table['BidPrice1'] - table['BidPrice2']) + table['ratio'].diff(2)\n",
    "    table['pending_vol_ratio_factor'].fillna(0,inplace=True)\n",
    "    process_fr(table,'pending_vol_ratio_factor')\n"
   ]
  },
  {
   "cell_type": "code",
   "execution_count": 19,
   "metadata": {},
   "outputs": [],
   "source": [
    "# def ratio_factor_transform(table):\n",
    "#     table['ratio'] = table['BidVolume1']/(table['BidVolume1'] + table['AskVolume1'])\n",
    "#     table['factor'] = (np.abs(table['ratio'].diff()) + 1) * (table['BidPrice1'].diff() > 0) + table['ratio'].diff() * (table['BidPrice1'].diff() == 0) - (np.abs(table['ratio'].diff()) + 1) * (table['BidPrice1'].diff() < 0)\n",
    "#     table['ratio_factor_transform'] = -0.2348*table['factor']**3 + -0.0154*table['factor']**2 + 0.5463*table['factor']\n",
    "#     table['ratio_factor_transform'].fillna(0,inplace=True)"
   ]
  },
  {
   "cell_type": "code",
   "execution_count": 20,
   "metadata": {},
   "outputs": [],
   "source": [
    "def sign_factor(table):\n",
    "    table['BidVolume'] = table[['BidVolume1','BidVolume2','BidVolume3','BidVolume4','BidVolume5']].sum(axis=1)\n",
    "    table['AskVolume'] = table[['AskVolume1','AskVolume2','AskVolume3','AskVolume4','AskVolume5']].sum(axis=1)\n",
    "    table['sign_factor'] = table['BidVolume'].diff()*(table['BidPrice1'] <= table['BidPrice1'].rolling(8,min_periods=1).min()) - table['AskVolume'].diff()*(table['AskPrice1'].rolling(8,min_periods=1).max() <= table['AskPrice1'])\n",
    "    table['sign_factor'].fillna(0,inplace=True)"
   ]
  },
  {
   "cell_type": "code",
   "execution_count": 21,
   "metadata": {},
   "outputs": [],
   "source": [
    "def current_volume_factor(table):\n",
    "    table['current_volume_factor'] = np.log(table['Volume'] + 1)\n",
    "    table['current_volume_factor'].fillna(0, inplace=True)"
   ]
  },
  {
   "cell_type": "code",
   "execution_count": 22,
   "metadata": {},
   "outputs": [],
   "source": [
    "def submit_price_imbalance(table):\n",
    "    table['mid_price'] = (table['BidPrice1'] + table['AskPrice1'])/2\n",
    "    table['BidVolume'] = table[['BidVolume1','BidVolume2','BidVolume3','BidVolume4','BidVolume5']].sum(axis=1)\n",
    "    table['AskVolume'] = table[['AskVolume1','AskVolume2','AskVolume3','AskVolume4','AskVolume5']].sum(axis=1)\n",
    "    table['Bid_submit_price'] = (table['BidPrice1'] * table['BidVolume1'] + table['BidPrice2'] * table['BidVolume2'] + table['BidPrice3'] * table['BidVolume3'] + table['BidPrice4'] * table['BidVolume4'] + table['BidPrice5'] * table['BidVolume5'])/table['BidVolume']\n",
    "    table['Ask_submit_price'] = (table['AskPrice1'] * table['AskVolume1'] + table['AskPrice2'] * table['AskVolume2'] + table['AskPrice3'] * table['AskVolume3'] + table['AskPrice4'] * table['AskVolume4'] + table['AskPrice5'] * table['AskVolume5'])/table['AskVolume']\n",
    "    table['submit_price'] = table['Ask_submit_price'] + table['Bid_submit_price'] - 2 * table['mid_price']\n",
    "    table['submit_price_imbalance'] = (table['submit_price'] - table['submit_price'].rolling(10,min_periods=1).mean())/table['submit_price'].rolling(10,min_periods=1).std()\n",
    "    table['submit_price_imbalance'].replace([np.inf, -np.inf], np.nan, inplace=True)\n",
    "    table['submit_price_imbalance'].fillna(0, inplace=True)\n",
    "    process_fr(table,'submit_price_imbalance')\n",
    "\n",
    "    # std_factor(table,'submit_price_imbalance')"
   ]
  },
  {
   "cell_type": "code",
   "execution_count": 23,
   "metadata": {},
   "outputs": [],
   "source": [
    "def relative_vol_ratio_imbalance(table):\n",
    "    table['BidVolume'] = table[['BidVolume1','BidVolume2','BidVolume3','BidVolume4','BidVolume5']].sum(axis=1)\n",
    "    table['AskVolume'] = table[['AskVolume1','AskVolume2','AskVolume3','AskVolume4','AskVolume5']].sum(axis=1)\n",
    "    table['Bid_ratio'] = table['BidVolume']/table['BidVolume1']\n",
    "    table['Ask_ratio'] = table['AskVolume']/table['AskVolume1']\n",
    "    table['relative_vol_ratio_diff'] = table['Ask_ratio'] - table['Bid_ratio']\n",
    "    table['relative_vol_ratio_imbalance'] = (table['relative_vol_ratio_diff'] - table['relative_vol_ratio_diff'].rolling(20,min_periods=1).mean())/table['relative_vol_ratio_diff'].rolling(20,min_periods=1).std()\n",
    "    table['relative_vol_ratio_imbalance'].replace([np.inf, -np.inf], np.nan, inplace=True)\n",
    "    table['relative_vol_ratio_imbalance'].fillna(0,inplace=True)\n",
    "    process_fr(table,'relative_vol_ratio_imbalance')\n",
    "\n"
   ]
  },
  {
   "cell_type": "code",
   "execution_count": 24,
   "metadata": {},
   "outputs": [],
   "source": [
    "# from sklearn.linear_model import LinearRegression\n",
    "# def linear_combination(table):\n",
    "#     model = LinearRegression()\n",
    "#     X = table[['BAV_diff_transform','Volume_Order_Imbalance','Base_factor','relative_vol_ratio_imbalance']]\n",
    "#     y = table['frt_120']\n",
    "    \n",
    "#     model.fit(X, y)\n",
    "\n",
    "#     # 提取回归系数\n",
    "#     coefficients = model.coef_\n",
    "\n",
    "#     # 得到综合因子值 F：\n",
    "#     table['linear_combination'] = np.dot(X, coefficients)"
   ]
  },
  {
   "cell_type": "code",
   "execution_count": 25,
   "metadata": {},
   "outputs": [],
   "source": [
    "def linear_combination(table,factors,weights):\n",
    "    X = table[factors]\n",
    "    table['linear_combination'] = np.dot(X, weights)\n",
    "    table['linear_combination'].fillna(0,inplace=True)"
   ]
  },
  {
   "cell_type": "code",
   "execution_count": 26,
   "metadata": {},
   "outputs": [],
   "source": [
    "def Base_factor(table):\n",
    "    table['Base_factor'] = -(table['AskVolume1']-table['BidVolume1'])/(table['AskVolume1']+table['BidVolume1'])\n",
    "    table['Base_factor'].replace([np.inf, -np.inf], np.nan, inplace=True)\n",
    "    table['Base_factor'].fillna(0,inplace=True)\n",
    "    process_fr(table,'Base_factor')\n"
   ]
  },
  {
   "cell_type": "code",
   "execution_count": 27,
   "metadata": {},
   "outputs": [],
   "source": [
    "def max_vol_ratio_imbalance(table):\n",
    "    table['max_vol_ratio_imbalance'] = -table[['BidVolume1', 'BidVolume2', 'BidVolume3', 'BidVolume4', 'BidVolume5']].max(axis=1)/table['BidVolume1'] + table[['AskVolume1', 'AskVolume2', 'AskVolume3', 'AskVolume4', 'AskVolume5']].max(axis=1)/table['AskVolume1']\n",
    "    table['max_vol_ratio_imbalance'].fillna(0,inplace=True)"
   ]
  },
  {
   "cell_type": "code",
   "execution_count": 28,
   "metadata": {},
   "outputs": [],
   "source": [
    "def vol_entropy_imbalance(table,weights=[0.2,0.2,0.2,0.2,0.2]):\n",
    "    table['BidVolume'] = table[['BidVolume1','BidVolume2','BidVolume3','BidVolume4','BidVolume5']].sum(axis=1)\n",
    "    table['AskVolume'] = table[['AskVolume1','AskVolume2','AskVolume3','AskVolume4','AskVolume5']].sum(axis=1)\n",
    "    table['Bid_entropy'] = 0\n",
    "    table['Ask_entropy'] = 0\n",
    "    for i in range(1,6):\n",
    "        p = table[f'BidVolume{i}']/table['BidVolume']\n",
    "        table['Bid_entropy'] -= weights[i-1] * p * np.log2(p)\n",
    "        q = table[f'AskVolume{i}']/table['AskVolume']\n",
    "        table['Ask_entropy'] -= weights[i-1] * q * np.log2(q)\n",
    "    table['vol_entropy_imbalance'] = table['Bid_entropy'] - table['Ask_entropy']\n",
    "    table['vol_entropy_imbalance'].fillna(0,inplace=True)"
   ]
  },
  {
   "cell_type": "code",
   "execution_count": 29,
   "metadata": {},
   "outputs": [],
   "source": [
    "def vol_entropy_diff(table):\n",
    "    table['BidVolume'] = table[['BidVolume1','BidVolume2','BidVolume3','BidVolume4','BidVolume5']].sum(axis=1)\n",
    "    table['AskVolume'] = table[['AskVolume1','AskVolume2','AskVolume3','AskVolume4','AskVolume5']].sum(axis=1)\n",
    "    table['Bid_entropy'] = 0\n",
    "    table['Ask_entropy'] = 0\n",
    "    for i in range(1,6):\n",
    "        p = table[f'BidVolume{i}']/table['BidVolume']\n",
    "        table['Bid_entropy'] -= p * np.log2(p)\n",
    "        q = table[f'AskVolume{i}']/table['AskVolume']\n",
    "        table['Ask_entropy'] -= q * np.log2(q)\n",
    "    table['vol_entropy_imbalance'] = table['Bid_entropy'].diff() - table['Ask_entropy'].diff()\n",
    "    table['vol_entropy_imbalance'].fillna(0,inplace=True)"
   ]
  },
  {
   "cell_type": "code",
   "execution_count": 30,
   "metadata": {},
   "outputs": [],
   "source": [
    "def frt_10(table):\n",
    "    table['frt_10'] = -table['mid_price'].diff(-10)\n",
    "    table['frt_10'].fillna(0,inplace=True)\n",
    "def frt_30(table):\n",
    "    table['frt_30'] = -table['mid_price'].diff(-30)\n",
    "    table['frt_30'].fillna(0,inplace=True)\n",
    "def frt_50(table):\n",
    "    table['frt_50'] = -table['mid_price'].diff(-50)\n",
    "    table['frt_50'].fillna(0,inplace=True)\n",
    "def frt_200(table):\n",
    "    table['frt_200'] = -table['mid_price'].diff(-200)\n",
    "    table['frt_200'].fillna(0,inplace=True)"
   ]
  },
  {
   "cell_type": "code",
   "execution_count": null,
   "metadata": {},
   "outputs": [],
   "source": []
  },
  {
   "cell_type": "code",
   "execution_count": 31,
   "metadata": {},
   "outputs": [],
   "source": [
    "# fr.get_concat_tick_data().columns"
   ]
  },
  {
   "cell_type": "code",
   "execution_count": 32,
   "metadata": {},
   "outputs": [],
   "source": [
    "# fr.calc_init_factors()\n",
    "# fr.factor_install([pending_vol_ratio_factor,submit_price_imbalance,relative_vol_ratio_imbalance,log_base_factor,slope_factor,press_factor])"
   ]
  },
  {
   "cell_type": "code",
   "execution_count": 33,
   "metadata": {},
   "outputs": [],
   "source": [
    "with open('test.csv','w+') as f:\n",
    "    f.writelines(f'day_ret,ori_ret\\n')"
   ]
  },
  {
   "cell_type": "code",
   "execution_count": 34,
   "metadata": {},
   "outputs": [],
   "source": [
    "factor_columns = ['Base_factor','BAV_diff_transform','Volume_Order_Imbalance','pending_vol_ratio_factor','submit_price_imbalance','relative_vol_ratio_imbalance']\n",
    "factor = [Base_factor,BAV_diff_transform,Volume_Order_Imbalance,pending_vol_ratio_factor,submit_price_imbalance,relative_vol_ratio_imbalance]\n",
    "fr.factor_install(factor)\n",
    "\n",
    "# # OLS\n",
    "# weights_ag_with_base = [0.121132,0.034276,0.098189,0.017293,0.039233,0.028795]\n",
    "# weights_ag_without_base = [0.040300,0.093085,0.046340,0.049040,0.074835]\n",
    "\n",
    "# # Cauchy负对数似然函数\n",
    "# weights_ag_with_base = [0.168667,0.022833,0.029826,-0.007750,0.038724,0.020238]\n",
    "# weights_sp_with_base = [0.114691,0.019645,0.014361,0.010492,0.034487,0.020051]\n",
    "# weights_rb_with_base = [0.192568,0.018403,0.038290,-0.012230,0.036438,0.018750]\n",
    "# weights_ru_with_base = [0.037670,0.007149,0.001673,0.001302,0.011480,0.008630]\n",
    "# weights_hc_with_base = [0.193996,0.015416,0.030733,-0.016208,0.036049,0.025127]\n",
    "# weights_fu_with_base = [0.152164,0.026196,0.016058,0.001225,0.041259,0.016663]\n",
    "# weights_cu_with_base = [0.028131,0.006124,0.003551,0.004653,0.008212,0.000385]\n",
    "\n",
    "\n",
    "weights_ag_with_base = [0.342012, 0.081143, 0.000975, -0.0437, 0.032051, 0.013801]\n",
    "weights_sp_with_base = [0.282894, 0.08154, 0.000354, 0.055818, 0.026845, 0.014672]\n",
    "weights_rb_with_base =[0.381709, 0.046025, 0.000297, -0.069153, 0.02842, 0.014444]\n",
    "weights_ru_with_base = [0.099201, 0.036513, 7.5e-05, 0.004346, 0.009079, 0.007237]\n",
    "weights_hc_with_base = [0.346211, 0.04647, 0.000491, -0.076761, 0.028287, 0.019737]\n",
    "weights_fu_with_base = [0.353632, 0.097925, 0.00033, 0.005682, 0.032828, 0.012982]\n",
    "weights_cu_with_base = [0.047904, 0.031309, 0.000289, -0.016641, 0.00668, 0.000491]\n",
    "\n",
    "\n",
    "\n",
    "# Cauchy负对数似然函数\n",
    "\n",
    "fr.factor_install(linear_combination,factors=factor_columns,weights=weights_ag_with_base)"
   ]
  },
  {
   "cell_type": "code",
   "execution_count": 35,
   "metadata": {},
   "outputs": [
    {
     "name": "stdout",
     "output_type": "stream",
     "text": [
      "Factor Analysis\n",
      "factor name: linear_combination\n",
      "symbol: ag\n",
      "target: frt_120\n",
      "+---------------------+-----------------------------------------------+\n",
      "| factor mean         | 0.000291                                      |\n",
      "+---------------------+-----------------------------------------------+\n",
      "| factor std          | 0.214184                                      |\n",
      "+---------------------+-----------------------------------------------+\n",
      "| corr                | corr=0.0598, corr_len=0.0881, corr_sgn=0.0846 |\n",
      "+---------------------+-----------------------------------------------+\n",
      "| R_square            | 0.003580                                      |\n",
      "+---------------------+-----------------------------------------------+\n",
      "| backtest value mean | 0.585715                                      |\n",
      "+---------------------+-----------------------------------------------+\n",
      "| backtest value std  | 1.315761                                      |\n",
      "+---------------------+-----------------------------------------------+\n"
     ]
    },
    {
     "data": {
      "image/png": "[encoded data removed]",
      "text/plain": [
       "<Figure size 640x480 with 1 Axes>"
      ]
     },
     "metadata": {},
     "output_type": "display_data"
    },
    {
     "data": {
      "text/plain": [
       "{'factor_mean': 0.00029142135668962005,\n",
       " 'factor_std': 0.21418436307684116,\n",
       " 'corr': 0.05983408015171702,\n",
       " 'r_2': 0.0035803307693654807,\n",
       " 'b_value': 0.5857153295119157,\n",
       " 'factor_mean_list': factor_discrete\n",
       " 0    -0.504508\n",
       " 1    -0.432681\n",
       " 2    -0.403963\n",
       " 3    -0.382269\n",
       " 4    -0.364158\n",
       "         ...   \n",
       " 95    0.364085\n",
       " 96    0.382128\n",
       " 97    0.403852\n",
       " 98    0.432640\n",
       " 99    0.503574\n",
       " Name: linear_combination, Length: 100, dtype: float64,\n",
       " 'frt_mean': factor_discrete\n",
       " 0    -0.615801\n",
       " 1    -0.442127\n",
       " 2    -0.418929\n",
       " 3    -0.371682\n",
       " 4    -0.352979\n",
       "         ...   \n",
       " 95    0.381175\n",
       " 96    0.381497\n",
       " 97    0.439059\n",
       " 98    0.460644\n",
       " 99    0.583595\n",
       " Name: frt_120, Length: 100, dtype: float64}"
      ]
     },
     "execution_count": 35,
     "metadata": {},
     "output_type": "execute_result"
    }
   ],
   "source": [
    "fr.factor_analysis('linear_combination','frt_120',bins = 100, threshold=0.01)"
   ]
  },
  {
   "cell_type": "code",
   "execution_count": 36,
   "metadata": {},
   "outputs": [],
   "source": [
    "# fr.get_concat_tick_data()['linear_combination'].quantile([0.01,0.99])"
   ]
  },
  {
   "cell_type": "code",
   "execution_count": 37,
   "metadata": {},
   "outputs": [
    {
     "name": "stdout",
     "output_type": "stream",
     "text": [
      "最大回撤: -25104.00\n"
     ]
    },
    {
     "data": {
      "text/plain": [
       "<Axes: >"
      ]
     },
     "execution_count": 37,
     "metadata": {},
     "output_type": "execute_result"
    },
    {
     "data": {
      "image/png": "[encoded data removed]",
      "text/plain": [
       "<Figure size 640x480 with 1 Axes>"
      ]
     },
     "metadata": {},
     "output_type": "display_data"
    }
   ],
   "source": [
    "df = pd.read_csv('test.csv')\n",
    "df['value'] = df['day_ret'].cumsum()\n",
    "df['ori_value'] = df['ori_ret'].cumsum()\n",
    "df['cumulative_max'] = df['value'].cummax()\n",
    "df['drawdown'] = (df['value'] - df['cumulative_max'])\n",
    "# 计算最大回撤\n",
    "max_drawdown = df['drawdown'].min()\n",
    "print(f\"最大回撤: {max_drawdown:.2f}\")\n",
    "df[['value']].plot()"
   ]
  },
  {
   "cell_type": "code",
   "execution_count": 38,
   "metadata": {},
   "outputs": [],
   "source": [
    "# with open('test.csv','w+') as f:\n",
    "#     f.writelines(f'day_ret,ori_ret\\n')"
   ]
  },
  {
   "cell_type": "code",
   "execution_count": 39,
   "metadata": {},
   "outputs": [],
   "source": [
    "# fr.factor_analysis('vol_slice_imbalance','frt_120',bins = 100, threshold=0.01)"
   ]
  },
  {
   "cell_type": "code",
   "execution_count": 40,
   "metadata": {},
   "outputs": [],
   "source": [
    "# df = pd.read_csv('test.csv')\n",
    "# df['value'] = df['day_ret'].cumsum()\n",
    "# df['ori_value'] = df['ori_ret'].cumsum()\n",
    "# df['cumulative_max'] = df['value'].cummax()\n",
    "# df['drawdown'] = (df['value'] - df['cumulative_max'])/df['cumulative_max']\n",
    "# # 计算最大回撤\n",
    "# max_drawdown = df['drawdown'].min()\n",
    "# print(f\"最大回撤: {max_drawdown:.2f}\")\n",
    "# df[['value']].plot()"
   ]
  },
  {
   "cell_type": "code",
   "execution_count": 41,
   "metadata": {},
   "outputs": [],
   "source": [
    "# fr.factor_install(submit_price_imbalance)"
   ]
  },
  {
   "cell_type": "code",
   "execution_count": 42,
   "metadata": {},
   "outputs": [],
   "source": [
    "# fr.factor_analysis('submit_price_imbalance','frt_120',bins = 100, threshold=0.01)"
   ]
  },
  {
   "cell_type": "code",
   "execution_count": 43,
   "metadata": {},
   "outputs": [],
   "source": [
    "# fr.get_concat_tick_data()['relative_vol_ratio_imbalance'].quantile(0.01)"
   ]
  },
  {
   "cell_type": "code",
   "execution_count": 44,
   "metadata": {},
   "outputs": [],
   "source": [
    "# fr.factor_install(slope_factor)\n",
    "# fr.factor_analysis('slope_factor','frt_120',bins = 100, threshold=0.01)"
   ]
  },
  {
   "cell_type": "code",
   "execution_count": 45,
   "metadata": {},
   "outputs": [],
   "source": [
    "# fr.factor_install(Volume_Order_Imbalance)\n",
    "# fr.factor_analysis('Volume_Order_Imbalance','frt_120',bins = 100, threshold=0.01)"
   ]
  },
  {
   "cell_type": "code",
   "execution_count": 46,
   "metadata": {},
   "outputs": [],
   "source": [
    "# fr.factor_install(pending_vol_ratio_factor)\n",
    "# fr.factor_analysis('pending_vol_ratio_factor','frt_120',bins = 100, threshold=0.01)"
   ]
  },
  {
   "cell_type": "code",
   "execution_count": null,
   "metadata": {},
   "outputs": [],
   "source": []
  },
  {
   "cell_type": "code",
   "execution_count": 47,
   "metadata": {},
   "outputs": [],
   "source": [
    "# fr.get_concat_tick_data()[fr.factors+['frt_120']].corr()\n",
    "# fr.get_concat_tick_data()[['BAV_diff_transform','Volume_Order_Imbalance','pending_vol_ratio_factor','relative_vol_ratio_imbalance','Base_factor']+['frt_60','frt_50','frt_40','frt_30','frt_20','frt_10']].corr()"
   ]
  },
  {
   "cell_type": "code",
   "execution_count": 48,
   "metadata": {},
   "outputs": [],
   "source": [
    "# df1 = fr.get_concat_tick_data()[['AskVolume1','AskVolume2','AskVolume3','AskVolume4','AskVolume5','BidVolume1','BidVolume2','BidVolume3','BidVolume4','BidVolume5']+['exchange_time','trading_date'] + fr.factors]\n",
    "# mask = (df1[['AskVolume1','AskVolume2','AskVolume3','AskVolume4','AskVolume5','BidVolume1','BidVolume2','BidVolume3','BidVolume4','BidVolume5']]==0).any(axis=1)\n",
    "\n",
    "# df1 = fr.get_concat_tick_data()[['AskPrice1','AskPrice2','AskPrice3','AskPrice4','AskPrice5','BidPrice1','BidPrice2','BidPrice3','BidPrice4','BidPrice5']+['exchange_time','trading_date'] + fr.factors]\n",
    "# mask = (df1[['AskPrice1','AskPrice2','AskPrice3','AskPrice4','AskPrice5','BidPrice1','BidPrice2','BidPrice3','BidPrice4','BidPrice5']]==0).any(axis=1)\n",
    "# df1[fr.factors] = df1[fr.factors].where(~mask,0)\n",
    "# df = df1[['exchange_time','trading_date'] + fr.factors]"
   ]
  },
  {
   "cell_type": "code",
   "execution_count": null,
   "metadata": {},
   "outputs": [],
   "source": []
  },
  {
   "cell_type": "code",
   "execution_count": null,
   "metadata": {},
   "outputs": [],
   "source": []
  },
  {
   "cell_type": "code",
   "execution_count": 49,
   "metadata": {},
   "outputs": [],
   "source": [
    "# df = fr.get_concat_tick_data()[['frt_80','frt_100','frt_120']]"
   ]
  },
  {
   "cell_type": "markdown",
   "metadata": {},
   "source": [
    "# 生成因子文件"
   ]
  },
  {
   "cell_type": "code",
   "execution_count": 50,
   "metadata": {},
   "outputs": [],
   "source": [
    "# import pandas as pd\n",
    "\n",
    "# def save_factor_h5_files(df,start_date,end_date):\n",
    "#     for factor in df.columns[2:]:\n",
    "#         sub_df = df[['exchange_time', 'trading_date', factor]].fillna(0)\n",
    "\n",
    "#         time_range = f\"{start_date}-{end_date}\"\n",
    "        \n",
    "#         # 生成文件名\n",
    "#         filename = f\"AG-{factor}-{time_range}.h5\"\n",
    "        \n",
    "#         # 保存为HDF5文件，使用pandas的to_hdf方法\n",
    "#         try:\n",
    "#             sub_df.to_hdf(filename, key=f'{factor}_data', mode='w', index=False)\n",
    "#             print(f\"成功保存文件: {filename}\")\n",
    "#         except Exception as e:\n",
    "#             print(f\"保存文件 {filename} 时出错: {e}\")\n",
    "\n",
    "# save_factor_h5_files(df,'20230701','20240701')"
   ]
  },
  {
   "cell_type": "code",
   "execution_count": 51,
   "metadata": {},
   "outputs": [],
   "source": [
    "# def save_factor_parquet_files(df,symbol,start_date,end_date):\n",
    "#     for factor in df.columns[2:]:\n",
    "#         sub_df = df[['exchange_time', 'trading_date', factor]].fillna(0)\n",
    "\n",
    "#         time_range = f\"{start_date}-{end_date}\"\n",
    "        \n",
    "#         # 生成文件名\n",
    "#         filename = f\"{symbol}-{factor}-{time_range}.parquet\"\n",
    "\n",
    "#         try:\n",
    "#             sub_df.to_parquet(f'C:\\Ter\\\\factor_parquet\\{symbol}\\{filename}')\n",
    "#             print(f\"成功保存文件: {filename}\")\n",
    "#         except Exception as e:\n",
    "#             print(f\"保存文件 {filename} 时出错: {e}\")\n",
    "\n",
    "# save_factor_parquet_files(df,'ru','20230701','20240701')"
   ]
  },
  {
   "cell_type": "code",
   "execution_count": 52,
   "metadata": {},
   "outputs": [],
   "source": [
    "# with pd.HDFStore(r'C:\\Ter\\factor\\AG-active_buy_sell_imbalance-20230701-20240701.h5') as store:\n",
    "#     # 列出所有可用的键（因子名称+时间区间）\n",
    "#     print(\"Available keys:\", store.keys())\n",
    "\n",
    "#     factor_data = store['active_buy_sell_imbalance_data']\n",
    "    \n",
    "#     # 打印读取的因子数据\n",
    "#     print(factor_data)"
   ]
  }
 ],
 "metadata": {
  "kernelspec": {
   "display_name": "Teroooo",
   "language": "python",
   "name": "python3"
  },
  "language_info": {
   "codemirror_mode": {
    "name": "ipython",
    "version": 3
   },
   "file_extension": ".py",
   "mimetype": "text/x-python",
   "name": "python",
   "nbconvert_exporter": "python",
   "pygments_lexer": "ipython3",
   "version": "3.10.16"
  }
 },
 "nbformat": 4,
 "nbformat_minor": 2
}
