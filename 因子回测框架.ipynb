{
 "cells": [
  {
   "cell_type": "code",
   "execution_count": 1,
   "metadata": {},
   "outputs": [],
   "source": [
    "import numpy as np\n",
    "import pandas as pd\n",
    "from matplotlib import pyplot as plt\n",
    "import warnings\n",
    "\n",
    "warnings.filterwarnings(\"ignore\")\n",
    "pd.set_option('display.max_columns', None)\n",
    "plt.rcParams['font.sans-serif'] = ['SimHei']  # 使用黑体，或者使用你系统上可用的其他字体\n",
    "plt.rcParams['axes.unicode_minus'] = False  # 解决负号显示问题"
   ]
  },
  {
   "cell_type": "code",
   "execution_count": 2,
   "metadata": {},
   "outputs": [],
   "source": [
    "from process_day import *\n",
    "from generate_threshold import *\n",
    "from factor_install import *\n",
    "from backtest import *"
   ]
  },
  {
   "cell_type": "code",
   "execution_count": null,
   "metadata": {},
   "outputs": [],
   "source": [
    "symbol = 'ag'\n",
    "df = pd.read_parquet(fr\"C:\\Ter\\source\\{symbol}\")\n",
    "df['trading_date'] = pd.to_datetime(df['trading_date']) \n",
    "\n",
    "factor_name = 'factor'\n",
    "\n",
    "threshold,current_vol_threshold = generate_threshold(df,symbol,'2023-07-01','2024-06-30',factor_name)\n",
    "backtest_value_mean = backtest(df,symbol,'2024-07-01','2025-06-30',threshold,current_vol_threshold,factor_name)\n",
    "\n",
    "print(f'每个信号平均回测收益为:{backtest_value_mean}')"
   ]
  }
 ],
 "metadata": {
  "kernelspec": {
   "display_name": "Python 3",
   "language": "python",
   "name": "python3"
  },
  "language_info": {
   "codemirror_mode": {
    "name": "ipython",
    "version": 3
   },
   "file_extension": ".py",
   "mimetype": "text/x-python",
   "name": "python",
   "nbconvert_exporter": "python",
   "pygments_lexer": "ipython3",
   "version": "3.10.16"
  }
 },
 "nbformat": 4,
 "nbformat_minor": 2
}
