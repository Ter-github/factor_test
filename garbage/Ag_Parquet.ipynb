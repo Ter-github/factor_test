{
 "cells": [
  {
   "cell_type": "code",
   "execution_count": 40,
   "metadata": {},
   "outputs": [],
   "source": [
    "import numpy as np\n",
    "import pandas as pd\n",
    "from matplotlib import pyplot as plt\n",
    "import warnings\n",
    "from hyperopt import fmin, tpe, hp, Trials\n",
    "from sklearn.model_selection import train_test_split\n",
    "from scipy.stats import pearsonr\n",
    "from sklearn.preprocessing import StandardScaler\n",
    "import xgboost as xgb\n",
    "\n",
    "# 忽略所有警告\n",
    "warnings.filterwarnings(\"ignore\")\n",
    "pd.set_option('display.max_columns', None)\n",
    "plt.rcParams['font.sans-serif'] = ['SimHei']  # 使用黑体，或者使用你系统上可用的其他字体\n",
    "plt.rcParams['axes.unicode_minus'] = False  # 解决负号显示问题"
   ]
  },
  {
   "cell_type": "code",
   "execution_count": 41,
   "metadata": {},
   "outputs": [],
   "source": [
    "#利用AskPrice1和BidPrice1计算价格的平均值，进而计算分钟频的收益率\n",
    "def mid_price(df):\n",
    "    mid = (df['AskPrice1'] + df['BidPrice1'])/2\n",
    "    mid = mid.astype(float)\n",
    "    return mid\n"
   ]
  },
  {
   "cell_type": "code",
   "execution_count": 42,
   "metadata": {},
   "outputs": [],
   "source": [
    "# 构造滞后特征\n",
    "def create_lagged_features(df, window_size1,window_size2):\n",
    "    for i in range(1, window_size1 + 1):\n",
    "        df[f'factor_lag{window_size1}_{i}'] = df['factor'].shift(i)\n",
    "    for j in range(1, window_size2 + 1):\n",
    "        df[f'factor1_lag{window_size2}_{j}'] = df['factor1'].shift(j)\n",
    "    df = df.dropna()  # 删除NaN行，因为前几行会有缺失值\n",
    "    return df"
   ]
  },
  {
   "cell_type": "code",
   "execution_count": 43,
   "metadata": {},
   "outputs": [],
   "source": [
    "def calculate_ic(factors, returns):\n",
    "    \"\"\"\n",
    "    计算单因子或多因子模型的IC。\n",
    "    :param factors: 预测因子,可以是单因子,也可以是多因子拟合后得到的y-pred。\n",
    "    :param returns: 实际的未来回报,Series 格式。\n",
    "    :return: 信息系数(IC)\n",
    "    \"\"\"\n",
    "    # 计算皮尔逊相关系数\n",
    "    ic, _ = pearsonr(factors, returns)\n",
    "    return ic"
   ]
  },
  {
   "cell_type": "code",
   "execution_count": 44,
   "metadata": {},
   "outputs": [],
   "source": [
    "#由于日盘无法获取前一期夜盘数据，夜盘也无法获取前一期日盘的数据\n",
    "def process_day(group, prev_period, back_period):\n",
    "    split_time = pd.to_datetime(group['trading_date'].iloc[0].strftime('%Y-%m-%d') + ' 08:00:00')\n",
    "    before_8 = group[group['exchange_time'] < split_time].iloc[prev_period:-back_period]\n",
    "    after_8 = group[group['exchange_time'] >= split_time].iloc[prev_period:-back_period]\n",
    "    return pd.concat([before_8, after_8])\n"
   ]
  },
  {
   "cell_type": "code",
   "execution_count": 45,
   "metadata": {},
   "outputs": [],
   "source": [
    "table = pd.read_parquet('ag')\n",
    "\n",
    "target_date = '2023-06-01'\n",
    "# 将目标日期转换为 datetime 类型\n",
    "target_date = pd.to_datetime(target_date)\n",
    "\n",
    "table = table[table['trading_date'] > target_date]"
   ]
  },
  {
   "cell_type": "code",
   "execution_count": 46,
   "metadata": {},
   "outputs": [],
   "source": [
    "table['current_volume'] = table['Volume'].diff()\n",
    "table['Position Increase'] = table['OpenInterest'].diff()\n",
    "table['current_turnover'] = table['Turnover'].diff()\n",
    "table['current_avg_price'] = table['current_turnover']/(table['current_volume']*15)"
   ]
  },
  {
   "cell_type": "code",
   "execution_count": 47,
   "metadata": {},
   "outputs": [],
   "source": [
    "#判断是否主动买卖\n",
    "table['主动买or主动卖'] = '被动买卖'\n",
    "table.loc[table['last'] >= table['AskPrice1'].shift(1),'主动买or主动卖'] = '主动买'\n",
    "table.loc[table['last'] <= table['BidPrice1'].shift(1),'主动买or主动卖'] = '主动卖'"
   ]
  },
  {
   "cell_type": "code",
   "execution_count": 48,
   "metadata": {},
   "outputs": [],
   "source": [
    "#这500ms中成交的价格对为Low Price和High Price（假设只有两个价格成交，这里的价格对指的是当期的价格）\n",
    "#思考：用当期数据比较合理还是用前一期数据比较合理？\n",
    "#table['Low Price比例'] = (table['current_avg_price'] - table['AskPrice1'])/(table['BidPrice1'] - table['AskPrice1'])\n",
    "#table['High Price比例'] = 1 - table['Low Price比例']\n",
    "#'High Price比例'反映高价交易的成交比例；'Low Price比例'反映低价交易的成交比例\n",
    "#主动买：当High Price比例大于1时，说明交易以超过卖一价达成，即交易的买一价可能是卖二、卖三，反映市场的看多力量；如果出现Low Price比例大于1，可能是因为出现大单，在切片时间段内价格持续快速上涨，导致此时的买二价可能是原来的卖二、卖三等\n",
    "#主动卖：当Low Price比例大于1时，说明交易以低于买一价达成，即交易的卖一价可能是买二、买三，反映市场的看空力量；如果出现High Price比例大于1，也可能是因为出现大单，在切片时间段内价格持续快速下跌，导致此时的卖二价可能是原来的买二、买三等"
   ]
  },
  {
   "cell_type": "code",
   "execution_count": 49,
   "metadata": {},
   "outputs": [],
   "source": [
    "#构造基础信息：成交价格对，以及以高价成交和低价成交的比例\n",
    "table['前一期成交价格对'] = 'BidPrice1 and AskPrice1'\n",
    "table['前一期Low Price比例'] = (table['current_avg_price'] - table['AskPrice1'].shift(1))/(table['BidPrice1'].shift(1) - table['AskPrice1'].shift(1))\n",
    "table['前一期High Price比例'] = 1 - table['前一期Low Price比例']\n",
    "table.loc[(table['前一期High Price比例'] > 1),'前一期成交价格对'] = 'AskPrice1 and AskPrice2'\n",
    "table.loc[(table['前一期Low Price比例'] > 1),'前一期成交价格对'] = 'BidPrice2 and BidPrice1'\n",
    "table['前一期Low Price比例'].loc[(table['前一期High Price比例'] > 1)] = (table['current_avg_price'] - table['AskPrice2'].shift(1))/(table['AskPrice1'].shift(1) - table['AskPrice2'].shift(1))\n",
    "table['前一期Low Price比例'].loc[(table['前一期Low Price比例'] > 1)] = (table['current_avg_price'] - table['BidPrice1'].shift(1))/(table['BidPrice2'].shift(1) - table['BidPrice1'].shift(1))\n",
    "table['前一期High Price比例'] = 1 - table['前一期Low Price比例']\n",
    "table.loc[(table['前一期High Price比例'] > 1),'前一期成交价格对'] = 'AskPrice2 and AskPrice3'\n",
    "table.loc[(table['前一期Low Price比例'] > 1),'前一期成交价格对'] = 'BidPrice3 and BidPrice2'\n",
    "table['前一期Low Price比例'].loc[(table['前一期High Price比例'] > 1)] = (table['current_avg_price'] - table['AskPrice3'].shift(1))/(table['AskPrice2'].shift(1) - table['AskPrice3'].shift(1))\n",
    "table['前一期Low Price比例'].loc[(table['前一期Low Price比例'] > 1)] = (table['current_avg_price'] - table['BidPrice2'].shift(1))/(table['BidPrice3'].shift(1) - table['BidPrice2'].shift(1))\n",
    "table['前一期High Price比例'] = 1 - table['前一期Low Price比例']\n",
    "table.loc[(table['前一期High Price比例'] > 1),'前一期成交价格对'] = 'AskPrice3 and AskPrice4'\n",
    "table['前一期Low Price比例'].loc[(table['前一期High Price比例'] > 1)] = (table['current_avg_price'] - table['AskPrice4'].shift(1))/(table['AskPrice3'].shift(1) - table['AskPrice4'].shift(1))\n",
    "table['前一期High Price比例'] = 1-table['前一期Low Price比例']"
   ]
  },
  {
   "cell_type": "code",
   "execution_count": 50,
   "metadata": {},
   "outputs": [],
   "source": [
    "#计算收益，即y值\n",
    "table['return'] = -mid_price(table).diff(-120)\n"
   ]
  },
  {
   "cell_type": "code",
   "execution_count": 51,
   "metadata": {},
   "outputs": [],
   "source": [
    "#处理缺失值\n",
    "table['前一期Low Price比例'].replace([np.inf, -np.inf], np.nan, inplace=True)\n",
    "table['前一期High Price比例'].replace([np.inf, -np.inf], np.nan, inplace=True)\n",
    "table['current_volume'].fillna(0, inplace=True)\n",
    "table['Position Increase'].fillna(0, inplace=True)\n",
    "table['current_turnover'].fillna(0, inplace=True)\n",
    "table['current_avg_price'].fillna(method='ffill',inplace=True)\n",
    "#table['Low Price比例'].fillna(0, inplace=True)\n",
    "#table['High Price比例'].fillna(0, inplace=True)\n",
    "table['前一期Low Price比例'].fillna(0, inplace=True)\n",
    "table['前一期High Price比例'].fillna(0, inplace=True)\n",
    "table['return'].fillna(0, inplace=True)\n",
    "\n"
   ]
  },
  {
   "cell_type": "code",
   "execution_count": 52,
   "metadata": {},
   "outputs": [],
   "source": [
    "#table['Difference in Trading Volume'] = table['current_volume']*(table['High Price比例'] -table['Low Price比例'])\n",
    "#table['factor3'] = (table['Difference in Trading Volume'] - table['Difference in Trading Volume'].mean())/table['Difference in Trading Volume'].std()"
   ]
  },
  {
   "cell_type": "code",
   "execution_count": 53,
   "metadata": {},
   "outputs": [],
   "source": [
    "#因子：前一期不同成交价格比例之差\n",
    "#同时我们对成交价格对不为“AskPrice1 and BidPrice1”的数据进行惩罚。\n",
    "#如果全都以买价成交，说明有下降趋势，我们给他一个负的惩罚项；如果全都以卖价成交，说明有上升趋势，我们给一个正的惩罚项。\n",
    "\n",
    "table['Difference in Trading Pct'] = table['前一期High Price比例'] - table['前一期Low Price比例']\n",
    "table['New_Difference in Trading Pct'] = 0\n",
    "table['New_Difference in Trading Pct'].loc[table['前一期成交价格对'] == 'BidPrice1 and AskPrice1'] = table['Difference in Trading Pct']\n",
    "table['New_Difference in Trading Pct'].loc[(table['前一期成交价格对'] == 'AskPrice1 and AskPrice2')] = 1 + table['Difference in Trading Pct']\n",
    "table['New_Difference in Trading Pct'].loc[(table['前一期成交价格对'] == 'AskPrice2 and AskPrice3')] = 1.5 + table['Difference in Trading Pct']\n",
    "table['New_Difference in Trading Pct'].loc[(table['前一期成交价格对'] == 'AskPrice3 and AskPrice4')] = 2 + table['Difference in Trading Pct']\n",
    "table['New_Difference in Trading Pct'].loc[(table['前一期成交价格对'] == 'BidPrice2 and BidPrice1')] = -1 + table['Difference in Trading Pct']\n",
    "table['New_Difference in Trading Pct'].loc[(table['前一期成交价格对'] == 'BidPrice3 and BidPrice2')] = -1.5 + table['Difference in Trading Pct']\n",
    "table['New_Difference in Trading Pct'].loc[(table['前一期成交价格对'] == 'BidPrice4 and BidPrice3')] = -2 + table['Difference in Trading Pct']\n",
    "table['factor'] = (table['New_Difference in Trading Pct'] -  table['New_Difference in Trading Pct'].mean())/table['New_Difference in Trading Pct'].std()\n",
    "\n",
    "#table['factor'] = (table['Difference in Trading Pct'] -  table['Difference in Trading Pct'].mean())/table['Difference in Trading Pct'].std()\n"
   ]
  },
  {
   "cell_type": "code",
   "execution_count": 54,
   "metadata": {},
   "outputs": [],
   "source": [
    "#因子：主动买卖信号\n",
    "table['factor1'] = 0\n",
    "table['factor1'].loc[table['主动买or主动卖']=='主动买'] = 1\n",
    "table['factor1'].loc[(table['前一期成交价格对'] == 'AskPrice1 and AskPrice2')] = 2\n",
    "table['factor1'].loc[(table['前一期成交价格对'] == 'AskPrice2 and AskPrice3')] = 3\n",
    "table['factor1'].loc[table['主动买or主动卖']=='主动卖'] = -1\n",
    "table['factor1'].loc[(table['前一期成交价格对'] == 'BidPrice2 and BidPrice1')] = -2\n",
    "table['factor1'].loc[(table['前一期成交价格对'] == 'BidPrice3 and BidPrice2')] = -3\n"
   ]
  },
  {
   "cell_type": "code",
   "execution_count": 55,
   "metadata": {},
   "outputs": [],
   "source": [
    "#想法是用短期std()相对于长期std()来反映比较大的波动，但是std()无法反映变动方向，于是考虑加入主动买卖信号来判断方向\n",
    "#用“-1、0、1”做解释变量还是用其他指标\n",
    "#首先尝试，std（）的相对强弱* factor1\n",
    "table['std_5_tick'] = table['current_avg_price'].rolling(5).std()\n",
    "table['std_120_tick'] = table['current_avg_price'].rolling(120).std()\n",
    "table['std_intensity'] = table['std_5_tick']/table['std_120_tick']\n",
    "table['factor2'] = table['std_intensity'] * table['factor1']\n"
   ]
  },
  {
   "cell_type": "code",
   "execution_count": 56,
   "metadata": {},
   "outputs": [],
   "source": [
    "table['factor'].fillna(0,inplace=True)\n",
    "table['factor1'].fillna(0,inplace=True)\n",
    "table['factor2'].fillna(0,inplace=True)"
   ]
  },
  {
   "cell_type": "code",
   "execution_count": 35,
   "metadata": {},
   "outputs": [],
   "source": [
    "# 对数据进行处理\n",
    "# grouped_table = table.groupby('trading_date')\n",
    "# grouped_table = grouped_table.filter(lambda x: x['trading_date'].iloc[0] != pd.to_datetime('2024-04-08') and x['trading_date'].iloc[0] != pd.to_datetime('2024-05-20'))\n",
    "#删除 'trading_date' 为 '2024-04-08' 和 '2024-05-20' 的行\n",
    "table['trading_date'] = pd.to_datetime(table['trading_date'])\n",
    "# 删除 'trading_date' 为 '2024-04-08' 和 '2024-05-20' 的行\n",
    "table = table[~table['trading_date'].isin([pd.to_datetime('2024-04-08'), pd.to_datetime('2024-05-20')])]\n",
    "table = table.groupby('trading_date').apply(process_day, prev_period=120, back_period=120)\n"
   ]
  },
  {
   "cell_type": "code",
   "execution_count": null,
   "metadata": {},
   "outputs": [],
   "source": [
    "ic_value = calculate_ic(table['factor2'],table['return'])\n",
    "print(f\"因子2的 IC 值为{ic_value}\")"
   ]
  },
  {
   "cell_type": "code",
   "execution_count": null,
   "metadata": {},
   "outputs": [],
   "source": [
    "\n",
    "# 超参数空间定义\n",
    "space = {\n",
    "    'window_size1': hp.randint('window_size1', 0,15),  # 滞后期窗口大小\n",
    "    'window_size2': hp.randint('window_size2', 0,15),  # 滞后期窗口大小\n",
    "    'n_estimators': hp.randint('n_estimators', 1,100),  # 树的数量\n",
    "    'max_depth': hp.choice('max_depth', [1,2,3]),  # 树的最大深度\n",
    "    'learning_rate': hp.uniform('learning_rate', 0.01, 0.1)  # 学习率\n",
    "}\n",
    "\n",
    "def optimize_hyperparameters(params):\n",
    "    \"\"\"\n",
    "    目标函数：根据超参数优化计算 IC。\n",
    "    \n",
    "    参数:\n",
    "    params: 当前的超参数组合（来自 Hyperopt）。\n",
    "    \n",
    "    返回:\n",
    "    float: 负的 IC 值，因为 Hyperopt 是最小化目标函数。\n",
    "    \"\"\"\n",
    "    window_size1 = int(params['window_size1'])  # 滞后期的窗口大小\n",
    "    window_size2 = int(params['window_size2'])\n",
    "    n_estimators = int(params['n_estimators'])  # XGBoost树的数量\n",
    "    max_depth = int(params['max_depth'])  # XGBoost树的最大深度\n",
    "    learning_rate = params['learning_rate']  # 学习率\n",
    "    \n",
    "    # 创建滞后特征\n",
    "    df_lagged = create_lagged_features(table.copy(), window_size1,window_size2)\n",
    "    \n",
    "    # 获取所有滞后因子列\n",
    "    factor_cols = [col for col in df_lagged.columns if 'factor_lag' in col or 'factor1_lag' in col]\n",
    "    \n",
    "    # 选择特征 X 和目标 y\n",
    "    X = df_lagged[factor_cols]  # 特征矩阵\n",
    "    y = df_lagged['return']  # 未来回报\n",
    "\n",
    "\n",
    "    # 数据标准化\n",
    "    scaler = StandardScaler()\n",
    "    X_scaled = scaler.fit_transform(X)\n",
    "    \n",
    "    # 拆分训练集和测试集\n",
    "    X_train, X_test, y_train, y_test = train_test_split(X_scaled, y, test_size=0.3, shuffle=False)\n",
    "\n",
    "\n",
    "    # 创建XGBoost模型\n",
    "    model = xgb.XGBRegressor(\n",
    "        objective='reg:squarederror',  # 回归问题\n",
    "        n_estimators=n_estimators,\n",
    "        max_depth=max_depth,\n",
    "        learning_rate=learning_rate,\n",
    "        subsample=0.8,\n",
    "        colsample_bytree=0.8,\n",
    "        alpha=0.5,   # L1 正则化\n",
    "        lambda_=1.0,  # L2 正则化\n",
    "        n_jobs=-1\n",
    "    )\n",
    "    \n",
    "\n",
    "    # 训练模型\n",
    "    model.fit(X_train, y_train)\n",
    "\n",
    "\n",
    "    # 预测结果\n",
    "    y_pred = model.predict(X_train)\n",
    "\n",
    "    # 计算IC（预测值与实际收益的皮尔逊相关系数）\n",
    "    ic = calculate_ic(y_pred, y_train)\n",
    "\n",
    "\n",
    "\n",
    "    # 返回负值，因为 Hyperopt 最小化目标，我们希望最大化 IC\n",
    "    return -ic\n",
    "\n",
    "\n",
    "# 最大评估次数\n",
    "max_evals = 10\n",
    "\n",
    "# 使用 Hyperopt 进行优化\n",
    "trials = Trials()\n",
    "best = fmin(fn=optimize_hyperparameters,  # 优化目标函数\n",
    "            space=space,  # 搜索空间\n",
    "            algo=tpe.suggest,  # 使用贝叶斯优化算法\n",
    "            max_evals=max_evals,  # 最大评估次数\n",
    "            trials=trials)  # 记录所有试验\n",
    "\n",
    "print(\"最佳超参数配置:\", best)\n"
   ]
  },
  {
   "cell_type": "code",
   "execution_count": null,
   "metadata": {},
   "outputs": [],
   "source": [
    "# 获取所有滞后因子列\n",
    "df_lagged = create_lagged_features(table.copy(), best['window_size1'],best['window_size2'])\n",
    "factor_cols = [col for col in df_lagged.columns if 'factor_lag' in col]\n",
    "X = df_lagged[factor_cols]  # 特征矩阵\n",
    "y = df_lagged['return']  # 目标变量，未来收益\n",
    "\n",
    "X.dropna()\n",
    "y.dropna()\n",
    "\n",
    "\n",
    "# 数据标准化\n",
    "scaler = StandardScaler()\n",
    "X_scaled = scaler.fit_transform(X)\n",
    "\n",
    "# 拆分训练集和测试集\n",
    "X_train, X_test, y_train, y_test = train_test_split(X_scaled, y, test_size=0.3, shuffle=False)\n",
    "\n",
    "# 创建 XGBoost 模型\n",
    "model = xgb.XGBRegressor(\n",
    "    objective='reg:squarederror',  # 回归问题\n",
    "    n_estimators=best['n_estimators'],\n",
    "    max_depth=best['max_depth'],\n",
    "    learning_rate=best['learning_rate'],\n",
    "    subsample=0.8,\n",
    "    colsample_bytree=0.8,\n",
    "    n_jobs=-1\n",
    ")\n",
    "\n",
    "# 训练模型\n",
    "model.fit(X_train, y_train)\n",
    "\n",
    "# 在测试集上进行预测\n",
    "y_pred = model.predict(X_test)\n",
    "\n",
    "\n",
    "\n",
    "ic_value1 = calculate_ic(y_pred, y_test)\n",
    "print(f\"测试集上的 IC 值: {ic_value1}\")\n"
   ]
  },
  {
   "cell_type": "code",
   "execution_count": null,
   "metadata": {},
   "outputs": [],
   "source": [
    "table['Base_factor'] = (table['AskVolume1']-table['BidVolume1'])/(table['AskVolume1']+table['BidVolume1'])\n",
    "table['Base_factor'].replace([np.inf, -np.inf], np.nan, inplace=True)\n",
    "table['Base_factor'].dropna()\n",
    "\n",
    "ic_value = calculate_ic(table['Base_factor'],table['return'])\n",
    "print(f'经典因子的 IC 值：{ic_value}')"
   ]
  }
 ],
 "metadata": {
  "kernelspec": {
   "display_name": "base",
   "language": "python",
   "name": "python3"
  },
  "language_info": {
   "codemirror_mode": {
    "name": "ipython",
    "version": 3
   },
   "file_extension": ".py",
   "mimetype": "text/x-python",
   "name": "python",
   "nbconvert_exporter": "python",
   "pygments_lexer": "ipython3",
   "version": "3.11.7"
  }
 },
 "nbformat": 4,
 "nbformat_minor": 2
}
