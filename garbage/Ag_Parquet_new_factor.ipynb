{
 "cells": [
  {
   "cell_type": "code",
   "execution_count": 1,
   "metadata": {},
   "outputs": [],
   "source": [
    "import pandas as pd\n",
    "import statsmodels.api as sm\n",
    "from matplotlib import pyplot as plt\n",
    "import seaborn as sns\n",
    "import numpy as np\n",
    "import warnings\n",
    "from hyperopt import fmin, tpe, hp, Trials\n",
    "from sklearn.model_selection import train_test_split\n",
    "import lightgbm as lgb\n",
    "from scipy.stats import pearsonr\n",
    "from sklearn.preprocessing import StandardScaler\n",
    "from sklearn.linear_model import LinearRegression\n",
    "from sklearn.metrics import mean_squared_error\n",
    "import xgboost as xgb\n",
    "\n",
    "# 忽略所有警告\n",
    "warnings.filterwarnings(\"ignore\")\n",
    "pd.set_option('display.max_columns', None)\n",
    "plt.rcParams['font.sans-serif'] = ['SimHei']  # 使用黑体，或者使用你系统上可用的其他字体\n",
    "plt.rcParams['axes.unicode_minus'] = False  # 解决负号显示问题"
   ]
  },
  {
   "cell_type": "code",
   "execution_count": 2,
   "metadata": {},
   "outputs": [],
   "source": [
    "table = pd.read_parquet('ag')\n",
    "\n",
    "target_date = '2023-06-01'\n",
    "# 将目标日期转换为 datetime 类型\n",
    "target_date = pd.to_datetime(target_date)\n",
    "\n",
    "table = table[table['trading_date'] > target_date]\n",
    "\n"
   ]
  },
  {
   "cell_type": "code",
   "execution_count": 3,
   "metadata": {},
   "outputs": [],
   "source": [
    "table['current_volume'] = table['Volume'].diff()\n",
    "table['Position Increase'] = table['OpenInterest'].diff()\n",
    "table['current_turnover'] = table['Turnover'].diff()\n",
    "table['current_avg_price'] = table['current_turnover']/(table['current_volume']*15)"
   ]
  },
  {
   "cell_type": "code",
   "execution_count": 4,
   "metadata": {},
   "outputs": [],
   "source": [
    "#判断是否主动买卖\n",
    "table['主动买or主动卖'] = '被动买卖'\n",
    "table.loc[table['last'] >= table['AskPrice1'].shift(1),'主动买or主动卖'] = '主动买'\n",
    "table.loc[table['last'] <= table['BidPrice1'].shift(1),'主动买or主动卖'] = '主动卖'"
   ]
  },
  {
   "cell_type": "code",
   "execution_count": 5,
   "metadata": {},
   "outputs": [],
   "source": [
    "#这500ms中成交的价格对为Low Price和High Price（假设只有两个价格成交，这里的价格对指的是当期的价格）\n",
    "#table['Low Price比例'] = (table['current_avg_price'] - table['AskPrice1'])/(table['BidPrice1'] - table['AskPrice1'])\n",
    "#table['High Price比例'] = 1 - table['Low Price比例']\n",
    "#'High Price比例'反映高价交易的成交比例；'Low Price比例'反映低价交易的成交比例\n",
    "#主动买：当High Price比例大于1时，说明交易以超过卖一价达成，即交易的买一价可能是卖二、卖三，反映市场的看多力量；如果出现Low Price比例大于1，可能是因为出现大单，在切片时间段内价格持续快速上涨，导致此时的买二价可能是原来的卖二、卖三等\n",
    "#主动卖：当Low Price比例大于1时，说明交易以低于买一价达成，即交易的卖一价可能是买二、买三，反映市场的看空力量；如果出现High Price比例大于1，也可能是因为出现大单，在切片时间段内价格持续快速下跌，导致此时的卖二价可能是原来的买二、买三等"
   ]
  },
  {
   "cell_type": "code",
   "execution_count": 5,
   "metadata": {},
   "outputs": [],
   "source": [
    "table['前一期成交价格对'] = 'BidPrice1 and AskPrice1'\n",
    "table['前一期Low Price比例'] = (table['current_avg_price'] - table['AskPrice1'].shift(1))/(table['BidPrice1'].shift(1) - table['AskPrice1'].shift(1))\n",
    "table['前一期High Price比例'] = 1 - table['前一期Low Price比例']\n",
    "table.loc[(table['前一期High Price比例'] > 1),'前一期成交价格对'] = 'AskPrice1 and AskPrice2'\n",
    "table.loc[(table['前一期Low Price比例'] > 1),'前一期成交价格对'] = 'BidPrice2 and BidPrice1'\n",
    "table['前一期Low Price比例'].loc[(table['前一期High Price比例'] > 1)] = (table['current_avg_price'] - table['AskPrice2'].shift(1))/(table['AskPrice1'].shift(1) - table['AskPrice2'].shift(1))\n",
    "table['前一期Low Price比例'].loc[(table['前一期Low Price比例'] > 1)] = (table['current_avg_price'] - table['BidPrice1'].shift(1))/(table['BidPrice2'].shift(1) - table['BidPrice1'].shift(1))\n",
    "table['前一期High Price比例'] = 1 - table['前一期Low Price比例']\n",
    "table.loc[(table['前一期High Price比例'] > 1),'前一期成交价格对'] = 'AskPrice2 and AskPrice3'\n",
    "table.loc[(table['前一期Low Price比例'] > 1),'前一期成交价格对'] = 'BidPrice3 and BidPrice2'\n",
    "table['前一期Low Price比例'].loc[(table['前一期High Price比例'] > 1)] = (table['current_avg_price'] - table['AskPrice3'].shift(1))/(table['AskPrice2'].shift(1) - table['AskPrice3'].shift(1))\n",
    "table['前一期Low Price比例'].loc[(table['前一期Low Price比例'] > 1)] = (table['current_avg_price'] - table['BidPrice2'].shift(1))/(table['BidPrice3'].shift(1) - table['BidPrice2'].shift(1))\n",
    "table['前一期High Price比例'] = 1 - table['前一期Low Price比例']\n",
    "table.loc[(table['前一期High Price比例'] > 1),'前一期成交价格对'] = 'AskPrice3 and AskPrice4'\n",
    "table['前一期Low Price比例'].loc[(table['前一期High Price比例'] > 1)] = (table['current_avg_price'] - table['AskPrice4'].shift(1))/(table['AskPrice3'].shift(1) - table['AskPrice4'].shift(1))\n",
    "table['前一期High Price比例'] = 1-table['前一期Low Price比例']"
   ]
  },
  {
   "cell_type": "code",
   "execution_count": 6,
   "metadata": {},
   "outputs": [],
   "source": [
    "#利用AskPrice1和BidPrice1计算价格的平均值，进而计算分钟频的收益率\n",
    "def mid_price(df):\n",
    "    mid = (df['AskPrice1'] + df['BidPrice1'])/2\n",
    "    mid = mid.astype(float)\n",
    "    return mid\n",
    "\n",
    "table['return'] = -mid_price(table).diff(-120)\n"
   ]
  },
  {
   "cell_type": "code",
   "execution_count": 9,
   "metadata": {},
   "outputs": [],
   "source": [
    "#因子：前一期不同成交价格成交量之差\n",
    "\n",
    "table['Difference in Trading Pct'] = table['前一期High Price比例'] - table['前一期Low Price比例']\n",
    "table['New_Difference in Trading Pct'] = 0\n",
    "table['New_Difference in Trading Pct'].loc[table['前一期成交价格对'] == 'BidPrice1 and AskPrice1'] = table['Difference in Trading Pct']\n",
    "table['New_Difference in Trading Pct'].loc[(table['前一期成交价格对'] == 'AskPrice1 and AskPrice2')] = 0.6 + table['Difference in Trading Pct']\n",
    "table['New_Difference in Trading Pct'].loc[(table['前一期成交价格对'] == 'AskPrice2 and AskPrice3')] = 0.8 + table['Difference in Trading Pct']\n",
    "table['New_Difference in Trading Pct'].loc[(table['前一期成交价格对'] == 'AskPrice3 and AskPrice4')] = 1 + table['Difference in Trading Pct']\n",
    "table['New_Difference in Trading Pct'].loc[(table['前一期成交价格对'] == 'BidPrice2 and BidPrice1')] = -0.6 + table['Difference in Trading Pct']\n",
    "table['New_Difference in Trading Pct'].loc[(table['前一期成交价格对'] == 'BidPrice3 and BidPrice2')] = -0.8 + table['Difference in Trading Pct']\n",
    "table['New_Difference in Trading Pct'].loc[(table['前一期成交价格对'] == 'BidPrice4 and BidPrice3')] = -1 + table['Difference in Trading Pct']\n",
    "table['factor'] = (table['New_Difference in Trading Pct'] - table['Difference in Trading Pct'].mean())/table['Difference in Trading Pct'].std()"
   ]
  },
  {
   "cell_type": "code",
   "execution_count": null,
   "metadata": {},
   "outputs": [],
   "source": [
    "table['factor1'] = 0\n",
    "table['factor1'].loc[table['主动买or主动卖']=='主动买'] = 1\n",
    "table['factor1'].loc[table['主动买or主动卖']=='主动卖'] = -1"
   ]
  },
  {
   "cell_type": "code",
   "execution_count": null,
   "metadata": {},
   "outputs": [],
   "source": [
    "for i in range(1,6):\n",
    "    table['BidVolume'] += table[f'BidVolume{i}']\n",
    "    table['AskVolume'] += table[f'AskVolume{i}']\n",
    "\n",
    "table['BidVolume_change'] = table['BidVolume'].diff()\n",
    "table['AskVolume_change'] = table['AskVolume'].diff()\n"
   ]
  },
  {
   "cell_type": "code",
   "execution_count": 9,
   "metadata": {},
   "outputs": [],
   "source": [
    "# 构造滞后特征\n",
    "def create_lagged_features(df, window_size):\n",
    "    for i in range(1, window_size + 1):\n",
    "        df[f'factor_lag{window_size}_{i}'] = df['factor'].shift(i)\n",
    "        df[f'factor1_lag{window_size}_{i}'] = df['factor1'].shift(i)\n",
    "    df = df.dropna()  # 删除NaN行，因为前几行会有缺失值\n",
    "    return df"
   ]
  },
  {
   "cell_type": "code",
   "execution_count": 10,
   "metadata": {},
   "outputs": [
    {
     "data": {
      "text/plain": [
       "'def calculate_ic_multiple_factors(factors, returns):\\n    \\n    计算多因子模型的IC，通过回归预测值与实际收益的相关系数。\\n    \\n    参数:\\n    factors (DataFrame): 每列为一个因子，行是样本（股票、日期等）。\\n    returns (array-like): 实际的未来收益，和因子数据对应。\\n    \\n    返回:\\n    float: 信息系数（IC），即回归预测值与实际收益的皮尔逊相关系数。\\n    \\n    # 创建回归模型\\n    model = LinearRegression()\\n    \\n    # 进行回归训练：因子作为自变量，收益作为因变量\\n    model.fit(factors, returns)\\n    \\n    # 获取回归预测值\\n    predicted_returns = model.predict(factors)\\n    \\n    # 计算预测值与实际收益的相关系数（即IC）\\n    ic, _ = pearsonr(predicted_returns, returns)\\n    \\n    return ic\\n    '"
      ]
     },
     "execution_count": 10,
     "metadata": {},
     "output_type": "execute_result"
    }
   ],
   "source": [
    "\"\"\"def calculate_ic_multiple_factors(factors, returns):\n",
    "    \n",
    "    计算多因子模型的IC，通过回归预测值与实际收益的相关系数。\n",
    "    \n",
    "    参数:\n",
    "    factors (DataFrame): 每列为一个因子，行是样本（股票、日期等）。\n",
    "    returns (array-like): 实际的未来收益，和因子数据对应。\n",
    "    \n",
    "    返回:\n",
    "    float: 信息系数（IC），即回归预测值与实际收益的皮尔逊相关系数。\n",
    "    \n",
    "    # 创建回归模型\n",
    "    model = LinearRegression()\n",
    "    \n",
    "    # 进行回归训练：因子作为自变量，收益作为因变量\n",
    "    model.fit(factors, returns)\n",
    "    \n",
    "    # 获取回归预测值\n",
    "    predicted_returns = model.predict(factors)\n",
    "    \n",
    "    # 计算预测值与实际收益的相关系数（即IC）\n",
    "    ic, _ = pearsonr(predicted_returns, returns)\n",
    "    \n",
    "    return ic\n",
    "    \"\"\""
   ]
  },
  {
   "cell_type": "code",
   "execution_count": 11,
   "metadata": {},
   "outputs": [],
   "source": [
    "def calculate_ic(factors, returns):\n",
    "    \"\"\"\n",
    "    计算单因子或多因子模型的IC。\n",
    "    :param factors: 预测因子，DataFrame 格式。\n",
    "    :param returns: 实际的未来回报，Series 格式。\n",
    "    :return: 信息系数（IC）\n",
    "    \"\"\"\n",
    "    # 计算皮尔逊相关系数\n",
    "    ic, _ = pearsonr(factors, returns)\n",
    "    return ic"
   ]
  },
  {
   "cell_type": "code",
   "execution_count": 12,
   "metadata": {},
   "outputs": [],
   "source": [
    "def process_day(group, prev_period, back_period):\n",
    "    split_time = pd.to_datetime(group['trading_date'].iloc[0].strftime('%Y-%m-%d') + ' 08:00:00')\n",
    "    before_8 = group[group['exchange_time'] < split_time].iloc[prev_period:-back_period]\n",
    "    after_8 = group[group['exchange_time'] >= split_time].iloc[prev_period:-back_period]\n",
    "    return pd.concat([before_8, after_8])\n"
   ]
  },
  {
   "cell_type": "code",
   "execution_count": 13,
   "metadata": {},
   "outputs": [],
   "source": [
    "def optimize_hyperparameters(params):\n",
    "    \"\"\"\n",
    "    目标函数：根据超参数优化计算 IC。\n",
    "    \n",
    "    参数:\n",
    "    params: 当前的超参数组合（来自 Hyperopt）。\n",
    "    \n",
    "    返回:\n",
    "    float: 负的 IC 值，因为 Hyperopt 是最小化目标函数。\n",
    "    \"\"\"\n",
    "    window_size = int(params['window_size'])  # 滞后期的窗口大小\n",
    "    n_estimators = int(params['n_estimators'])  # XGBoost树的数量\n",
    "    max_depth = int(params['max_depth'])  # XGBoost树的最大深度\n",
    "    learning_rate = params['learning_rate']  # 学习率\n",
    "    \n",
    "    # 创建滞后特征\n",
    "    df_lagged = create_lagged_features(table.copy(), window_size)\n",
    "    \n",
    "    # 获取所有滞后因子列\n",
    "    factor_cols = [col for col in df_lagged.columns if 'factor_lag' in col]\n",
    "\n",
    "    \n",
    "    \n",
    "    # 选择特征 X 和目标 y\n",
    "    X = df_lagged[factor_cols]  # 特征矩阵\n",
    "    y = df_lagged['return']  # 未来回报\n",
    "\n",
    "\n",
    "    # 数据标准化\n",
    "    scaler = StandardScaler()\n",
    "    X_scaled = scaler.fit_transform(X)\n",
    "    \n",
    "    # 拆分训练集和测试集\n",
    "    X_train, X_test, y_train, y_test = train_test_split(X_scaled, y, test_size=0.3, shuffle=False)\n",
    "\n",
    "\n",
    "    # 创建XGBoost模型\n",
    "    model = xgb.XGBRegressor(\n",
    "        objective='reg:squarederror',  # 回归问题\n",
    "        n_estimators=n_estimators,\n",
    "        max_depth=max_depth,\n",
    "        learning_rate=learning_rate,\n",
    "        subsample=0.8,\n",
    "        colsample_bytree=0.8,\n",
    "        n_jobs=-1\n",
    "    )\n",
    "    \n",
    "\n",
    "    # 训练模型\n",
    "    model.fit(X_train, y_train)\n",
    "\n",
    "\n",
    "    # 预测结果\n",
    "    y_pred = model.predict(X_train)\n",
    "\n",
    "    # 计算IC（预测值与实际收益的皮尔逊相关系数）\n",
    "    ic = calculate_ic(y_pred, y_train)\n",
    "\n",
    "\n",
    "\n",
    "    # 返回负值，因为 Hyperopt 最小化目标，我们希望最大化 IC\n",
    "    return -ic\n",
    "\n",
    "\n",
    "\n"
   ]
  },
  {
   "cell_type": "code",
   "execution_count": 14,
   "metadata": {},
   "outputs": [
    {
     "name": "stdout",
     "output_type": "stream",
     "text": [
      "100%|██████████| 10/10 [07:10<00:00, 43.06s/trial, best loss: -0.035999477739634744]\n",
      "最佳超参数配置: {'learning_rate': 0.03381882877020116, 'max_depth': 2, 'n_estimators': 97, 'window_size': 8}\n"
     ]
    }
   ],
   "source": [
    "table = table.groupby('trading_date').apply(process_day, prev_period=10, back_period=120)\n",
    "# 超参数空间定义\n",
    "space = {\n",
    "    'window_size': hp.randint('window_size', 2,10),  # 滞后期窗口大小\n",
    "    'n_estimators': hp.randint('n_estimators', 1,100),  # 树的数量\n",
    "    'max_depth': hp.choice('max_depth', [1,2,3]),  # 树的最大深度\n",
    "    'learning_rate': hp.uniform('learning_rate', 0.01, 0.1)  # 学习率\n",
    "}\n",
    "\n",
    "\n",
    "# 最大评估次数\n",
    "max_evals = 10\n",
    "\n",
    "# 使用 Hyperopt 进行优化\n",
    "trials = Trials()\n",
    "best = fmin(fn=optimize_hyperparameters,  # 优化目标函数\n",
    "            space=space,  # 搜索空间\n",
    "            algo=tpe.suggest,  # 使用贝叶斯优化算法\n",
    "            max_evals=max_evals,  # 最大评估次数\n",
    "            trials=trials)  # 记录所有试验\n",
    "\n",
    "print(\"最佳超参数配置:\", best)\n"
   ]
  },
  {
   "cell_type": "code",
   "execution_count": 15,
   "metadata": {},
   "outputs": [
    {
     "name": "stdout",
     "output_type": "stream",
     "text": [
      "测试集上的 IC 值: 0.02155660263663229\n"
     ]
    }
   ],
   "source": [
    "df_lagged = create_lagged_features(table.copy(), best['window_size'])\n",
    "# 获取所有滞后因子列\n",
    "factor_cols = [col for col in df_lagged.columns if 'factor_lag' in col]\n",
    "X = df_lagged[factor_cols]  # 特征矩阵\n",
    "y = df_lagged['return']  # 目标变量，未来收益\n",
    "\n",
    "X.dropna()\n",
    "y.dropna()\n",
    "\n",
    "\n",
    "# 数据标准化\n",
    "scaler = StandardScaler()\n",
    "X_scaled = scaler.fit_transform(X)\n",
    "\n",
    "# 拆分训练集和测试集\n",
    "X_train, X_test, y_train, y_test = train_test_split(X_scaled, y, test_size=0.3, shuffle=False)\n",
    "\n",
    "# 创建 XGBoost 模型\n",
    "model = xgb.XGBRegressor(\n",
    "    objective='reg:squarederror',  # 回归问题\n",
    "    n_estimators=best['n_estimators'],\n",
    "    max_depth=best['max_depth'],\n",
    "    learning_rate=best['learning_rate'],\n",
    "    subsample=0.8,\n",
    "    colsample_bytree=0.8,\n",
    "    n_jobs=-1\n",
    ")\n",
    "\n",
    "# 训练模型\n",
    "model.fit(X_train, y_train)\n",
    "\n",
    "# 在测试集上进行预测\n",
    "y_pred = model.predict(X_test)\n",
    "\n",
    "\n",
    "# 计算 IC（预测值与实际收益的皮尔逊相关系数）\n",
    "def calculate_ic(predicted_returns, actual_returns):\n",
    "    ic = np.corrcoef(predicted_returns, actual_returns)[0, 1]\n",
    "    return ic\n",
    "\n",
    "ic_value = calculate_ic(y_pred, y_test)\n",
    "print(f\"测试集上的 IC 值: {ic_value}\")\n"
   ]
  },
  {
   "cell_type": "code",
   "execution_count": null,
   "metadata": {},
   "outputs": [],
   "source": []
  }
 ],
 "metadata": {
  "kernelspec": {
   "display_name": "base",
   "language": "python",
   "name": "python3"
  },
  "language_info": {
   "codemirror_mode": {
    "name": "ipython",
    "version": 3
   },
   "file_extension": ".py",
   "mimetype": "text/x-python",
   "name": "python",
   "nbconvert_exporter": "python",
   "pygments_lexer": "ipython3",
   "version": "3.11.7"
  }
 },
 "nbformat": 4,
 "nbformat_minor": 2
}
