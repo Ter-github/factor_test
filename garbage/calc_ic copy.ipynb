{
 "cells": [
  {
   "cell_type": "code",
   "execution_count": 1,
   "metadata": {},
   "outputs": [],
   "source": [
    "import pandas as pd\n",
    "# from hyperopt import fmin,hp,tpe,Trails\n",
    "from process import load_dataset\n",
    "import warnings\n",
    "warnings.filterwarnings('ignore',category=Warning)"
   ]
  },
  {
   "cell_type": "code",
   "execution_count": 2,
   "metadata": {},
   "outputs": [],
   "source": [
    "asset = 'ag'\n",
    "back_period=10\n",
    "prev_period=2\n",
    "weights=[0.5,1]"
   ]
  },
  {
   "cell_type": "code",
   "execution_count": 3,
   "metadata": {},
   "outputs": [],
   "source": [
    "def objective():\n",
    "    pass"
   ]
  },
  {
   "cell_type": "code",
   "execution_count": 4,
   "metadata": {},
   "outputs": [],
   "source": [
    "X_train,y_train,stamp,X_scaler,y_scaler,feature_labels, target_labels = load_dataset(asset, back_period, train=True,prev_period=prev_period, weights=weights)\n",
    "y_train = y_train[:, 0]"
   ]
  },
  {
   "cell_type": "code",
   "execution_count": 5,
   "metadata": {},
   "outputs": [
    {
     "data": {
      "text/html": [
       "<div>\n",
       "<style scoped>\n",
       "    .dataframe tbody tr th:only-of-type {\n",
       "        vertical-align: middle;\n",
       "    }\n",
       "\n",
       "    .dataframe tbody tr th {\n",
       "        vertical-align: top;\n",
       "    }\n",
       "\n",
       "    .dataframe thead th {\n",
       "        text-align: right;\n",
       "    }\n",
       "</style>\n",
       "<table border=\"1\" class=\"dataframe\">\n",
       "  <thead>\n",
       "    <tr style=\"text-align: right;\">\n",
       "      <th></th>\n",
       "      <th>VOI</th>\n",
       "      <th>rolling_voi</th>\n",
       "      <th>next_ret</th>\n",
       "    </tr>\n",
       "  </thead>\n",
       "  <tbody>\n",
       "    <tr>\n",
       "      <th>VOI</th>\n",
       "      <td>1.000000</td>\n",
       "      <td>0.960154</td>\n",
       "      <td>0.148277</td>\n",
       "    </tr>\n",
       "    <tr>\n",
       "      <th>rolling_voi</th>\n",
       "      <td>0.960154</td>\n",
       "      <td>1.000000</td>\n",
       "      <td>0.131688</td>\n",
       "    </tr>\n",
       "    <tr>\n",
       "      <th>next_ret</th>\n",
       "      <td>0.148277</td>\n",
       "      <td>0.131688</td>\n",
       "      <td>1.000000</td>\n",
       "    </tr>\n",
       "  </tbody>\n",
       "</table>\n",
       "</div>"
      ],
      "text/plain": [
       "                  VOI  rolling_voi  next_ret\n",
       "VOI          1.000000     0.960154  0.148277\n",
       "rolling_voi  0.960154     1.000000  0.131688\n",
       "next_ret     0.148277     0.131688  1.000000"
      ]
     },
     "execution_count": 5,
     "metadata": {},
     "output_type": "execute_result"
    }
   ],
   "source": [
    "train_df = pd.DataFrame(X_train,columns=feature_labels)\n",
    "train_df['next_ret'] = y_train\n",
    "train_df.corr()"
   ]
  },
  {
   "cell_type": "code",
   "execution_count": 6,
   "metadata": {},
   "outputs": [
    {
     "name": "stdout",
     "output_type": "stream",
     "text": [
      "Training:\n",
      "IC: 0.14828\n",
      "Rank_IC: 0.24041\n",
      "MSE: 1.70345\n",
      "\n"
     ]
    }
   ],
   "source": [
    "from sklearn.metrics import mean_squared_error\n",
    "from scipy.stats import pearsonr,spearmanr\n",
    "\n",
    "def eval_model(X, y):\n",
    "   ic,_  = pearsonr(y, X)\n",
    "   rank_ic,_ = spearmanr(y, X)\n",
    "   mse = mean_squared_error(y, X)\n",
    "   res = f'Training:\\nIC: {ic:.5f}\\nRank_IC: {rank_ic:.5f}\\nMSE: {mse:.5f}\\n'\n",
    "   print(res)\n",
    "\n",
    "eval_model(train_df['VOI'].values, train_df['next_ret'].values)\n"
   ]
  },
  {
   "cell_type": "code",
   "execution_count": 7,
   "metadata": {},
   "outputs": [
    {
     "data": {
      "text/html": [
       "<div>\n",
       "<style scoped>\n",
       "    .dataframe tbody tr th:only-of-type {\n",
       "        vertical-align: middle;\n",
       "    }\n",
       "\n",
       "    .dataframe tbody tr th {\n",
       "        vertical-align: top;\n",
       "    }\n",
       "\n",
       "    .dataframe thead th {\n",
       "        text-align: right;\n",
       "    }\n",
       "</style>\n",
       "<table border=\"1\" class=\"dataframe\">\n",
       "  <thead>\n",
       "    <tr style=\"text-align: right;\">\n",
       "      <th></th>\n",
       "      <th>VOI</th>\n",
       "      <th>rolling_voi</th>\n",
       "      <th>next_ret</th>\n",
       "    </tr>\n",
       "  </thead>\n",
       "  <tbody>\n",
       "    <tr>\n",
       "      <th>0</th>\n",
       "      <td>-1.543174</td>\n",
       "      <td>-0.856655</td>\n",
       "      <td>1.729842</td>\n",
       "    </tr>\n",
       "    <tr>\n",
       "      <th>1</th>\n",
       "      <td>-0.187225</td>\n",
       "      <td>-0.697442</td>\n",
       "      <td>1.296944</td>\n",
       "    </tr>\n",
       "    <tr>\n",
       "      <th>2</th>\n",
       "      <td>-1.182979</td>\n",
       "      <td>-0.928595</td>\n",
       "      <td>1.729842</td>\n",
       "    </tr>\n",
       "    <tr>\n",
       "      <th>3</th>\n",
       "      <td>0.232720</td>\n",
       "      <td>-0.260970</td>\n",
       "      <td>0.431147</td>\n",
       "    </tr>\n",
       "    <tr>\n",
       "      <th>4</th>\n",
       "      <td>0.533036</td>\n",
       "      <td>0.472372</td>\n",
       "      <td>-0.001752</td>\n",
       "    </tr>\n",
       "    <tr>\n",
       "      <th>...</th>\n",
       "      <td>...</td>\n",
       "      <td>...</td>\n",
       "      <td>...</td>\n",
       "    </tr>\n",
       "    <tr>\n",
       "      <th>13808958</th>\n",
       "      <td>1.610110</td>\n",
       "      <td>1.863178</td>\n",
       "      <td>-0.867549</td>\n",
       "    </tr>\n",
       "    <tr>\n",
       "      <th>13808959</th>\n",
       "      <td>-1.419410</td>\n",
       "      <td>-0.446883</td>\n",
       "      <td>-2.599143</td>\n",
       "    </tr>\n",
       "    <tr>\n",
       "      <th>13808960</th>\n",
       "      <td>1.445811</td>\n",
       "      <td>0.535445</td>\n",
       "      <td>-1.733346</td>\n",
       "    </tr>\n",
       "    <tr>\n",
       "      <th>13808961</th>\n",
       "      <td>0.526601</td>\n",
       "      <td>0.908893</td>\n",
       "      <td>-1.733346</td>\n",
       "    </tr>\n",
       "    <tr>\n",
       "      <th>13808962</th>\n",
       "      <td>-0.413454</td>\n",
       "      <td>-0.109222</td>\n",
       "      <td>-0.867549</td>\n",
       "    </tr>\n",
       "  </tbody>\n",
       "</table>\n",
       "<p>13808963 rows × 3 columns</p>\n",
       "</div>"
      ],
      "text/plain": [
       "               VOI  rolling_voi  next_ret\n",
       "0        -1.543174    -0.856655  1.729842\n",
       "1        -0.187225    -0.697442  1.296944\n",
       "2        -1.182979    -0.928595  1.729842\n",
       "3         0.232720    -0.260970  0.431147\n",
       "4         0.533036     0.472372 -0.001752\n",
       "...            ...          ...       ...\n",
       "13808958  1.610110     1.863178 -0.867549\n",
       "13808959 -1.419410    -0.446883 -2.599143\n",
       "13808960  1.445811     0.535445 -1.733346\n",
       "13808961  0.526601     0.908893 -1.733346\n",
       "13808962 -0.413454    -0.109222 -0.867549\n",
       "\n",
       "[13808963 rows x 3 columns]"
      ]
     },
     "execution_count": 7,
     "metadata": {},
     "output_type": "execute_result"
    }
   ],
   "source": [
    "train_df"
   ]
  },
  {
   "cell_type": "code",
   "execution_count": 8,
   "metadata": {},
   "outputs": [],
   "source": [
    "X_test,y_test,test_stamp, X_scaler,y_scaler,feature_labels, target_labels = load_dataset(asset, back_period, train=False,prev_period=prev_period, weights=weights,X_scaler=X_scaler,y_scaler=y_scaler)\n",
    "y_test = y_test[:-back_period,0]"
   ]
  },
  {
   "cell_type": "code",
   "execution_count": 9,
   "metadata": {},
   "outputs": [
    {
     "data": {
      "text/html": [
       "<div>\n",
       "<style scoped>\n",
       "    .dataframe tbody tr th:only-of-type {\n",
       "        vertical-align: middle;\n",
       "    }\n",
       "\n",
       "    .dataframe tbody tr th {\n",
       "        vertical-align: top;\n",
       "    }\n",
       "\n",
       "    .dataframe thead th {\n",
       "        text-align: right;\n",
       "    }\n",
       "</style>\n",
       "<table border=\"1\" class=\"dataframe\">\n",
       "  <thead>\n",
       "    <tr style=\"text-align: right;\">\n",
       "      <th></th>\n",
       "      <th>VOI</th>\n",
       "      <th>rolling_voi</th>\n",
       "      <th>next_ret</th>\n",
       "    </tr>\n",
       "  </thead>\n",
       "  <tbody>\n",
       "    <tr>\n",
       "      <th>VOI</th>\n",
       "      <td>1.000000</td>\n",
       "      <td>0.940611</td>\n",
       "      <td>0.122370</td>\n",
       "    </tr>\n",
       "    <tr>\n",
       "      <th>rolling_voi</th>\n",
       "      <td>0.940611</td>\n",
       "      <td>1.000000</td>\n",
       "      <td>0.100928</td>\n",
       "    </tr>\n",
       "    <tr>\n",
       "      <th>next_ret</th>\n",
       "      <td>0.122370</td>\n",
       "      <td>0.100928</td>\n",
       "      <td>1.000000</td>\n",
       "    </tr>\n",
       "  </tbody>\n",
       "</table>\n",
       "</div>"
      ],
      "text/plain": [
       "                  VOI  rolling_voi  next_ret\n",
       "VOI          1.000000     0.940611  0.122370\n",
       "rolling_voi  0.940611     1.000000  0.100928\n",
       "next_ret     0.122370     0.100928  1.000000"
      ]
     },
     "execution_count": 9,
     "metadata": {},
     "output_type": "execute_result"
    }
   ],
   "source": [
    "test_df = pd.DataFrame(X_test[:-back_period],columns=feature_labels)\n",
    "test_df['next_ret'] = y_test\n",
    "test_df.corr()"
   ]
  }
 ],
 "metadata": {
  "kernelspec": {
   "display_name": "cta_env",
   "language": "python",
   "name": "python3"
  },
  "language_info": {
   "codemirror_mode": {
    "name": "ipython",
    "version": 3
   },
   "file_extension": ".py",
   "mimetype": "text/x-python",
   "name": "python",
   "nbconvert_exporter": "python",
   "pygments_lexer": "ipython3",
   "version": "3.12.3"
  }
 },
 "nbformat": 4,
 "nbformat_minor": 2
}
