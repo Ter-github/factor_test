{
 "cells": [
  {
   "cell_type": "code",
   "execution_count": null,
   "metadata": {},
   "outputs": [],
   "source": [
    "import pandas as pd\n",
    "\n",
    "# 假设你已经有一个tableFrame包含交易数据\n",
    "table = pd.read_parquet('ag')\n",
    "\n",
    "table['BidVolume'] = table[['BidVolume1','BidVolume2','BidVolume3','BidVolume4','BidVolume5']]\n",
    "table['AskVolume'] = table[['AskVolume1','AskVolume2','AskVolume3','AskVolume4','AskVolume5']]\n",
    "# 计算挂单量的变化\n",
    "table['BidVolume_change'] = table['BidVolume'].diff()\n",
    "table['AskVolume_change'] = table['AskVolume'].diff()\n",
    "\n",
    "# # 计算每个tick挂单量的变化\n",
    "# table['BidVolume_drop'] = table['BidVolume_change'] < -table['BidVolume'] * 0.2  # 阈值设为20%的下降\n",
    "# table['AskVolume_drop'] = table['AskVolume_change'] < -table['AskVolume'] * 0.2\n",
    "\n",
    "# # 判断成交量是否接近挂单量的变化\n",
    "# table['trade_matches_bid_change'] = table['trade_volume'] >= table['BidVolume_change'].abs() * 0.9  # 成交量接近挂单量的变化量\n",
    "# table['trade_matches_ask_change'] = table['trade_volume'] >= table['AskVolume_change'].abs() * 0.9\n",
    "\n",
    "# # 判断是否为FOK或FAK单\n",
    "# table['is_FOK'] = (table['BidVolume_drop'] & table['trade_matches_bid_change']) | (table['AskVolume_drop'] & table['trade_matches_ask_change'])\n",
    "# table['is_FAK'] = (table['BidVolume_drop'] & (table['trade_volume'] > 0)) | (table['AskVolume_drop'] & (table['trade_volume'] > 0))\n"
   ]
  }
 ],
 "metadata": {
  "kernelspec": {
   "display_name": "base",
   "language": "python",
   "name": "python3"
  },
  "language_info": {
   "name": "python",
   "version": "3.11.7"
  }
 },
 "nbformat": 4,
 "nbformat_minor": 2
}
