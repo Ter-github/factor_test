{
 "cells": [
  {
   "cell_type": "code",
   "execution_count": 1,
   "metadata": {},
   "outputs": [],
   "source": [
    "import numpy as np\n",
    "import pandas as pd\n",
    "from matplotlib import pyplot as plt\n",
    "import seaborn as sns\n",
    "import warnings\n",
    "from scipy.stats import pearsonr\n",
    "import matplotlib.pyplot as plt\n",
    "from scipy import fft\n",
    "\n",
    "\n",
    "from sklearn.model_selection import train_test_split\n",
    "# import lightgbm as lgb\n",
    "from scipy.stats import pearsonr\n",
    "from sklearn.preprocessing import StandardScaler\n",
    "from sklearn.linear_model import LinearRegression\n",
    "from sklearn.metrics import mean_squared_error\n",
    "from factor_repository.repositories import FactorRepositoryAG\n",
    "\n",
    "warnings.filterwarnings(\"ignore\")\n",
    "pd.set_option('display.max_columns', None)\n",
    "plt.rcParams['font.sans-serif'] = ['SimHei']  # 使用黑体，或者使用你系统上可用的其他字体\n",
    "plt.rcParams['axes.unicode_minus'] = False  # 解决负号显示问题\n",
    "\n"
   ]
  },
  {
   "cell_type": "markdown",
   "metadata": {},
   "source": [
    "# 定义所需函数"
   ]
  },
  {
   "cell_type": "code",
   "execution_count": 2,
   "metadata": {},
   "outputs": [],
   "source": [
    "#利用AskPrice1和BidPrice1计算价格的平均值，进而计算分钟频的收益率\n",
    "def mid_price(df):\n",
    "    mid = (df['AskPrice1'] + df['BidPrice1'])/2\n",
    "    mid = mid.astype(float)\n",
    "    return mid"
   ]
  },
  {
   "cell_type": "code",
   "execution_count": 3,
   "metadata": {},
   "outputs": [],
   "source": [
    "def weighted_price(df):\n",
    "    weighted = (df['AskPrice1']*df['BidVolume1'] + df['BidPrice1']*df['AskVolume1'])/(df['BidVolume1'] + df['AskVolume1'])\n",
    "    weighted = weighted.astype(float)\n",
    "    return weighted"
   ]
  },
  {
   "cell_type": "code",
   "execution_count": 4,
   "metadata": {},
   "outputs": [],
   "source": [
    "def calculate_ic(factors, returns):\n",
    "    # 计算皮尔逊相关系数\n",
    "    ic, _ = pearsonr(factors, returns)\n",
    "    return ic"
   ]
  },
  {
   "cell_type": "code",
   "execution_count": 5,
   "metadata": {},
   "outputs": [],
   "source": [
    "def calculate_ic_multiple_factors(factors, returns):\n",
    "    \n",
    "\n",
    "    # 创建回归模型\n",
    "    model = LinearRegression()\n",
    "    \n",
    "    # 进行回归训练：因子作为自变量，收益作为因变量\n",
    "    model.fit(factors, returns)\n",
    "    \n",
    "    # 获取回归预测值\n",
    "    predicted_returns = model.predict(factors)\n",
    "    \n",
    "    # 计算预测值与实际收益的相关系数（即IC）\n",
    "    ic, _ = pearsonr(predicted_returns, returns)\n",
    "    \n",
    "    return ic"
   ]
  },
  {
   "cell_type": "code",
   "execution_count": null,
   "metadata": {},
   "outputs": [],
   "source": [
    "# 定义函数：获取前一个交易日\n",
    "def get_previous_trading_date(current_date, trading_dates):\n",
    "    idx = trading_dates.index(current_date)\n",
    "    return trading_dates[idx - 1] if idx > 0 else None\n",
    "\n",
    "# 定义主处理函数\n",
    "def process_day(group, prev_period, back_period, trading_dates):\n",
    "    \"\"\"\n",
    "    按照日盘和夜盘时间范围划分交易数据，并对每段数据进行前后切片处理，最后返回拼接结果。\n",
    "\n",
    "    :param group: 分组后的 DataFrame，每组是一个交易日的数据。\n",
    "    :param prev_period: 去掉每段数据前 prev_period 条记录。\n",
    "    :param back_period: 去掉每段数据后 back_period 条记录。\n",
    "    :param trading_dates: 所有交易日的序列，用于查找前一个交易日。\n",
    "    :return: 处理后的日盘和夜盘数据拼接后的 DataFrame。\n",
    "    \"\"\"\n",
    "    # 获取当前交易日和前一个交易日\n",
    "    trading_date = group['trading_date'].iloc[0]\n",
    "    previous_trading_date = get_previous_trading_date(trading_date, trading_dates)\n",
    "\n",
    "    # 定义时间范围\n",
    "    day_start = pd.to_datetime(f\"{trading_date} 09:00:00\")\n",
    "    day_end = pd.to_datetime(f\"{trading_date} 15:00:00\")\n",
    "    night_start = pd.to_datetime(f\"{previous_trading_date} 21:00:00\") if previous_trading_date else None\n",
    "    night_end = (pd.to_datetime(f\"{previous_trading_date} 02:30:00\") + pd.Timedelta(days=1)) if previous_trading_date else None\n",
    "\n",
    "    # 筛选日盘数据\n",
    "    day_session = group[(group['exchange_time'] >= day_start) & (group['exchange_time'] <= day_end)]\n",
    "\n",
    "    # 筛选夜盘数据（需要判断是否有前一个交易日）\n",
    "    if night_start:\n",
    "        night_session = group[(group['exchange_time'] >= night_start) & (group['exchange_time'] <= night_end)]\n",
    "    else:\n",
    "        night_session = pd.DataFrame()  # 如果没有前一个交易日，则夜盘数据为空\n",
    "\n",
    "    # 检查数据长度，避免切片越界\n",
    "    day_session_processed = day_session.iloc[prev_period:-back_period] \n",
    "    night_session_processed = night_session.iloc[prev_period:-back_period]\n",
    "\n",
    "    # 拼接处理后的日盘和夜盘数据\n",
    "    processed_data = pd.concat([night_session_processed,day_session_processed], ignore_index=True)\n",
    "\n",
    "    return processed_data\n"
   ]
  },
  {
   "cell_type": "markdown",
   "metadata": {},
   "source": [
    "# 提取指定时间范围内的数据\n",
    "同时对涨跌停价做处理"
   ]
  },
  {
   "cell_type": "code",
   "execution_count": null,
   "metadata": {},
   "outputs": [],
   "source": [
    "df = pd.read_parquet(r'source\\ag')\n",
    "df['trading_date'] = pd.to_datetime(df['trading_date']) \n",
    "\n",
    "# 设置开始和结束时间\n",
    "start_time = pd.to_datetime('2023-07-01')\n",
    "end_time = pd.to_datetime('2024-07-01')\n",
    "\n",
    "table = df[(df['trading_date'] >= start_time) & (df['trading_date'] <= end_time)]\n",
    "\n",
    "# 当 AskPrice1 为 0 时，用 BidPrice1 替换\n",
    "table['AskPrice1'] = table['AskPrice1'].where(table['AskPrice1'] != 0, table['BidPrice1'])\n",
    "\n",
    "# 当 AskPrice1 为 0 时，用 AskPrice1 替换\n",
    "table['BidPrice1'] = table['BidPrice1'].where(table['BidPrice1'] != 0, table['AskPrice1'])"
   ]
  },
  {
   "cell_type": "code",
   "execution_count": null,
   "metadata": {},
   "outputs": [],
   "source": []
  },
  {
   "cell_type": "markdown",
   "metadata": {},
   "source": [
    "# 计算tick数据中的基本信息"
   ]
  },
  {
   "cell_type": "code",
   "execution_count": 9,
   "metadata": {},
   "outputs": [],
   "source": [
    "# 计算一些差分数据\n",
    "table['current_volume'] = table['Volume'].diff()\n",
    "table['Position Increase'] = table['OpenInterest'].diff()\n",
    "table['current_turnover'] = table['Turnover'].diff()\n",
    "table['current_avg_price'] = table['current_turnover']/(table['current_volume']*15)\n",
    "table['mid_price'] = mid_price(table)\n",
    "table['weighted_price'] = weighted_price(table)\n",
    "# 计算买方委托量之和和卖方委托量之和，以及总委托量\n",
    "table['BidVolume'] = table[['BidVolume1','BidVolume2','BidVolume3','BidVolume4','BidVolume5']].sum(axis=1)\n",
    "table['AskVolume'] = table[['AskVolume1','AskVolume2','AskVolume3','AskVolume4','AskVolume5']].sum(axis=1)\n",
    "table['Order_Volume'] = table['BidVolume'] + table['AskVolume']"
   ]
  },
  {
   "cell_type": "code",
   "execution_count": 10,
   "metadata": {},
   "outputs": [],
   "source": [
    "# # 判断是否主动买卖\n",
    "table['buy_sell_signal'] = 0\n",
    "table.loc[table['last'] >= table['AskPrice1'].shift(1),'buy_sell_signal'] = 1\n",
    "table.loc[table['last'] <= table['BidPrice1'].shift(1),'buy_sell_signal'] = -1\n"
   ]
  },
  {
   "cell_type": "code",
   "execution_count": 11,
   "metadata": {},
   "outputs": [],
   "source": [
    "# # 构造基础信息：成交价格对，以及以高价成交和低价成交的比例\n",
    "# table['前一期成交价格对'] = 'BidPrice1 and AskPrice1'\n",
    "# table['前一期Low Price比例'] = (table['current_avg_price'] - table['AskPrice1'].shift(1))/(table['BidPrice1'].shift(1) - table['AskPrice1'].shift(1))\n",
    "# table['前一期High Price比例'] = 1 - table['前一期Low Price比例']\n",
    "# table['前一期High Price比例'] = 1 - table['前一期Low Price比例']\n",
    "# table.loc[(table['前一期High Price比例'] > 1),'前一期成交价格对'] = 'AskPrice1 and AskPrice2'\n",
    "# table.loc[(table['前一期Low Price比例'] > 1),'前一期成交价格对'] = 'BidPrice2 and BidPrice1'\n",
    "# table['前一期Low Price比例'].loc[(table['前一期High Price比例'] > 1)] = (table['current_avg_price'] - table['AskPrice2'].shift(1))/(table['AskPrice1'].shift(1) - table['AskPrice2'].shift(1))\n",
    "# table['前一期Low Price比例'].loc[(table['前一期Low Price比例'] > 1)] = (table['current_avg_price'] - table['BidPrice1'].shift(1))/(table['BidPrice2'].shift(1) - table['BidPrice1'].shift(1))\n",
    "# table['前一期High Price比例'] = 1 - table['前一期Low Price比例']\n",
    "# table.loc[(table['前一期High Price比例'] > 1),'前一期成交价格对'] = 'AskPrice2 and AskPrice3'\n",
    "# table.loc[(table['前一期Low Price比例'] > 1),'前一期成交价格对'] = 'BidPrice3 and BidPrice2'\n",
    "# table['前一期Low Price比例'].loc[(table['前一期High Price比例'] > 1)] = (table['current_avg_price'] - table['AskPrice3'].shift(1))/(table['AskPrice2'].shift(1) - table['AskPrice3'].shift(1))\n",
    "# table['前一期Low Price比例'].loc[(table['前一期Low Price比例'] > 1)] = (table['current_avg_price'] - table['BidPrice2'].shift(1))/(table['BidPrice3'].shift(1) - table['BidPrice2'].shift(1))\n",
    "# table['前一期High Price比例'] = 1 - table['前一期Low Price比例']\n",
    "# table.loc[(table['前一期High Price比例'] > 1),'前一期成交价格对'] = 'AskPrice3 and AskPrice4'\n",
    "# table.loc[(table['前一期Low Price比例'] > 1),'前一期成交价格对'] = 'BidPrice4 and BidPrice3'\n",
    "# table['前一期Low Price比例'].loc[(table['前一期High Price比例'] > 1)] = (table['current_avg_price'] - table['AskPrice4'].shift(1))/(table['AskPrice3'].shift(1) - table['AskPrice4'].shift(1))\n",
    "# table['前一期Low Price比例'].loc[(table['前一期Low Price比例'] > 1)] = (table['current_avg_price'] - table['BidPrice3'].shift(1))/(table['BidPrice4'].shift(1) - table['BidPrice3'].shift(1))\n",
    "# table['前一期High Price比例'] = 1 - table['前一期Low Price比例']\n"
   ]
  },
  {
   "cell_type": "code",
   "execution_count": null,
   "metadata": {},
   "outputs": [],
   "source": []
  },
  {
   "cell_type": "code",
   "execution_count": 12,
   "metadata": {},
   "outputs": [],
   "source": [
    "# 计算收益，即y值\n",
    "time_list = [20*i for i in range(1,11)]\n",
    "for i in time_list:\n",
    "    table[f'frt_{i}'] = -table['mid_price'].diff(-i)"
   ]
  },
  {
   "cell_type": "code",
   "execution_count": null,
   "metadata": {},
   "outputs": [],
   "source": []
  },
  {
   "cell_type": "code",
   "execution_count": 13,
   "metadata": {},
   "outputs": [],
   "source": [
    "#处理缺失值\n",
    "# table['前一期Low Price比例'].replace([np.inf, -np.inf], np.nan, inplace=True)\n",
    "# table['前一期High Price比例'].replace([np.inf, -np.inf], np.nan, inplace=True)\n",
    "table['current_volume'].fillna(0,inplace=True)\n",
    "table['Position Increase'].fillna(0,inplace=True)\n",
    "table['current_turnover'].fillna(0,inplace=True)\n",
    "table['current_avg_price'].replace([np.inf, -np.inf], np.nan, inplace=True)\n",
    "table['current_avg_price'].fillna(method='ffill',inplace=True)\n",
    "table['buy_sell_signal'].fillna(0,inplace=True)\n",
    "# table['前一期Low Price比例'].fillna(0,inplace=True)\n",
    "# table['前一期High Price比例'].fillna(0,inplace=True)\n",
    "# table['frt_120'].fillna(0,inplace=True)\n",
    "for i in time_list:\n",
    "    table[f'frt_{i}'].fillna(0,inplace=True)\n"
   ]
  },
  {
   "cell_type": "code",
   "execution_count": 14,
   "metadata": {},
   "outputs": [],
   "source": [
    "# table['std_price_diff'] = table['mid_price'].diff()/table['mid_price'].rolling(5).std()\n",
    "# table['std_price_diff'].replace([np.inf, -np.inf], np.nan, inplace=True)\n",
    "# table['std_price_diff'].fillna(0, inplace=True)\n",
    "\n",
    "# table['bid_volume'] = table['current_volume'] * norm.pdf(table['std_price_diff'])\n",
    "# table['ask_volume'] = table['current_volume']  - table['bid_volume']"
   ]
  },
  {
   "cell_type": "code",
   "execution_count": 15,
   "metadata": {},
   "outputs": [],
   "source": [
    "table = table.reset_index(drop=True)"
   ]
  },
  {
   "cell_type": "markdown",
   "metadata": {},
   "source": [
    "# 构造因子"
   ]
  },
  {
   "cell_type": "code",
   "execution_count": 16,
   "metadata": {},
   "outputs": [],
   "source": [
    "# # 应用傅里叶变换\n",
    "# fft_result = np.fft.fft(table['current_volume'])\n",
    "# freqs = np.fft.fftfreq(len(table['current_volume']))\n",
    "\n",
    "# # 逆傅里叶变换\n",
    "# filtered = fft_result.copy()\n",
    "# filtered[np.abs(freqs) < 0.01] = 0\n",
    "# inverse_fft = np.fft.ifft(filtered)\n",
    "\n",
    "# # 绘制原始信号和分解后的信号\n",
    "# plt.figure(figsize=(14, 7))\n",
    "# plt.plot(table['current_volume'], label='Original current_volume')\n",
    "# plt.plot(np.real(inverse_fft), label='Reconstructed from Sine Waves')\n",
    "# plt.legend()"
   ]
  },
  {
   "cell_type": "code",
   "execution_count": 17,
   "metadata": {},
   "outputs": [],
   "source": [
    "# abc因子\n",
    "# table['factor'] = -np.log((table['BidVolume1'] - table[['BidVolume1', 'BidVolume2', 'BidVolume3', 'BidVolume4', 'BidVolume5']].max(axis=1))/(table['AskVolume1'] - table[['AskVolume1', 'AskVolume2', 'AskVolume3', 'AskVolume4', 'AskVolume5']].max(axis=1)))\n",
    "# # table['factor']= -np.log((table['BidVolume1'] - table['BidVolume2'])/(table['AskVolume1'] - table['AskVolume2']))\n",
    "# table['factor'].replace([np.inf, -np.inf], np.nan, inplace=True)\n",
    "# table['factor'].fillna(0,inplace=True)"
   ]
  },
  {
   "cell_type": "code",
   "execution_count": 18,
   "metadata": {},
   "outputs": [],
   "source": [
    "# table['factor'] = table['weighted_price'].rolling(120).corr(table['current_volume']/table['current_volume'].rolling(120).sum())\n",
    "# table['factor'].replace([np.inf, -np.inf], np.nan, inplace=True)\n",
    "# table['factor'].fillna(0,inplace=True)"
   ]
  },
  {
   "cell_type": "code",
   "execution_count": 19,
   "metadata": {},
   "outputs": [],
   "source": [
    "# table['主动买'] = 0\n",
    "# table.loc[table['last'] >= table['AskPrice1'].shift(1),'主动买'] = 1\n",
    "# table['主动卖'] = 0\n",
    "# table.loc[table['last'] <= table['BidPrice1'].shift(1),'主动卖'] = 1\n",
    "# table['factor'] = np.log((table['主动买'].rolling(120).sum() + 0.00001)/(table['主动卖'].rolling(120).sum()+0.00001))\n",
    "# table['factor'].fillna(0,inplace=True)"
   ]
  },
  {
   "cell_type": "code",
   "execution_count": 20,
   "metadata": {},
   "outputs": [],
   "source": [
    "# table['Bid_factor'] = table['BidVolume1']/table['BidVolume1'].rolling(60).mean()\n",
    "# table['Ask_factor'] = table['AskVolume1']/table['AskVolume1'].rolling(60).mean()\n",
    "# table['Ln'] = np.log(table['Bid_factor']/table['Ask_factor'])\n",
    "# # table['factor'] = (1-0.3 * (np.abs(table['Ln']) >= 2.5)*np.log(np.abs(table['Ln'])))*table['Ln']\n",
    "# table['factor'] = table['Ln']\n",
    "# table['factor'].fillna(0,inplace=True)"
   ]
  },
  {
   "cell_type": "code",
   "execution_count": 21,
   "metadata": {},
   "outputs": [],
   "source": [
    "# table = create_lagged_features(table,120)\n",
    "# columns_to_adjust_Bid = [col for col in table.columns if 'BidVolume1' in col]\n",
    "# columns_to_adjust_Ask = [col for col in table.columns if 'AskVolume1' in col]\n",
    "# table[columns_to_adjust_Bid].fillna(method='bfill',inplace=True)\n",
    "# table[columns_to_adjust_Ask].fillna(method='bfill',inplace=True)\n",
    "\n",
    "# Bid_volumes = table[columns_to_adjust_Bid]\n",
    "# values = Bid_volumes[columns_to_adjust_Bid].values\n",
    "\n",
    "# # 计算均值、标准差和偏度\n",
    "# means = np.mean(values, axis=1)\n",
    "# stds = np.std(values, axis=1, ddof=1)\n",
    "# skewness_Bid = np.sum(((values - means[:, np.newaxis]) / stds[:, np.newaxis])**3, axis=1) / values.shape[1]\n",
    "\n",
    "# # 将偏度结果存入 DataFrame\n",
    "# Bid_volumes['skewness'] = skewness_Bid\n",
    "# Bid_volumes.fillna(0,inplace=True)\n",
    "\n",
    "\n",
    "# Ask_volumes = table[columns_to_adjust_Ask]\n",
    "# values = Ask_volumes[columns_to_adjust_Ask].values\n",
    "\n",
    "# # 计算均值、标准差和偏度\n",
    "# means = np.mean(values, axis=1)\n",
    "# stds = np.std(values, axis=1, ddof=1)\n",
    "# skewness_Ask = np.sum(((values - means[:, np.newaxis]) / stds[:, np.newaxis])**3, axis=1) / values.shape[1]\n",
    "\n",
    "# # 将偏度结果存入 DataFrame\n",
    "# Ask_volumes['skewness'] = skewness_Ask\n",
    "# Ask_volumes.fillna(0, inplace=True)\n",
    "\n",
    "\n",
    "\n",
    "# table['factor'] = Bid_volumes['skewness']-Ask_volumes['skewness']\n",
    "# table['factor'].replace([np.inf,-np.inf],0,inplace=True)\n",
    "# table['factor'].fillna(0,inplace=True)"
   ]
  },
  {
   "cell_type": "code",
   "execution_count": 22,
   "metadata": {},
   "outputs": [],
   "source": [
    "# # 买卖斜率因子，在AG上IC：0.035\n",
    "# table['Bid_Slope'] = table['BidVolume1'].diff()/(table['BidPrice1'].diff()+0.001)\n",
    "# table['std_Bid_Slope'] = (table['Bid_Slope'] - table['Bid_Slope'].rolling(120).mean())/table['Bid_Slope'].rolling(120).std()\n",
    "# table['Ask_Slope'] = table['AskVolume1'].diff()/(table['AskPrice1'].diff()+0.001)\n",
    "# table['std_Ask_Slope'] = (table['Ask_Slope'] - table['Ask_Slope'].rolling(120).mean())/table['Ask_Slope'].rolling(120).std()\n",
    "# table['Slope_factor'] = table['std_Bid_Slope'] - table['std_Ask_Slope']\n",
    "# table['Slope_factor'].replace([np.inf, -np.inf], np.nan, inplace=True)\n",
    "# table['Slope_factor'].fillna(0,inplace=True)\n"
   ]
  },
  {
   "cell_type": "code",
   "execution_count": 23,
   "metadata": {},
   "outputs": [],
   "source": [
    "#在AG上的IC:0.018\n",
    "# table['Bid_Slope'] = (table['BidVolume1'] - table['BidVolume2'])/(table['BidPrice1'] - table['BidPrice2'])\n",
    "# table['Ask_Slope'] = (table['AskVolume1'] - table['AskVolume2'])/(table['AskPrice1'] - table['AskPrice2'])\n",
    "# table['std_factor'] = table['Bid_Slope'] + table['Ask_Slope']\n",
    "# table['factor'] = (\n",
    "# 1\n",
    "# + 0.2 * (np.abs(table['std_factor']) >= 90)\n",
    "# * np.log(np.abs(table['std_factor'] / 90))\n",
    "# ) * (1/(1+np.exp(-table['std_factor']/15)) - 0.5)\n",
    "# table['factor'].fillna(0,inplace=True)"
   ]
  },
  {
   "cell_type": "code",
   "execution_count": 24,
   "metadata": {},
   "outputs": [],
   "source": [
    "# # 偏度因子\n",
    "# columns_to_adjust = ['BidVolume1', 'BidVolume2', 'BidVolume3', 'BidVolume4', 'BidVolume5']\n",
    "# Bid_volumes = table[columns_to_adjust]\n",
    "# # Bid_volumes['mean'] = Bid_volumes.mean(axis=1)\n",
    "# # Bid_volumes[columns_to_adjust] = Bid_volumes[columns_to_adjust].subtract(Bid_volumes['mean'],axis=0)\n",
    "# # 提取数值数据为 NumPy 数组\n",
    "# values = Bid_volumes[columns_to_adjust].values\n",
    "\n",
    "# # 计算均值、标准差和偏度\n",
    "# means = np.mean(values, axis=1)\n",
    "# stds = np.std(values, axis=1, ddof=1)\n",
    "# skewness = np.sum(((values - means[:, np.newaxis]) / stds[:, np.newaxis])**3, axis=1) / values.shape[1]\n",
    "\n",
    "\n",
    "# # 将偏度结果存入 DataFrame\n",
    "# Bid_volumes['skewness'] = skewness\n",
    "\n"
   ]
  },
  {
   "cell_type": "code",
   "execution_count": 25,
   "metadata": {},
   "outputs": [],
   "source": [
    "# columns_to_adjust = ['AskVolume1', 'AskVolume2', 'AskVolume3', 'AskVolume4', 'AskVolume5']\n",
    "# Ask_volumes = table[columns_to_adjust]\n",
    "# # Ask_volumes['mean'] = Ask_volumes.mean(axis=1)\n",
    "# # Ask_volumes[columns_to_adjust] = Ask_volumes[columns_to_adjust].subtract(Ask_volumes['mean'],axis=0)\n",
    "# # 提取数值数据为 NumPy 数组\n",
    "# values = Ask_volumes[columns_to_adjust].values\n",
    "\n",
    "# # 计算均值、标准差和偏度\n",
    "# means = np.mean(values, axis=1)\n",
    "# stds = np.std(values, axis=1, ddof=1)\n",
    "# skewness = np.sum(((values - means[:, np.newaxis]) / stds[:, np.newaxis])**3, axis=1) / values.shape[1]\n",
    "\n",
    "\n",
    "# # 将偏度结果存入 DataFrame\n",
    "# Ask_volumes['skewness'] = skewness\n",
    "\n",
    "\n",
    "# table['skew_factor'] = Bid_volumes['skewness'] - Ask_volumes['skewness']\n",
    "# # table['factor'] = (table['skew_factor'] - table['skew_factor'].rolling(20).mean())/table['skew_factor'].rolling(20).std()\n",
    "# table['factor'] = table['skew_factor']\n",
    "# table['factor'].replace([np.inf,-np.inf],np.nan,inplace=True)\n",
    "# table['factor'].fillna(0,inplace=True)"
   ]
  },
  {
   "cell_type": "code",
   "execution_count": 26,
   "metadata": {},
   "outputs": [],
   "source": [
    "# table['Difference in Trading Pct'] = table['前一期High Price比例'] - table['前一期Low Price比例']\n",
    "# table['factor'] =  table['Difference in Trading Pct']\n",
    "# table['New_Difference in Trading Pct'] = 0\n",
    "# table['New_Difference in Trading Pct'].loc[table['前一期成交价格对'] == 'BidPrice1 and AskPrice1'] = table['Difference in Trading Pct']\n",
    "# table['New_Difference in Trading Pct'].loc[(table['前一期成交价格对'] == 'AskPrice1 and AskPrice2')] = 1.0 + table['Difference in Trading Pct']\n",
    "# table['New_Difference in Trading Pct'].loc[(table['前一期成交价格对'] == 'AskPrice2 and AskPrice3')] = 2.0 + table['Difference in Trading Pct']\n",
    "# table['New_Difference in Trading Pct'].loc[(table['前一期成交价格对'] == 'AskPrice3 and AskPrice4')] = 2.8 + table['Difference in Trading Pct']\n",
    "# table['New_Difference in Trading Pct'].loc[(table['前一期成交价格对'] == 'BidPrice2 and BidPrice1')] = -1.0 + table['Difference in Trading Pct']\n",
    "# table['New_Difference in Trading Pct'].loc[(table['前一期成交价格对'] == 'BidPrice3 and BidPrice2')] = -2.0 + table['Difference in Trading Pct']\n",
    "# table['New_Difference in Trading Pct'].loc[(table['前一期成交价格对'] == 'BidPrice4 and BidPrice3')] = -2.8 + table['Difference in Trading Pct']\n",
    "# table['factor'] = table['New_Difference in Trading Pct']"
   ]
  },
  {
   "cell_type": "code",
   "execution_count": 27,
   "metadata": {},
   "outputs": [],
   "source": [
    "# IC:0.058\n",
    "# table['price_diff'] = table['current_avg_price'] - table['mid_price']\n",
    "# table['std_factor'] = table['current_volume'].rolling(5).std() * table['price_diff']\n",
    "# table['factor'] = (\n",
    "# 1\n",
    "# + 0.2 * (np.abs(table['std_factor']) >= 25)\n",
    "# * np.log(np.abs(table['std_factor'] / 25))\n",
    "# ) * (1/(1+np.exp(-table['std_factor']/5)) - 0.5)\n",
    "# table['factor'].fillna(0,inplace=True)\n"
   ]
  },
  {
   "cell_type": "code",
   "execution_count": 28,
   "metadata": {},
   "outputs": [],
   "source": [
    "# # 压力因子\n",
    "# ask_weights = [f'Askweight{i}' for i in range(1, 6)]\n",
    "# bid_weights = [f'Bidweight{i}' for i in range(1, 6)]\n",
    "# ask_volumes = [f'AskVolume{i}' for i in range(1, 6)]\n",
    "# bid_volumes = [f'BidVolume{i}' for i in range(1, 6)]\n",
    "\n",
    "# # 计算 Askweight 和 Bidweight\n",
    "# for i in range(5):\n",
    "#     table[ask_weights[i]] = table['current_avg_price'] / (table[f'AskPrice{i+1}'] - table['current_avg_price'] + 0.00000123787)\n",
    "#     table[bid_weights[i]] = -table['current_avg_price'] / (table[f'BidPrice{i+1}'] - table['current_avg_price'] + 0.00000123787)\n",
    "\n",
    "# # 计算卖盘压力 press_ask\n",
    "# ask_weight_sum = table[ask_weights].sum(axis=1)\n",
    "# table['press_ask'] = sum(table[ask_volumes[i]] * table[ask_weights[i]] for i in range(5)) / ask_weight_sum\n",
    "\n",
    "# # 计算买盘压力 press_bid\n",
    "# bid_weight_sum = table[bid_weights].sum(axis=1)\n",
    "# table['press_bid'] = sum(table[bid_volumes[i]] * table[bid_weights[i]] for i in range(5)) / bid_weight_sum\n",
    "\n",
    "# table['Press_factor'] = -np.log(table['press_ask']/table['press_bid'])\n",
    "# table['Press_factor'].replace([np.inf, -np.inf], np.nan, inplace=True)\n",
    "# table['Press_factor'].fillna(0,inplace=True)\n",
    "# # # 计算因子 factor\n",
    "# # table['factor'] = table['Press_factor']\n",
    "# # # 填充缺失值\n",
    "# # table['factor'].fillna(0, inplace=True)"
   ]
  },
  {
   "cell_type": "code",
   "execution_count": 29,
   "metadata": {},
   "outputs": [],
   "source": [
    "# table['BAV_diff'] = table['BidVolume1'].diff() - table['AskVolume1'].diff()\n",
    "# table['BAV_Diff_Transform'] = (\n",
    "# 1\n",
    "# + 0.2 * (np.abs(table['BAV_diff']) >= 6*15)\n",
    "# * np.log(np.abs(table['BAV_diff'] / (6*15)))\n",
    "# ) * (1 / (1 + np.exp(-table['BAV_diff'] / 15)) - 0.5)\n",
    "# table['BAV_Diff_Transform'].fillna(0,inplace=True)"
   ]
  },
  {
   "cell_type": "code",
   "execution_count": 30,
   "metadata": {},
   "outputs": [],
   "source": [
    "# table['delta_vol_Bid'] = table['BidVolume1'].diff() * (table['BidPrice1'] == table['BidPrice1'].shift(1)) + table['BidVolume1'] * (table['BidPrice1'] > table['BidPrice1'].shift(1)) + (table['BidVolume1']-table['BidVolume2'].shift(1)) * (table['BidPrice1'] < table['BidPrice1'].shift(1))\n",
    "# table['delta_vol_Ask'] = table['AskVolume1'].diff() * (table['AskPrice1'] == table['AskPrice1'].shift(1)) + table['AskVolume1'] * (table['AskPrice1'] < table['AskPrice1'].shift(1)) + (table['AskVolume1']-table['AskVolume2'].shift(1)) * (table['AskPrice1'] > table['AskPrice1'].shift(1))\n",
    "# table['volume_order_imbalance'] = (table['delta_vol_Bid'] - table['delta_vol_Ask'])\n",
    "# # table['factor'] = (\n",
    "# # 1\n",
    "# # + 0.2 * (np.abs(table['std_factor']) >= 25)\n",
    "# # * np.log(np.abs(table['std_factor'] / 25))\n",
    "# # ) * (1/(1+np.exp(-table['std_factor']/5)) - 0.5)\n",
    "# table['volume_order_imbalance'].fillna(0,inplace=True)"
   ]
  },
  {
   "cell_type": "code",
   "execution_count": 31,
   "metadata": {},
   "outputs": [],
   "source": [
    "# # 根据 BidPrice1 和 BidPrice1.shift(1) 创建分类变量\n",
    "# conditions = (table['BidPrice1'] < table['BidPrice1'].shift(1)) * -1 + \\\n",
    "#              (table['BidPrice1'] == table['BidPrice1'].shift(1)) * 0 + \\\n",
    "#              (table['BidPrice1'] > table['BidPrice1'].shift(1)) * 1\n",
    "             \n",
    "# # 绘制直方图\n",
    "# plt.figure(figsize=(10, 6))\n",
    "# plt.hist(conditions, bins=3, alpha=0.7, edgecolor='black', rwidth=0.8)\n",
    "\n",
    "# # 设置标签和标题\n",
    "# plt.xlabel('Condition Value')\n",
    "# plt.ylabel('Frequency')\n",
    "# plt.title('Frequency of Conditions: BidPrice1 vs BidPrice1.shift(1)')\n",
    "# plt.xticks([-1, 0, 1], ['BidPrice1 < BidPrice1.shift(1)', 'BidPrice1 == BidPrice1.shift(1)', 'BidPrice1 > BidPrice1.shift(1)'])\n",
    "# plt.grid(True)\n",
    "# plt.show()\n"
   ]
  },
  {
   "cell_type": "code",
   "execution_count": 32,
   "metadata": {},
   "outputs": [],
   "source": [
    "# # 仅筛选出 -1 和 1 的条件\n",
    "# filtered_conditions = conditions[(conditions == -1) | (conditions == 1)]\n",
    "\n",
    "# # 绘制直方图\n",
    "# plt.figure(figsize=(10, 6))\n",
    "# plt.hist(filtered_conditions, bins=2, alpha=0.7, edgecolor='black', rwidth=0.8)\n",
    "\n",
    "# # 设置标签和标题\n",
    "# plt.xlabel('Condition Value')\n",
    "# plt.ylabel('Frequency')\n",
    "# plt.title('Frequency of Conditions: BidPrice1 < BidPrice1.shift(1) vs BidPrice1 > BidPrice1.shift(1)')\n",
    "# plt.xticks([-1, 1], ['BidPrice1 < BidPrice1.shift(1)', 'BidPrice1 > BidPrice1.shift(1)'])\n",
    "# plt.grid(True)\n",
    "# plt.show()"
   ]
  },
  {
   "cell_type": "code",
   "execution_count": 33,
   "metadata": {},
   "outputs": [],
   "source": [
    "# IC:0.056\n",
    "# table['Ask_diff'] = table['AskVolume1'] - table['AskVolume2']\n",
    "# table['Bid_diff'] = table['BidVolume1'] - table['BidVolume2']\n",
    "# table['factor'] = table['Bid_diff'].diff() - table['Ask_diff'].diff()\n",
    "# table['factor'] = (\n",
    "# 1\n",
    "# + 0.2 * (np.abs(table['factor']) >= 25)\n",
    "# * np.log(np.abs(table['factor'] / 25))\n",
    "# ) * (1/(1+np.exp(-table['factor']/5)) - 0.5)\n",
    "# table['factor'].fillna(0,inplace=True)\n",
    "\n"
   ]
  },
  {
   "cell_type": "code",
   "execution_count": 34,
   "metadata": {},
   "outputs": [],
   "source": [
    "# table = table[(table['BAV_diff']<-50) | (table['BAV_diff']>50)]\n",
    "# table = table[(table['BAV_diff']>=-100) & (table['BAV_diff']<=100)]\n"
   ]
  },
  {
   "cell_type": "code",
   "execution_count": 35,
   "metadata": {},
   "outputs": [],
   "source": [
    "# table['factor1_weight'] = 0\n",
    "# table['factor1_weight'].loc[table['主动买or主动卖']=='主动买'] = 0.2\n",
    "# table['factor1_weight'].loc[(table['前一期成交价格对'] == 'AskPrice1 and AskPrice2')] = 1.2\n",
    "# table['factor1_weight'].loc[(table['前一期成交价格对'] == 'AskPrice2 and AskPrice3')] = 1.8\n",
    "# table['factor1_weight'].loc[table['主动买or主动卖']=='主动卖'] = -0.2\n",
    "# table['factor1_weight'].loc[(table['前一期成交价格对'] == 'BidPrice2 and BidPrice1')] = -1.2\n",
    "# table['factor1_weight'].loc[(table['前一期成交价格对'] == 'BidPrice3 and BidPrice2')] = -1.8\n",
    "# table['factor'] = table['factor1_weight']*table['current_volume']"
   ]
  },
  {
   "cell_type": "code",
   "execution_count": 36,
   "metadata": {},
   "outputs": [],
   "source": [
    "# table['factor'] = table['Position Increase'].rolling(120).mean()/table['current_volume'].rolling(120).mean()\n",
    "# table['factor'].fillna(0,inplace=True)"
   ]
  },
  {
   "cell_type": "code",
   "execution_count": 37,
   "metadata": {},
   "outputs": [],
   "source": [
    "# ask_weights = [f'Askweight{i}' for i in range(1, 6)]\n",
    "# bid_weights = [f'Bidweight{i}' for i in range(1, 6)]\n",
    "# ask_volumes = [f'AskVolume{i}' for i in range(1, 6)]\n",
    "# bid_volumes = [f'BidVolume{i}' for i in range(1, 6)]\n",
    "# ask_price = [f'AskPrice{i}' for i in range(1, 6)]\n",
    "# bid_price = [f'BidPrice{i}' for i in range(1, 6)]\n",
    "\n",
    "# # 计算 Askweight 和 Bidweight\n",
    "# for i in range(5):\n",
    "#     table[ask_weights[i]] = table[f'AskVolume{i+1}'] / table[ask_volumes].sum(axis=1)\n",
    "#     table[bid_weights[i]] = table[f'BidVolume{i+1}'] / table[bid_volumes].sum(axis=1)\n",
    "\n",
    "# # 计算卖盘压力 press_ask\n",
    "# table['press_ask'] = sum(table[ask_price[i]] * table[ask_weights[i]] for i in range(5)) \n",
    "# # 计算买盘压力 press_bid\n",
    "# table['press_bid'] = sum(table[bid_price[i]] * table[bid_weights[i]] for i in range(5))\n",
    "\n",
    "# table['factor'] = table['press_ask'] + table['press_bid'] - 2*table['weighted_price']\n",
    "\n",
    "# # 填充缺失值\n",
    "# table['factor'].fillna(0, inplace=True)"
   ]
  },
  {
   "cell_type": "code",
   "execution_count": 38,
   "metadata": {},
   "outputs": [],
   "source": [
    "# table['factor'] = np.log(table['current_volume'].rolling(5).std()+1)\n",
    "# table['factor'] = np.log(table['factor']+1)\n",
    "# table['factor'] = np.log(table['BidVolume1'].rolling(5).std())/np.log(table['AskVolume1'].rolling(5).std())"
   ]
  },
  {
   "cell_type": "code",
   "execution_count": 39,
   "metadata": {},
   "outputs": [],
   "source": [
    "# table['factor'] = table['mid_price'].diff(120)/np.abs(table['mid_price'].diff()).rolling(120).sum()\n",
    "# table['factor'].replace([np.inf, -np.inf], np.nan, inplace=True)\n",
    "# table['factor'].fillna(0,inplace=True)"
   ]
  },
  {
   "cell_type": "code",
   "execution_count": 40,
   "metadata": {},
   "outputs": [],
   "source": [
    "# def rolling_fft(fft_current_volume):\n",
    "#     # 计算每个窗口的 FFT\n",
    "#     data = fft_current_volume.copy()\n",
    "#     data.reset_index(drop=True)\n",
    "#     # 计算每个窗口的频率\n",
    "#     freqs = np.fft.fftfreq(len(data))\n",
    "#     pows = np.abs(data)*(freqs > 0)\n",
    "#     # 留下能量最高的频率\n",
    "#     fund_freq = freqs[pows.argmax()]\n",
    "#     # 寻找需要抹掉的噪声频率的索引\n",
    "#     noised_indices = np.where(freqs != fund_freq)\n",
    "\n",
    "#     # 复制一个数组以避免修改原始数据\n",
    "#     filter_complex_array = data.copy()\n",
    "#     filter_complex_array.reset_index(drop=True, inplace=True)\n",
    "\n",
    "#     # 将噪声频率的复数部分置为零\n",
    "#     filter_complex_array[noised_indices] = 0\n",
    "\n",
    "#     filter_sigs = fft.ifft(filter_complex_array)\n",
    "\n",
    "#     return filter_sigs \n",
    "\n",
    "\n",
    "\n"
   ]
  },
  {
   "cell_type": "code",
   "execution_count": 41,
   "metadata": {},
   "outputs": [],
   "source": [
    "# import numpy as np\n",
    "# import pandas as pd\n",
    "# from scipy import fft\n",
    "\n",
    "# # 定义 rolling_fft 函数，用于处理每个滚动窗口的数据\n",
    "# def rolling_fft(data_window):\n",
    "#     # 对滚动窗口的数据进行 FFT\n",
    "#     fft_data = np.fft.fft(data_window)\n",
    "\n",
    "#     freqs = np.fft.fftfreq(len(data_window))\n",
    "#     pows = np.abs(fft_data)**2\n",
    "    \n",
    "#     # 寻找需要抹掉的噪声频率的索引\n",
    "#     noised_indices = np.where(np.argsort(pows)[:-10])\n",
    "\n",
    "#     # 复制一个数组以避免修改原始数据\n",
    "#     filter_complex_array = fft_data.copy()\n",
    "\n",
    "#     # 将噪声频率的复数部分置为零\n",
    "#     filter_complex_array[noised_indices] = 0\n",
    "\n",
    "#     filtered_signal = np.fft.ifft(filter_complex_array)\n",
    "    \n",
    "#     return np.mean(filtered_signal.real)\n",
    "\n",
    "# # 现在我们可以对每个滚动窗口进行 FFT 和滤波\n",
    "# # 使用 rolling().apply() 处理 'current_volume' 列\n",
    "# table['rolling_fft_current_volume'] = np.log(table['current_volume']+1).rolling(window=60).apply(lambda x: rolling_fft(x))\n",
    "# table['rolling_fft_current_volume'].fillna(0, inplace=True)\n",
    "# # 删除辅助列 'max_volume_idx'，如果不需要\n",
    "# # table = table.drop(columns=['max_volume_idx'])\n",
    "# table['factor'] = table['rolling_fft_current_volume']\n",
    "# table['factor'].fillna(0,inplace=True)\n"
   ]
  },
  {
   "cell_type": "code",
   "execution_count": 42,
   "metadata": {},
   "outputs": [],
   "source": [
    "# import numpy as np\n",
    "# import pandas as pd\n",
    "# from scipy import fft\n",
    "\n",
    "# # 定义 rolling_fft 函数，用于处理每个滚动窗口的数据\n",
    "# def rolling_fft(data_window):\n",
    "#     # 对滚动窗口的数据进行 FFT\n",
    "#     fft_data = np.fft.fft(data_window)\n",
    "\n",
    "#     freqs = np.fft.fftfreq(len(data_window))\n",
    "#     pows = np.abs(fft_data)**2\n",
    "\n",
    "#     # 留下能量最高的频率\n",
    "#     fund_freq = freqs[pows.argmax()]\n",
    "#     noised_indices = np.where(freqs != fund_freq)\n",
    "\n",
    "#     # 复制一个数组以避免修改原始数据\n",
    "#     filter_complex_array = fft_data.copy()\n",
    "\n",
    "#     # 将噪声频率的复数部分置为零\n",
    "#     filter_complex_array[noised_indices] = 0\n",
    "\n",
    "#     filter_sigs = fft.ifft(filter_complex_array)\n",
    "\n",
    "#     return np.mean(filter_sigs)\n",
    "\n",
    "\n",
    "# # 假设 'table' 是一个包含 'current_volume' 列的 DataFrame\n",
    "\n",
    "# # 现在我们可以对每个滚动窗口进行 FFT 和滤波\n",
    "# # 使用 rolling().apply() 处理 'current_volume' 列\n",
    "# table['rolling_fft_current_volume'] = np.log(table['current_volume']+1).rolling(window=120).apply(lambda x: rolling_fft(x))\n",
    "# table['rolling_fft_current_volume'].fillna(0, inplace=True)\n",
    "\n",
    "# table['factor'] = table['rolling_fft_current_volume']\n",
    "\n",
    "# table['sign'] = np.sign(2*table['current_avg_price'] - table['BidPrice1'] - table['AskPrice1'])\n",
    "# table['max_volume_idx'] = table['current_volume'].rolling(window=20, min_periods=1).apply(lambda x: x.idxmax(), raw=False)\n",
    "# # 用这些索引来获取对应的 sign\n",
    "# table['max_sign'] = table['max_volume_idx'].map(table['sign'])\n",
    "# 删除辅助列 'max_volume_idx'，如果不需要\n",
    "# table = table.drop(columns=['max_volume_idx'])\n",
    "# table['factor'] = table['max_sign'] * table['rolling_fft_current_volume']"
   ]
  },
  {
   "cell_type": "code",
   "execution_count": 43,
   "metadata": {},
   "outputs": [],
   "source": [
    "# table['factor'] = np.log(1+table['current_volume'])"
   ]
  },
  {
   "cell_type": "code",
   "execution_count": null,
   "metadata": {},
   "outputs": [],
   "source": []
  },
  {
   "cell_type": "code",
   "execution_count": 44,
   "metadata": {},
   "outputs": [],
   "source": [
    "# table['factor'] = (table['mid_price'].rolling(60).max()-table['mid_price'].shift(60))/(table['mid_price'].rolling(60).max() - table['mid_price'].rolling(60).min())\n",
    "# table['factor'].replace([np.inf, -np.inf], np.nan, inplace=True)\n",
    "# table['factor'].fillna(0, inplace=True)"
   ]
  },
  {
   "cell_type": "code",
   "execution_count": 45,
   "metadata": {},
   "outputs": [],
   "source": [
    "# table['factor'] = np.log(table['current_avg_price']/table['mid_price'])"
   ]
  },
  {
   "cell_type": "code",
   "execution_count": 46,
   "metadata": {},
   "outputs": [],
   "source": [
    "# table['factor'] = table['current_avg_price'] - table['mid_price']\n",
    "# table['factor'] = table['weighted_price'] - table['mid_price']"
   ]
  },
  {
   "cell_type": "code",
   "execution_count": 47,
   "metadata": {},
   "outputs": [],
   "source": [
    "# window_size = 2 \n",
    "# scalar = 0.2\n",
    "# table['ratio'] = table['BidVolume1']/(table['BidVolume1'] + table['AskVolume1'])\n",
    "# table['pending_vol_ratio_factor'] = scalar * table['BidPrice1'].diff(window_size)/(table['BidPrice1'] - table['BidPrice2']) + table['ratio'].diff(window_size)\n",
    "# table['pending_vol_ratio_factor'].fillna(0,inplace=True)"
   ]
  },
  {
   "cell_type": "code",
   "execution_count": 48,
   "metadata": {},
   "outputs": [],
   "source": [
    "# table['sign'] = 1*(table['BidPrice1'] < table['BidPrice1'].rolling(8,min_periods=1).min()) - 1*(table['AskPrice1'].rolling(8,min_periods=1).max() <= table['AskPrice1'])\n",
    "# table['sign'].fillna(0,inplace=True)\n",
    "# table['factor'] = table['sign']\n",
    "# table['factor'].fillna(0,inplace=True)\n"
   ]
  },
  {
   "cell_type": "code",
   "execution_count": 49,
   "metadata": {},
   "outputs": [],
   "source": [
    "# window_size = 10\n",
    "# table['Bid_submit_price'] = (table['BidPrice1'] * table['BidVolume1'] + table['BidPrice2'] * table['BidVolume2'] + table['BidPrice3'] * table['BidVolume3'] + table['BidPrice4'] * table['BidVolume4'] + table['BidPrice5'] * table['BidVolume5'])/table['BidVolume']\n",
    "# table['Ask_submit_price'] = (table['AskPrice1'] * table['AskVolume1'] + table['AskPrice2'] * table['AskVolume2'] + table['AskPrice3'] * table['AskVolume3'] + table['AskPrice4'] * table['AskVolume4'] + table['AskPrice5'] * table['AskVolume5'])/table['AskVolume']\n",
    "# table['std_factor'] = (table['Ask_submit_price'] - table['mid_price']) - (table['mid_price'] - table['Bid_submit_price'])\n",
    "# # table['std_factor'] = (table['Ask_submit_price'] - table['weighted_price']) - (table['weighted_price'] - table['Bid_submit_price'])\n",
    "\n",
    "# # table['factor'] = table['std_factor']\n",
    "# table['factor'] = (table['std_factor'] - table['std_factor'].rolling(window_size,min_periods=1).mean())/table['std_factor'].rolling(window_size,min_periods=1).std()\n",
    "# table['factor'].replace([np.inf, -np.inf], np.nan, inplace=True)\n",
    "# table['factor'].fillna(0, inplace=True)"
   ]
  },
  {
   "cell_type": "code",
   "execution_count": 50,
   "metadata": {},
   "outputs": [],
   "source": [
    "# table[['factor','std_factor']].corr()"
   ]
  },
  {
   "cell_type": "code",
   "execution_count": 51,
   "metadata": {},
   "outputs": [],
   "source": [
    "# window_size = 20\n",
    "# # table['Bid_ratio'] = table['BidVolume']/table['BidVolume1']\n",
    "# # table['Ask_ratio'] = table['AskVolume']/table['AskVolume1']\n",
    "# table['Bid_ratio'] = table['BidVolume']/table['BidVolume1']\n",
    "# table['Ask_ratio'] = table['AskVolume']/table['AskVolume1']\n",
    "# table['std_factor'] = table['Ask_ratio'] - table['Bid_ratio']\n",
    "# # table['factor'] = table['std_factor']\n",
    "# table['relative_vol_ratio_imbalance'] = (table['std_factor'] - table['std_factor'].rolling(window_size,min_periods=1).mean())/table['std_factor'].rolling(window_size,min_periods=1).std()\n",
    "# table['relative_vol_ratio_imbalance'].replace([np.inf, -np.inf], np.nan, inplace=True)\n",
    "# table['relative_vol_ratio_imbalance'].fillna(0,inplace=True)"
   ]
  },
  {
   "cell_type": "code",
   "execution_count": null,
   "metadata": {},
   "outputs": [],
   "source": [
    "# table['BAV_diff'] = table['BidVolume1'].diff() - table['AskVolume1'].diff()\n",
    "# # table['BAV_diff_transform'] = table['BAV_diff']\n",
    "# # table['BAV_diff_transform'].fillna(0,inplace=True)\n",
    "# table['BAV_diff_transform'] = (\n",
    "# 1\n",
    "# + 0.2 * (np.abs(table['BAV_diff']) >= 6*15)\n",
    "# * np.log(np.abs(table['BAV_diff'] / (6*15)))\n",
    "# ) * (1 / (1 + np.exp(-table['BAV_diff'] / 15)) - 0.5)\n",
    "# table['BAV_diff_transform'].fillna(0,inplace=True)\n",
    "\n",
    "# table['Bid_Slope'] = table['BidVolume1'].diff()/(table['BidPrice1'].diff()+0.001)\n",
    "# table['std_Bid_Slope'] = (table['Bid_Slope'] - table['Bid_Slope'].rolling(120).mean())/table['Bid_Slope'].rolling(120).std()\n",
    "# table['Ask_Slope'] = table['AskVolume1'].diff()/(table['AskPrice1'].diff()+0.001)\n",
    "# table['std_Ask_Slope'] = (table['Ask_Slope'] - table['Ask_Slope'].rolling(120).mean())/table['Ask_Slope'].rolling(120).std()\n",
    "# table['slope_factor'] = table['std_Bid_Slope'] - table['std_Ask_Slope']\n",
    "# table['slope_factor'].replace([np.inf, -np.inf], np.nan, inplace=True)\n",
    "# table['slope_factor'].fillna(0,inplace=True)\n",
    "\n",
    "# table['delta_vol_Bid'] = table['BidVolume1'].diff() * (table['BidPrice1'] == table['BidPrice1'].shift(1)) + table['BidVolume1'] *(table['BidPrice1'] > table['BidPrice1'].shift(1)) + (table['BidVolume1']-table['BidVolume2'].shift(1)) * (table['BidPrice1'] < table['BidPrice1'].shift(1))\n",
    "# table['delta_vol_Ask'] = table['AskVolume1'].diff() * (table['AskPrice1'] == table['AskPrice1'].shift(1)) + table['AskVolume1'] *(table['AskPrice1'] < table['AskPrice1'].shift(1)) + (table['AskVolume1']-table['AskVolume2'].shift(1)) * (table['AskPrice1'] > table['AskPrice1'].shift(1))\n",
    "# table['Volume_Order_Imbalance'] = table['delta_vol_Bid'] - table['delta_vol_Ask']\n",
    "# table['Volume_Order_Imbalance'].fillna(0,inplace=True)\n",
    "\n",
    "# table['Base_factor'] = -(table['AskVolume1']-table['BidVolume1'])/(table['AskVolume1']+table['BidVolume1'])\n",
    "\n",
    "# table['ratio'] = table['BidVolume1']/(table['BidVolume1'] + table['AskVolume1'])\n",
    "# table['pending_vol_ratio_factor'] = 0.1 * table['BidPrice1'].diff(2)/(table['BidPrice1'] - table['BidPrice2']) + table['ratio'].diff(2)\n",
    "# table['pending_vol_ratio_factor'].fillna(0,inplace=True)\n",
    "\n",
    "# table['BidVolume'] = table[['BidVolume1','BidVolume2','BidVolume3','BidVolume4','BidVolume5']].sum(axis=1)\n",
    "# table['AskVolume'] = table[['AskVolume1','AskVolume2','AskVolume3','AskVolume4','AskVolume5']].sum(axis=1)\n",
    "# table['Bid_ratio'] = table['BidVolume']/table['BidVolume1']\n",
    "# table['Ask_ratio'] = table['AskVolume']/table['AskVolume1']\n",
    "# table['relative_vol_ratio_diff'] = table['Ask_ratio'] - table['Bid_ratio']\n",
    "# table['relative_vol_ratio_imbalance'] = (table['relative_vol_ratio_diff'] - table['relative_vol_ratio_diff'].rolling(20,min_periods=1).mean())/table['relative_vol_ratio_diff'].rolling(20,min_periods=1).std()\n",
    "# table['relative_vol_ratio_imbalance'].replace([np.inf, -np.inf], np.nan, inplace=True)\n",
    "# table['relative_vol_ratio_imbalance'].fillna(0,inplace=True)\n",
    "\n",
    "# table['Bid_submit_price'] = (table['BidPrice1'] * table['BidVolume1'] + table['BidPrice2'] * table['BidVolume2'] + table['BidPrice3'] * table['BidVolume3'] + table['BidPrice4'] * table['BidVolume4'] + table['BidPrice5'] * table['BidVolume5'])/table['BidVolume']\n",
    "# table['Ask_submit_price'] = (table['AskPrice1'] * table['AskVolume1'] + table['AskPrice2'] * table['AskVolume2'] + table['AskPrice3'] * table['AskVolume3'] + table['AskPrice4'] * table['AskVolume4'] + table['AskPrice5'] * table['AskVolume5'])/table['AskVolume']\n",
    "# table['std_factor'] = (table['Ask_submit_price'] - table['mid_price']) - (table['mid_price'] - table['Bid_submit_price'])\n",
    "# # table['std_factor'] = (table['Ask_submit_price'] - table['weighted_price']) - (table['weighted_price'] - table['Bid_submit_price'])\n",
    "\n",
    "# # table['factor'] = table['std_factor']\n",
    "# table['submit_price_imbalance'] = (table['std_factor'] - table['std_factor'].rolling(10,min_periods=1).mean())/table['std_factor'].rolling(10,min_periods=1).std()\n",
    "# table['submit_price_imbalance'].replace([np.inf, -np.inf], np.nan, inplace=True)\n",
    "# table['submit_price_imbalance'].fillna(0, inplace=True)"
   ]
  },
  {
   "cell_type": "code",
   "execution_count": 53,
   "metadata": {},
   "outputs": [],
   "source": [
    "def std_factor(X):\n",
    "    X_std = X.rolling(10).mean()\n",
    "    return X_std"
   ]
  },
  {
   "cell_type": "code",
   "execution_count": 54,
   "metadata": {},
   "outputs": [],
   "source": [
    "def create_lagged_features(df, window , factor):\n",
    "    new_factor_list = []\n",
    "    for i in window:\n",
    "        for j in factor:\n",
    "            df[f'{j}_lag{i}'] = df[j].rolling(i).mean()\n",
    "            df[f'{j}_lag{i}'].fillna(0,inplace = True)\n",
    "            new_factor_list.append(f'{j}_lag{i}')\n",
    "    return df,new_factor_list"
   ]
  },
  {
   "cell_type": "code",
   "execution_count": 55,
   "metadata": {},
   "outputs": [
    {
     "name": "stdout",
     "output_type": "stream",
     "text": [
      "[-0.6396554882852781, 22.253634119619523, 0.02557680223038756, 6.180723252721563, 0.2406336044104225, 1.401066194290231, 2.6773355244914554, -0.05374589761312223, 24.810935301753553, 0.12425760428760163, 2.8581712608490206, -0.4689789691669593, 0.046064693187394735, 3.8579606711137724, -0.2121088739063698, -0.6903135939349665, -14.830210615958467, 0.20106455713946905, -31.95226026811632, 0.41806671309642696, -2.59446086719592, 46.032620512199536, -0.05206817499860075, -125.74806745331595, -0.09974847669035959]\n"
     ]
    }
   ],
   "source": [
    "# import pandas as pd\n",
    "# from sklearn.linear_model import LinearRegression\n",
    "\n",
    "# # 提取因子和目标变量\n",
    "# factor_columns = ['Base_factor','BAV_diff_transform', 'Volume_Order_Imbalance','pending_vol_ratio_factor', 'relative_vol_ratio_imbalance']\n",
    "\n",
    "# table,lag_factor = create_lagged_features(table,window = [10,26,40,60,120], factor= factor_columns)\n",
    "# factor_columns = lag_factor\n",
    "\n",
    "# table[factor_columns] = std_factor(table[factor_columns])\n",
    "# table[factor_columns] = table[factor_columns].fillna(0)\n",
    "\n",
    "\n",
    "# X = table[factor_columns]\n",
    "# y = table['frt_120']\n",
    "\n",
    "\n",
    "# # 线性回归模型（不含截距项）\n",
    "# model = LinearRegression(fit_intercept=False)\n",
    "# model.fit(X, y)\n",
    "\n",
    "# # 输出回归系数\n",
    "# coefficients = pd.DataFrame(model.coef_, index=factor_columns, columns=['Coefficient']).to_numpy().flatten().tolist()\n",
    "# print(coefficients)\n",
    "\n",
    "# table['factor'] = np.dot(table[factor_columns],coefficients)"
   ]
  },
  {
   "cell_type": "code",
   "execution_count": null,
   "metadata": {},
   "outputs": [],
   "source": []
  },
  {
   "cell_type": "code",
   "execution_count": 56,
   "metadata": {},
   "outputs": [],
   "source": [
    "# import numpy as np\n",
    "# import pandas as pd\n",
    "# import statsmodels.api as sm\n",
    "# import matplotlib.pyplot as plt\n",
    "\n",
    "# from scipy.optimize import minimize\n",
    "\n",
    "# # 提取因子和目标变量\n",
    "# factor_columns = ['Base_factor','BAV_diff_transform', 'Volume_Order_Imbalance',\n",
    "#                   'pending_vol_ratio_factor', 'submit_price_imbalance', 'relative_vol_ratio_imbalance']\n",
    "\n",
    "# table[factor_columns] = std_factor(table[factor_columns])\n",
    "\n",
    "# X = table[factor_columns].to_numpy()\n",
    "# y = table['frt_120'].to_numpy()\n",
    "\n",
    "# # Cauchy负对数似然函数\n",
    "# def cauchy_loss(params, X, y):\n",
    "#     y_pred = np.dot(X, params)\n",
    "#     residuals = y - y_pred\n",
    "#     return np.sum(np.log(1 + (residuals ** 2)))\n",
    "\n",
    "# # 初始参数（全为0）\n",
    "# initial_params = np.zeros(X.shape[1])\n",
    "\n",
    "# # 极大似然估计\n",
    "# result = minimize(cauchy_loss, initial_params, args=(X, y))\n",
    "\n",
    "# # 回归系数\n",
    "# coefficients = pd.DataFrame(result.x, index=factor_columns, columns=['Coefficient'])\n",
    "# print(coefficients)\n",
    "\n",
    "# # 计算因子值\n",
    "# table['factor'] = np.dot(X, result.x)\n",
    "\n"
   ]
  },
  {
   "cell_type": "code",
   "execution_count": 57,
   "metadata": {},
   "outputs": [],
   "source": [
    "# table['factor'].quantile([0.01,0.99])"
   ]
  },
  {
   "cell_type": "code",
   "execution_count": 58,
   "metadata": {},
   "outputs": [],
   "source": [
    "# table['std_factor'] = (table['BidVolume'].diff() - table['AskVolume'].diff())/table['current_volume']\n",
    "# table['factor'] = (table['std_factor'] - table['std_factor'].rolling(10).mean())/table['std_factor'].rolling(10).std()\n",
    "# table['factor'].replace([np.inf,-np.inf],0,inplace=True)\n",
    "# table['factor'].fillna(0,inplace=True)"
   ]
  },
  {
   "cell_type": "code",
   "execution_count": 59,
   "metadata": {},
   "outputs": [],
   "source": [
    "# table['factor'] = table['BidPrice1'] + table['AskPrice1'] - 2*table['current_avg_price']\n",
    "# table['factor'].fillna(0,inplace=True)"
   ]
  },
  {
   "cell_type": "code",
   "execution_count": 60,
   "metadata": {},
   "outputs": [],
   "source": [
    "# # window_size = 15\n",
    "# table['max_vol_ratio_imbalance'] = -table[['BidVolume1', 'BidVolume2', 'BidVolume3', 'BidVolume4', 'BidVolume5']].max(axis=1)/table['BidVolume1'] + table[['AskVolume1', 'AskVolume2', 'AskVolume3', 'AskVolume4', 'AskVolume5']].max(axis=1)/table['AskVolume1']\n",
    "# # table['factor'] = (table['std_factor'] - table['std_factor'].rolling(window_size,min_periods=1).mean())/table['std_factor'].rolling(window_size,min_periods=1).std()\n",
    "# table['max_vol_ratio_imbalance'].fillna(0,inplace=True)"
   ]
  },
  {
   "cell_type": "code",
   "execution_count": 61,
   "metadata": {},
   "outputs": [],
   "source": [
    "# table['Base_factor'] = (table['BidVolume1'] - table['AskVolume1'])/(table['BidVolume1'] + table['AskVolume1'])"
   ]
  },
  {
   "cell_type": "code",
   "execution_count": 62,
   "metadata": {},
   "outputs": [],
   "source": [
    "# from hyperopt import fmin, tpe, hp, Trials\n",
    "# from hyperopt import anneal\n",
    "# import numpy as np\n",
    "\n",
    "\n",
    "# # 超参数调整强度\n",
    "# LAMBDA = 0.06  # 可调整，越大代表越强调降低相关性\n",
    "# # 目标函数\n",
    "# def objective(weights):\n",
    "#     table['Bid_entropy'] = 0\n",
    "#     table['Ask_entropy'] = 0\n",
    "    \n",
    "#     for i in range(1, 6):\n",
    "#         weight = weights[f'weight_{i}']\n",
    "#         p = table[f'BidVolume{i}'] / table['BidVolume']\n",
    "#         q = table[f'AskVolume{i}'] / table['AskVolume']\n",
    "        \n",
    "#         table['Bid_entropy'] -= weight * p * np.log2(p)\n",
    "#         table['Ask_entropy'] -= weight * q * np.log2(q)\n",
    "\n",
    "#     # 计算盘口买卖量熵差\n",
    "#     table['vol_entropy_diff'] = table['Bid_entropy'] - table['Ask_entropy']\n",
    "#     table['vol_entropy_diff'].fillna(0, inplace=True)\n",
    "#     # 计算IC（信息系数）\n",
    "#     ic = table['vol_entropy_diff'].corr(table['frt_120'])\n",
    "\n",
    "#     # 计算新因子和Base_factor的相关性\n",
    "#     corr_with_base = table['vol_entropy_diff'].corr(table['Base_factor'])\n",
    "#     corr = corr_with_base * (abs(corr_with_base)>0.55) + 0.55 * (abs(corr_with_base)<=0.55)\n",
    "#         # 计算新因子和Base_factor的相关性\n",
    "#     # corr_with_base = table['vol_entropy_diff'].corr(table['BAV_Diff_Transform'])\n",
    "#     # corr = corr_with_base * (abs(corr_with_base)>0.55) + 0.55 * (abs(corr_with_base)<=0.55)\n",
    "    \n",
    "#     # 目标函数 = 最大化IC，同时惩罚与Base_factor的相关性\n",
    "#     loss = -ic + LAMBDA * abs(corr)\n",
    "    \n",
    "#     return loss\n",
    "\n",
    "# # 定义超参数搜索空间\n",
    "# space = {f'weight_{i}': hp.uniform(f'weight_{i}', 0, 1) for i in range(1, 6)}\n",
    "\n",
    "# # 超参数优化\n",
    "# trials = Trials()\n",
    "# best = fmin(fn=objective,\n",
    "#             space=space,\n",
    "#             algo=tpe.suggest,\n",
    "#             max_evals=200,\n",
    "#             trials=trials)\n",
    "\n",
    "# print(\"最优权重:\", best)\n",
    "\n",
    "# table['Bid_entropy'] = 0\n",
    "# table['Ask_entropy'] = 0\n",
    "# for i in range(1,6):\n",
    "#     weight = best[f'weight_{i}']\n",
    "#     p = table[f'BidVolume{i}']/table['BidVolume']\n",
    "#     table['Bid_entropy'] -= weight * p * np.log2(p)\n",
    "#     q = table[f'AskVolume{i}']/table['AskVolume']\n",
    "#     table['Ask_entropy'] -= weight * q * np.log2(q)\n",
    "\n",
    "# # table['factor'] = (table['Bid_entropy'].diff() - table['Bid_entropy'].diff().rolling(window_size).mean()) - (table['Ask_entropy'].diff() - table['Ask_entropy'].diff().rolling(window_size).mean())\n",
    "# # table['factor'] = table['Bid_entropy'].diff()/table['Bid_entropy'].shift(1) - table['Ask_entropy'].diff()/table['Ask_entropy'].shift(1)\n",
    "# table['factor'] = table['Bid_entropy']- table['Ask_entropy']\n",
    "# table['factor'].fillna(0,inplace=True)"
   ]
  },
  {
   "cell_type": "code",
   "execution_count": 63,
   "metadata": {},
   "outputs": [],
   "source": [
    "# table['Bid_entropy'] = 0\n",
    "# table['Ask_entropy'] = 0\n",
    "# for i in range(1,6):\n",
    "#     p = table[f'BidVolume{i}']/table['BidVolume']\n",
    "#     table['Bid_entropy'] -= p * np.log2(p)\n",
    "#     q = table[f'AskVolume{i}']/table['AskVolume']\n",
    "#     table['Ask_entropy'] -= q * np.log2(q)\n",
    "\n",
    "# # table['factor'] = (table['Bid_entropy'].diff() - table['Bid_entropy'].diff().rolling(window_size).mean()) - (table['Ask_entropy'].diff() - table['Ask_entropy'].diff().rolling(window_size).mean())\n",
    "# # table['factor'] = table['Bid_entropy'].diff()/table['Bid_entropy'].shift(1) - table['Ask_entropy'].diff()/table['Ask_entropy'].shift(1)\n",
    "# table['factor'] = table['Bid_entropy'].diff() - table['Ask_entropy'].diff()\n",
    "# table['factor'].fillna(0,inplace=True)"
   ]
  },
  {
   "cell_type": "code",
   "execution_count": 64,
   "metadata": {},
   "outputs": [],
   "source": [
    "# table['factor'] = table['BidPrice1']*table[['BidVolume1', 'BidVolume2', 'BidVolume3', 'BidVolume4', 'BidVolume5']].max(axis=1) + \\\n",
    "#     table['AskPrice1']*table[['AskVolume1', 'AskVolume2', 'AskVolume3', 'AskVolume4', 'AskVolume5']].max(axis=1) -\\\n",
    "#           2 * table['mid_price'] * (table['BidVolume1'] + table['AskVolume1'])\n",
    "# table['factor'].fillna(0,inplace=True)\n"
   ]
  },
  {
   "cell_type": "code",
   "execution_count": 65,
   "metadata": {},
   "outputs": [],
   "source": [
    "# table['factor'] = (2*table['weighted_price'] - table['BidPrice1'] - table['AskPrice1'])\n",
    "# table['factor'].fillna(0,inplace=True)"
   ]
  },
  {
   "cell_type": "code",
   "execution_count": 66,
   "metadata": {},
   "outputs": [],
   "source": [
    "# window_size = 5\n",
    "# table['factor'] = table['current_volume'].diff().rolling(window_size).corr(table['mid_price'].diff())\n",
    "# table['factor'].replace([np.inf, -np.inf], np.nan, inplace=True)\n",
    "# table['factor'].fillna(0,inplace=True)\n"
   ]
  },
  {
   "cell_type": "code",
   "execution_count": null,
   "metadata": {},
   "outputs": [],
   "source": []
  },
  {
   "cell_type": "markdown",
   "metadata": {},
   "source": [
    "# 处理数据\n",
    "由于日盘拿不到夜盘的数据，夜盘也拿不到日盘的数据，所以我们要将每一日数据中日盘和夜盘的前prev_period个数据和后back_period个数据删掉"
   ]
  },
  {
   "cell_type": "code",
   "execution_count": null,
   "metadata": {},
   "outputs": [],
   "source": [
    "# 删除 'trading_date' 为 '2024-04-08' 和 '2024-05-20' 的行\n",
    "new_table = table[~table['trading_date'].isin([pd.to_datetime('2024-04-08'), pd.to_datetime('2024-05-20')])]\n",
    "unique_trading_dates = sorted(table['trading_date'].unique())\n",
    "new_table = new_table.groupby('trading_date').apply(process_day, prev_period=0, back_period=120,trading_dates=unique_trading_dates)\n"
   ]
  },
  {
   "cell_type": "code",
   "execution_count": 68,
   "metadata": {},
   "outputs": [],
   "source": [
    "# new_table = table[~table['trading_date'].isin([pd.to_datetime('2023-12-08')])]\n",
    "# # new_table = table[~table['trading_date'].isin([pd.to_datetime('2024-04-08'),pd.to_datetime('2024-05-20')])]\n",
    "# unique_trading_dates = sorted(table['trading_date'].unique())\n",
    "# new_table = new_table.groupby('trading_date').apply(process_day, prev_period=0, back_period=120,trading_dates=unique_trading_dates)\n"
   ]
  },
  {
   "cell_type": "markdown",
   "metadata": {},
   "source": [
    "# 单因子IC的计算"
   ]
  },
  {
   "cell_type": "code",
   "execution_count": null,
   "metadata": {},
   "outputs": [],
   "source": [
    "ic_value1 = calculate_ic(new_table['factor'],new_table['frt_120'])\n",
    "print(f'单因子的 IC 值：{ic_value1}')"
   ]
  },
  {
   "cell_type": "code",
   "execution_count": 70,
   "metadata": {},
   "outputs": [],
   "source": [
    "# import math\n",
    "# def compute_entropy(series):\n",
    "#     # 统计每个值的出现次数\n",
    "#     counts = series.value_counts()\n",
    "#     total = len(series)\n",
    "    \n",
    "#     entropy = 0.0\n",
    "#     for count in counts:\n",
    "#         p = count / total\n",
    "#         if p > 0:\n",
    "#             entropy -= p * math.log2(p)\n",
    "#     return entropy\n",
    "\n",
    "# entropy_category_list = []\n",
    "# IC_list = []\n",
    "# std_list = []\n",
    "# for i in time_list:\n",
    "#     ic_value = calculate_ic(new_table[f'frt_{i}'], new_table['factor'])\n",
    "#     IC_list.append(ic_value)\n",
    "#     print(f\"单因子与frt_{i} 列的IC为: {ic_value:.3f} \")\n",
    "#     entropy_category = compute_entropy(table[f'frt_{i}'])\n",
    "#     entropy_category_list.append(entropy_category)\n",
    "#     print(f\"frt_{i} 列的熵为: {entropy_category:.3f} bits\")\n",
    "#     std = table[f'frt_{i}'].std()\n",
    "#     std_list.append(std)\n",
    "#     print(f\"frt_{i} 列的标准差为: {std:.3f} \")\n",
    "#     print(\"--------------------------------------\")"
   ]
  },
  {
   "cell_type": "code",
   "execution_count": 71,
   "metadata": {},
   "outputs": [],
   "source": [
    "# IC_diffs = [-(IC_list[i] - IC_list[i-1])/IC_list[i-1] for i in range(1, len(IC_list))]\n",
    "# entropy_category_diffs = [(entropy_category_list[i] - entropy_category_list[i-1])/entropy_category_list[i-1] for i in range(1, len(entropy_category_list))]\n",
    "# std_diffs = [(std_list[i] - std_list[i-1])/std_list[i-1] for i in range(1, len(std_list))]\n",
    "# ic_ent_diffs = [IC_diffs[i] - entropy_category_diffs[i] for i in range(len(IC_diffs))]\n",
    "# ic_std_diffs = [IC_diffs[i] - std_list[i] for i in range(len(IC_diffs))]"
   ]
  },
  {
   "cell_type": "code",
   "execution_count": 72,
   "metadata": {},
   "outputs": [],
   "source": [
    "# import csv\n",
    "# time_list = []\n",
    "# for i in range(1,11):\n",
    "#     time_list.append(f\"{i*20}-{i*20+20}\")\n",
    "# with open(\"change_rate.csv\",'w',newline='') as csvfile:\n",
    "#     writer = csv.writer(csvfile)\n",
    "#     writer.writerow(['time','ic_change_rate', 'ent_change_rate', 'std_change_rate'])\n",
    "#     for row in zip(time_list,IC_diffs,entropy_category_diffs,std_diffs):\n",
    "#         writer.writerow(row)\n",
    "# print(\"数据已写入 change_rate.csv 文件\")"
   ]
  },
  {
   "cell_type": "code",
   "execution_count": 73,
   "metadata": {},
   "outputs": [],
   "source": [
    "# ic_ent_diffs"
   ]
  },
  {
   "cell_type": "code",
   "execution_count": 74,
   "metadata": {},
   "outputs": [],
   "source": [
    "# ic_ent_did = [abs(ic_ent_diffs[i] - ic_ent_diffs[i-1]) for i in range(1, len(ic_ent_diffs))]\n",
    "# ic_ent_did"
   ]
  },
  {
   "cell_type": "code",
   "execution_count": 75,
   "metadata": {},
   "outputs": [],
   "source": [
    "# max_value = max(ic_ent_diffs)\n",
    "# max_index = ic_ent_diffs.index(max_value)\n",
    "# print(\"最大值:\", max_value)\n",
    "# print(\"最大值的下标:\", max_index)\n",
    "# print(f'ic与ent变化率差值最大的time为：{(max_index+1)*20}-->{(max_index+2)*20}')"
   ]
  },
  {
   "cell_type": "markdown",
   "metadata": {},
   "source": [
    "# 单因子分段画图看趋势"
   ]
  },
  {
   "cell_type": "code",
   "execution_count": null,
   "metadata": {},
   "outputs": [],
   "source": [
    "# 将因子分段排序\n",
    "new_table_sorted = new_table.sort_values(by='factor', ascending=True)\n",
    "new_table_sorted['group'] = pd.qcut(new_table['factor'],100, labels=False,duplicates='drop')\n",
    "\n",
    "# 计算每组内 Factor1 和 return 的均值\n",
    "grouped = new_table_sorted.groupby('group').agg(\n",
    "    factor_mean=('factor', 'mean'),\n",
    "    frt_120_mean=('frt_120', 'mean')\n",
    ").reset_index()\n",
    "\n",
    "sns.set(style=\"whitegrid\")\n",
    "\n",
    "fig, ax = plt.subplots(1, 1, figsize=(10, 15))\n",
    "sns.scatterplot(data=grouped, x='factor_mean', y='frt_120_mean', ax=ax, color='blue')\n",
    "\n",
    "ax.set_title('Factor vs Frt_120')\n",
    "# 添加回归线\n",
    "sns.regplot(x='factor_mean', y='frt_120_mean', data=grouped, ax=ax, scatter=False, color='blue')"
   ]
  },
  {
   "cell_type": "code",
   "execution_count": null,
   "metadata": {},
   "outputs": [],
   "source": [
    "grouped.describe()"
   ]
  },
  {
   "cell_type": "code",
   "execution_count": 78,
   "metadata": {},
   "outputs": [],
   "source": [
    "# new_table[new_table['frt_120'] > 70]['factor'].describe()"
   ]
  },
  {
   "cell_type": "code",
   "execution_count": 79,
   "metadata": {},
   "outputs": [],
   "source": [
    "# new_table['factor'].quantile([0.01, 0.99])"
   ]
  },
  {
   "cell_type": "code",
   "execution_count": 80,
   "metadata": {},
   "outputs": [],
   "source": [
    "# # 将因子分段排序\n",
    "# new_table_sorted = new_table.sort_values(by='factor', ascending=True)\n",
    "# new_table_sorted['group'] = pd.qcut(new_table['factor'], 100, labels=False,duplicates='drop')\n",
    "\n",
    "# # 获取实际的最大组和最小组编号\n",
    "# max_group = new_table_sorted['group'].max()\n",
    "# min_group = new_table_sorted['group'].min()\n",
    "\n",
    "# # 提取最大组和最小组的数据\n",
    "# top_group = new_table_sorted[new_table_sorted['group'] == max_group]\n",
    "# bottom_group = new_table_sorted[new_table_sorted['group'] == min_group]\n",
    "\n",
    "# top_std = top_group['frt_120'].std()\n",
    "# bottom_std = bottom_group['frt_120'].std()\n",
    "\n",
    "# # 去掉超过若干个标准差的异常值\n",
    "# def remove_outliers(df, column):\n",
    "#     mean = df[column].mean()\n",
    "#     std = df[column].std()\n",
    "#     return df[(df[column] >= mean - 1 * std) & (df[column] <= mean + 1 * std)]\n",
    "\n",
    "# top_group = remove_outliers(top_group, 'frt_120')\n",
    "# bottom_group = remove_outliers(bottom_group, 'frt_120')\n",
    "\n",
    "# # 计算标准差\n",
    "# top_group_std = top_group['frt_120'].std()\n",
    "# bottom_group_std = bottom_group['frt_120'].std()\n",
    "\n",
    "# # 可视化：箱型图\n",
    "# sns.set(style=\"whitegrid\")\n",
    "# fig, ax = plt.subplots(1, 2, figsize=(15, 8))\n",
    "\n",
    "# sns.boxplot(y=top_group['frt_120'], ax=ax[0], color='skyblue')\n",
    "# ax[0].set_title(f'Max Group (original_std: {top_std:.2f},std: {top_group_std:.2f})')\n",
    "\n",
    "# sns.boxplot(y=bottom_group['frt_120'], ax=ax[1], color='salmon')\n",
    "# ax[1].set_title(f'Min Group (original_std: {bottom_std:.2f},std: {bottom_group_std:.2f})')\n",
    "\n",
    "# plt.tight_layout()\n",
    "# plt.show()"
   ]
  },
  {
   "cell_type": "code",
   "execution_count": 81,
   "metadata": {},
   "outputs": [],
   "source": [
    "# top_group['frt_120'].describe()"
   ]
  },
  {
   "cell_type": "code",
   "execution_count": 82,
   "metadata": {},
   "outputs": [],
   "source": [
    "# # 将因子分段排序\n",
    "# new_table_sorted = new_table.sort_values(by='vol_entropy_diff', ascending=True)\n",
    "# new_table_sorted['group'] = pd.qcut(new_table['vol_entropy_diff'], 100, labels=False,duplicates='drop')\n",
    "\n",
    "# # 获取实际的最大组和最小组编号\n",
    "# max_group = new_table_sorted['group'].max()\n",
    "# min_group = new_table_sorted['group'].min()\n",
    "\n",
    "# # 提取最大组和最小组的数据\n",
    "# top_group = new_table_sorted[new_table_sorted['group'] == max_group]\n",
    "# bottom_group = new_table_sorted[new_table_sorted['group'] == min_group]\n",
    "\n",
    "# top_std = top_group['frt_120'].std()\n",
    "# bottom_std = bottom_group['frt_120'].std()\n",
    "\n",
    "# # 去掉超过若干个标准差的异常值\n",
    "# def remove_outliers(df, column):\n",
    "#     mean = df[column].mean()\n",
    "#     std = df[column].std()\n",
    "#     return df[(df[column] >= mean - 2 * std) & (df[column] <= mean + 2 * std)]\n",
    "\n",
    "# top_group = remove_outliers(top_group, 'frt_120')\n",
    "# bottom_group = remove_outliers(bottom_group, 'frt_120')\n",
    "\n",
    "# # 计算标准差\n",
    "# top_group_std = top_group['frt_120'].std()\n",
    "# bottom_group_std = bottom_group['frt_120'].std()\n",
    "\n",
    "# # 可视化：箱型图\n",
    "# sns.set(style=\"whitegrid\")\n",
    "# fig, ax = plt.subplots(1, 2, figsize=(15, 8))\n",
    "\n",
    "# sns.boxplot(y=top_group['frt_120'], ax=ax[0], color='skyblue')\n",
    "# ax[0].set_title(f'Max Group (original_std: {top_std:.2f},std: {top_group_std:.2f})')\n",
    "\n",
    "# sns.boxplot(y=bottom_group['frt_120'], ax=ax[1], color='salmon')\n",
    "# ax[1].set_title(f'Min Group (original_std: {bottom_std:.2f},std: {bottom_group_std:.2f})')\n",
    "\n",
    "# plt.tight_layout()\n",
    "# plt.show()"
   ]
  },
  {
   "cell_type": "code",
   "execution_count": 83,
   "metadata": {},
   "outputs": [],
   "source": [
    "# # 将因子分段排序\n",
    "# new_table_sorted = new_table.sort_values(by='volume_order_imbalance', ascending=True)\n",
    "# new_table_sorted['group'] = pd.qcut(new_table['volume_order_imbalance'], 100, labels=False,duplicates='drop')\n",
    "\n",
    "# # 获取实际的最大组和最小组编号\n",
    "# max_group = new_table_sorted['group'].max()\n",
    "# min_group = new_table_sorted['group'].min()\n",
    "\n",
    "# # 提取最大组和最小组的数据\n",
    "# top_group = new_table_sorted[new_table_sorted['group'] == max_group]\n",
    "# bottom_group = new_table_sorted[new_table_sorted['group'] == min_group]\n",
    "\n",
    "# top_std = top_group['frt_120'].std()\n",
    "# bottom_std = bottom_group['frt_120'].std()\n",
    "\n",
    "# # 去掉超过若干个标准差的异常值\n",
    "# def remove_outliers(df, column):\n",
    "#     mean = df[column].mean()\n",
    "#     std = df[column].std()\n",
    "#     return df[(df[column] >= mean - 1 * std) & (df[column] <= mean + 1 * std)]\n",
    "\n",
    "# top_group = remove_outliers(top_group, 'frt_120')\n",
    "# bottom_group = remove_outliers(bottom_group, 'frt_120')\n",
    "\n",
    "# # 计算标准差\n",
    "# top_group_std = top_group['frt_120'].std()\n",
    "# bottom_group_std = bottom_group['frt_120'].std()\n",
    "\n",
    "# # 可视化：箱型图\n",
    "# sns.set(style=\"whitegrid\")\n",
    "# fig, ax = plt.subplots(1, 2, figsize=(15, 8))\n",
    "\n",
    "# sns.boxplot(y=top_group['frt_120'], ax=ax[0], color='skyblue')\n",
    "# ax[0].set_title(f'Max Group (original_std: {top_std:.2f},std: {top_group_std:.2f})')\n",
    "\n",
    "# sns.boxplot(y=bottom_group['frt_120'], ax=ax[1], color='salmon')\n",
    "# ax[1].set_title(f'Min Group (original_std: {bottom_std:.2f},std: {bottom_group_std:.2f})')\n",
    "\n",
    "# plt.tight_layout()\n",
    "# plt.show()"
   ]
  },
  {
   "cell_type": "code",
   "execution_count": 84,
   "metadata": {},
   "outputs": [],
   "source": [
    "# # 将因子分段排序\n",
    "# new_table_sorted = new_table.sort_values(by='pending_vol_ratio_factor', ascending=True)\n",
    "# new_table_sorted['group'] = pd.qcut(new_table['pending_vol_ratio_factor'], 100, labels=False,duplicates='drop')\n",
    "\n",
    "# # 获取实际的最大组和最小组编号\n",
    "# max_group = new_table_sorted['group'].max()\n",
    "# min_group = new_table_sorted['group'].min()\n",
    "\n",
    "# # 提取最大组和最小组的数据\n",
    "# top_group = new_table_sorted[new_table_sorted['group'] == max_group]\n",
    "# bottom_group = new_table_sorted[new_table_sorted['group'] == min_group]\n",
    "\n",
    "# top_std = top_group['frt_120'].std()\n",
    "# bottom_std = bottom_group['frt_120'].std()\n",
    "\n",
    "# # 去掉超过若干个标准差的异常值\n",
    "# def remove_outliers(df, column):\n",
    "#     mean = df[column].mean()\n",
    "#     std = df[column].std()\n",
    "#     return df[(df[column] >= mean - 1 * std) & (df[column] <= mean + 1 * std)]\n",
    "\n",
    "# top_group = remove_outliers(top_group, 'frt_120')\n",
    "# bottom_group = remove_outliers(bottom_group, 'frt_120')\n",
    "\n",
    "# # 计算标准差\n",
    "# top_group_std = top_group['frt_120'].std()\n",
    "# bottom_group_std = bottom_group['frt_120'].std()\n",
    "\n",
    "# # 可视化：箱型图\n",
    "# sns.set(style=\"whitegrid\")\n",
    "# fig, ax = plt.subplots(1, 2, figsize=(15, 8))\n",
    "\n",
    "# sns.boxplot(y=top_group['frt_120'], ax=ax[0], color='skyblue')\n",
    "# ax[0].set_title(f'Max Group (original_std: {top_std:.2f},std: {top_group_std:.2f})')\n",
    "\n",
    "# sns.boxplot(y=bottom_group['frt_120'], ax=ax[1], color='salmon')\n",
    "# ax[1].set_title(f'Min Group (original_std: {bottom_std:.2f},std: {bottom_group_std:.2f})')\n",
    "\n",
    "# plt.tight_layout()\n",
    "# plt.show()"
   ]
  },
  {
   "cell_type": "code",
   "execution_count": 85,
   "metadata": {},
   "outputs": [],
   "source": [
    "# # 将因子分段排序\n",
    "# new_table_sorted = new_table.sort_values(by='relative_vol_ratio_imbalance', ascending=True)\n",
    "# new_table_sorted['group'] = pd.qcut(new_table['relative_vol_ratio_imbalance'], 100, labels=False,duplicates='drop')\n",
    "\n",
    "# # 获取实际的最大组和最小组编号\n",
    "# max_group = new_table_sorted['group'].max()\n",
    "# min_group = new_table_sorted['group'].min()\n",
    "\n",
    "# # 提取最大组和最小组的数据\n",
    "# top_group = new_table_sorted[new_table_sorted['group'] == max_group]\n",
    "# bottom_group = new_table_sorted[new_table_sorted['group'] == min_group]\n",
    "\n",
    "# top_std = top_group['frt_120'].std()\n",
    "# bottom_std = bottom_group['frt_120'].std()\n",
    "\n",
    "# # 去掉超过若干个标准差的异常值\n",
    "# def remove_outliers(df, column):\n",
    "#     mean = df[column].mean()\n",
    "#     std = df[column].std()\n",
    "#     return df[(df[column] >= mean - 1 * std) & (df[column] <= mean + 1 * std)]\n",
    "\n",
    "# top_group = remove_outliers(top_group, 'frt_120')\n",
    "# bottom_group = remove_outliers(bottom_group, 'frt_120')\n",
    "\n",
    "# # 计算标准差\n",
    "# top_group_std = top_group['frt_120'].std()\n",
    "# bottom_group_std = bottom_group['frt_120'].std()\n",
    "\n",
    "# # 可视化：箱型图\n",
    "# sns.set(style=\"whitegrid\")\n",
    "# fig, ax = plt.subplots(1, 2, figsize=(15, 8))\n",
    "\n",
    "# sns.boxplot(y=top_group['frt_120'], ax=ax[0], color='skyblue')\n",
    "# ax[0].set_title(f'Max Group (original_std: {top_std:.2f},std: {top_group_std:.2f})')\n",
    "\n",
    "# sns.boxplot(y=bottom_group['frt_120'], ax=ax[1], color='salmon')\n",
    "# ax[1].set_title(f'Min Group (original_std: {bottom_std:.2f},std: {bottom_group_std:.2f})')\n",
    "\n",
    "# plt.tight_layout()\n",
    "# plt.show()"
   ]
  },
  {
   "cell_type": "code",
   "execution_count": 86,
   "metadata": {},
   "outputs": [],
   "source": [
    "# # 将因子分段排序\n",
    "# new_table_sorted = new_table.sort_values(by='Slope_factor', ascending=True)\n",
    "# new_table_sorted['group'] = pd.qcut(new_table['Slope_factor'], 100, labels=False,duplicates='drop')\n",
    "\n",
    "# # 获取实际的最大组和最小组编号\n",
    "# max_group = new_table_sorted['group'].max()\n",
    "# min_group = new_table_sorted['group'].min()\n",
    "\n",
    "# # 提取最大组和最小组的数据\n",
    "# top_group = new_table_sorted[new_table_sorted['group'] == max_group]\n",
    "# bottom_group = new_table_sorted[new_table_sorted['group'] == min_group]\n",
    "\n",
    "# top_std = top_group['frt_120'].std()\n",
    "# bottom_std = bottom_group['frt_120'].std()\n",
    "\n",
    "# # 去掉超过若干个标准差的异常值\n",
    "# def remove_outliers(df, column):\n",
    "#     mean = df[column].mean()\n",
    "#     std = df[column].std()\n",
    "#     return df[(df[column] >= mean - 1 * std) & (df[column] <= mean + 1 * std)]\n",
    "\n",
    "# top_group = remove_outliers(top_group, 'frt_120')\n",
    "# bottom_group = remove_outliers(bottom_group, 'frt_120')\n",
    "\n",
    "# # 计算标准差\n",
    "# top_group_std = top_group['frt_120'].std()\n",
    "# bottom_group_std = bottom_group['frt_120'].std()\n",
    "\n",
    "# # 可视化：箱型图\n",
    "# sns.set(style=\"whitegrid\")\n",
    "# fig, ax = plt.subplots(1, 2, figsize=(15, 8))\n",
    "\n",
    "# sns.boxplot(y=top_group['frt_120'], ax=ax[0], color='skyblue')\n",
    "# ax[0].set_title(f'Max Group (original_std: {top_std:.2f},std: {top_group_std:.2f})')\n",
    "\n",
    "# sns.boxplot(y=bottom_group['frt_120'], ax=ax[1], color='salmon')\n",
    "# ax[1].set_title(f'Min Group (original_std: {bottom_std:.2f},std: {bottom_group_std:.2f})')\n",
    "\n",
    "# plt.tight_layout()\n",
    "# plt.show()"
   ]
  },
  {
   "cell_type": "code",
   "execution_count": 87,
   "metadata": {},
   "outputs": [],
   "source": [
    "# import numpy as np\n",
    "# import seaborn as sns\n",
    "# import matplotlib.pyplot as plt\n",
    "# import pandas as pd\n",
    "\n",
    "# # 假设你的数据已经准备好了，并且 grouped 是你的数据框\n",
    "\n",
    "# # 拟合三次多项式\n",
    "# coefficients = np.polyfit(grouped['factor_mean'], grouped['return_mean'], 3)\n",
    "\n",
    "# # 使用多项式系数创建一个多项式函数\n",
    "# polynomial = np.poly1d(coefficients)\n",
    "\n",
    "# # 创建拟合曲线的 x 轴数据（我们可以在 factor_mean 的范围内生成一些点）\n",
    "# x_fit = np.linspace(grouped['factor_mean'].min(), grouped['factor_mean'].max(), 100)\n",
    "# y_fit = polynomial(x_fit)\n",
    "\n",
    "# # 打印三次多项式的表达式\n",
    "# print(\"拟合的三次函数表达式：\")\n",
    "# print(f\"f(x) = {coefficients[0]:.4f}x^3 + {coefficients[1]:.4f}x^2 + {coefficients[2]:.4f}x + {coefficients[3]:.4f}\")\n",
    "\n",
    "# # 绘图\n",
    "# sns.set(style=\"whitegrid\")\n",
    "# fig, ax = plt.subplots(1, 1, figsize=(10, 15))\n",
    "\n",
    "# # 绘制散点图\n",
    "# sns.scatterplot(data=grouped, x='factor_mean', y='return_mean', ax=ax, color='blue')\n",
    "\n",
    "# # 绘制三次拟合曲线\n",
    "# ax.plot(x_fit, y_fit, color='red', label='Cubic Fit')\n",
    "\n",
    "# ax.set_title('Factor vs Return with Cubic Fit')\n",
    "# ax.legend()\n",
    "\n",
    "# plt.show()\n"
   ]
  },
  {
   "cell_type": "code",
   "execution_count": 88,
   "metadata": {},
   "outputs": [],
   "source": [
    "# grouped"
   ]
  },
  {
   "cell_type": "code",
   "execution_count": 89,
   "metadata": {},
   "outputs": [],
   "source": [
    "# # X 和 y 是从 DataFrame 中提取的\n",
    "# X = grouped['factor_mean'].values.reshape(-1, 1)  # 确保 X 是二维数组\n",
    "# y = grouped['return_mean']  # y 是一维数组\n",
    "\n",
    "# # 创建并训练线性回归模型\n",
    "# model = LinearRegression()\n",
    "# model.fit(X, y)\n",
    "\n",
    "# # 获取回归参数\n",
    "# slope = model.coef_[0]  # 回归系数\n",
    "# intercept = model.intercept_  # 截距\n",
    "\n",
    "# # 打印回归参数\n",
    "# print(f\"回归系数 (slope): {slope}\")\n",
    "# print(f\"截距 (intercept): {intercept}\")\n",
    "\n",
    "# # 可视化回归结果\n",
    "# plt.scatter(X, y, color='blue', label='数据点')\n",
    "# plt.plot(X, model.predict(X), color='red', label=f'y = {slope:.2f} * X + {intercept:.2f}')\n",
    "# plt.xlabel('Factor')\n",
    "# plt.ylabel('Return')\n",
    "# plt.title('线性回归')\n",
    "# plt.legend()\n",
    "# plt.show()"
   ]
  },
  {
   "cell_type": "code",
   "execution_count": null,
   "metadata": {},
   "outputs": [],
   "source": []
  },
  {
   "cell_type": "markdown",
   "metadata": {},
   "source": [
    "# 基准因子的IC值"
   ]
  },
  {
   "cell_type": "code",
   "execution_count": 90,
   "metadata": {},
   "outputs": [],
   "source": [
    "# new_table['Base_factor'] = -(new_table['AskVolume1']-new_table['BidVolume1'])/(new_table['AskVolume1']+new_table['BidVolume1'])\n",
    "# # new_table['Base_factor'].replace([np.inf, -np.inf], np.nan, inplace=True)\n",
    "# # new_table['Base_factor'].fillna(0,inplace=True)\n",
    "# ic_value = calculate_ic(new_table['Base_factor'],new_table['frt_120'])\n",
    "# print(f'经典因子的 IC 值：{ic_value}')"
   ]
  },
  {
   "cell_type": "code",
   "execution_count": 91,
   "metadata": {},
   "outputs": [],
   "source": [
    "# # 将因子分段排序\n",
    "# new_table_sorted = new_table.sort_values(by='Base_factor', ascending=True)\n",
    "# new_table_sorted['group'] = pd.qcut(new_table['Base_factor'], 100, labels=False,duplicates='drop')\n",
    "\n",
    "# # 计算每组内 Factor1 和 return 的均值\n",
    "# grouped = new_table_sorted.groupby('group').agg(\n",
    "#     Base_factor_mean=('Base_factor', 'mean'),\n",
    "#     return_mean=('return', 'mean')\n",
    "# ).reset_index()\n",
    "\n",
    "\n",
    "# sns.set(style=\"whitegrid\")\n",
    "\n",
    "# fig, ax = plt.subplots(1, 1, figsize=(10, 15))\n",
    "# sns.scatterplot(data=grouped, x='Base_factor_mean', y='return_mean', ax=ax, color='blue')\n",
    "# ax.set_title('Factor vs Return')\n",
    "# # 添加回归线\n",
    "# sns.regplot(x='Base_factor_mean', y='return_mean', data=grouped, ax=ax, scatter=False, color='blue')"
   ]
  },
  {
   "cell_type": "code",
   "execution_count": 92,
   "metadata": {},
   "outputs": [],
   "source": [
    "# # 将因子分段排序\n",
    "# new_table_sorted = new_table.sort_values(by='Base_factor', ascending=True)\n",
    "# new_table_sorted['group'] = pd.qcut(new_table['Base_factor'], 100, labels=False,duplicates='drop')\n",
    "\n",
    "# # 获取实际的最大组和最小组编号\n",
    "# max_group = new_table_sorted['group'].max()\n",
    "# min_group = new_table_sorted['group'].min()\n",
    "\n",
    "# # 提取最大组和最小组的数据\n",
    "# top_group = new_table_sorted[new_table_sorted['group'] == max_group]\n",
    "# bottom_group = new_table_sorted[new_table_sorted['group'] == min_group]\n",
    "\n",
    "\n",
    "# # # 去掉超过若干个标准差的异常值\n",
    "# # def remove_outliers(df, column):\n",
    "# #     mean = df[column].mean()\n",
    "# #     std = df[column].std()\n",
    "# #     return df[(df[column] >= mean -  2 * std) & (df[column] <= mean + 2 * std)]\n",
    "\n",
    "# # top_group = remove_outliers(top_group, 'frt_120')\n",
    "# # bottom_group = remove_outliers(bottom_group, 'frt_120')\n",
    "\n",
    "# # 计算标准差\n",
    "# top_group_std = top_group['frt_120'].std()\n",
    "# bottom_group_std = bottom_group['frt_120'].std()\n",
    "\n",
    "# # 可视化：箱型图\n",
    "# sns.set(style=\"whitegrid\")\n",
    "# fig, ax = plt.subplots(1, 2, figsize=(15, 8))\n",
    "\n",
    "# sns.boxplot(y=top_group['frt_120'], ax=ax[0], color='skyblue')\n",
    "# ax[0].set_title(f'Max Group (std: {top_group_std:.2f})')\n",
    "\n",
    "# sns.boxplot(y=bottom_group['frt_120'], ax=ax[1], color='salmon')\n",
    "# ax[1].set_title(f'Min Group (std: {bottom_group_std:.2f})')\n",
    "\n",
    "# plt.tight_layout()\n",
    "# plt.show()"
   ]
  },
  {
   "cell_type": "code",
   "execution_count": 93,
   "metadata": {},
   "outputs": [],
   "source": [
    "# new_table[['factor','Base_factor']].corr()"
   ]
  }
 ],
 "metadata": {
  "kernelspec": {
   "display_name": "Teroooo",
   "language": "python",
   "name": "python3"
  },
  "language_info": {
   "codemirror_mode": {
    "name": "ipython",
    "version": 3
   },
   "file_extension": ".py",
   "mimetype": "text/x-python",
   "name": "python",
   "nbconvert_exporter": "python",
   "pygments_lexer": "ipython3",
   "version": "3.10.16"
  }
 },
 "nbformat": 4,
 "nbformat_minor": 2
}
